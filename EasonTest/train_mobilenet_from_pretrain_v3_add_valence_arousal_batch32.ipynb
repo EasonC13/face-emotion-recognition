{
 "cells": [
  {
   "cell_type": "markdown",
   "metadata": {},
   "source": [
    "# 01/20"
   ]
  },
  {
   "cell_type": "markdown",
   "metadata": {
    "ExecuteTime": {
     "end_time": "2022-01-18T12:50:25.876212Z",
     "start_time": "2022-01-18T12:50:25.870149Z"
    }
   },
   "source": [
    "%matplotlib inline"
   ]
  },
  {
   "cell_type": "code",
   "execution_count": 1,
   "metadata": {
    "ExecuteTime": {
     "end_time": "2022-01-22T15:41:58.415271Z",
     "start_time": "2022-01-22T15:41:58.404921Z"
    }
   },
   "outputs": [],
   "source": [
    "description = 'train_mobilenet_from_pretrain_v3_add_valence_arousal_batch32'"
   ]
  },
  {
   "cell_type": "code",
   "execution_count": 2,
   "metadata": {
    "ExecuteTime": {
     "end_time": "2022-01-22T15:41:59.929542Z",
     "start_time": "2022-01-22T15:41:58.416968Z"
    }
   },
   "outputs": [],
   "source": [
    "\n",
    "import os\n",
    "import numpy as np\n",
    "from sklearn.preprocessing import LabelEncoder\n",
    "import matplotlib.pyplot as plt\n",
    "import cv2\n",
    "from PIL import Image\n",
    "from random import shuffle\n",
    "import math\n",
    "\n",
    "import pandas as pd\n",
    "\n",
    "import pickle\n",
    "\n",
    "from sklearn.svm import SVC,LinearSVC\n",
    "from sklearn.ensemble import RandomForestClassifier, BaggingClassifier,ExtraTreesClassifier\n",
    "from sklearn.neural_network import MLPClassifier\n",
    "from sklearn import preprocessing\n",
    "\n",
    "#from scipy.misc import imread, imresize\n",
    "\n"
   ]
  },
  {
   "cell_type": "code",
   "execution_count": 3,
   "metadata": {
    "ExecuteTime": {
     "end_time": "2022-01-22T15:41:59.936303Z",
     "start_time": "2022-01-22T15:41:59.930927Z"
    }
   },
   "outputs": [],
   "source": [
    "import tqdm\n",
    "import json"
   ]
  },
  {
   "cell_type": "code",
   "execution_count": 4,
   "metadata": {
    "ExecuteTime": {
     "end_time": "2022-01-22T15:42:03.876902Z",
     "start_time": "2022-01-22T15:41:59.938073Z"
    }
   },
   "outputs": [],
   "source": [
    "train_df = pd.read_csv('../../data/Manually_Annotated_file_lists/training_face_mesh_crop.csv')\n",
    "train_df.subDirectory_filePath = '../../data/Manually_Annotated_Images_FaceMesh_Cropped/' + train_df.subDirectory_filePath\n",
    "\n",
    "#train_df_2 = pd.read_csv('../../data/Automatically_annotated_file_list/automatically_annotated_face_mesh_crop.csv')\n",
    "#train_df_2.subDirectory_filePath = '../../data/Automatically_Annotated_Images_FaceMesh_Cropped/' + train_df_2.subDirectory_filePath\n",
    "#train_df = train_df.append(train_df_2)\n",
    "#del train_df_2\n",
    "\n",
    "train_df = train_df[train_df['have_facemesh']]"
   ]
  },
  {
   "cell_type": "code",
   "execution_count": 5,
   "metadata": {
    "ExecuteTime": {
     "end_time": "2022-01-22T15:42:03.882477Z",
     "start_time": "2022-01-22T15:42:03.878197Z"
    }
   },
   "outputs": [
    {
     "name": "stdout",
     "output_type": "stream",
     "text": [
      "log_file_name='01_22_23:42:03.log'\n"
     ]
    }
   ],
   "source": [
    "from eason_utils import DataFrameBatchIterator\n",
    "from eason_utils import lprint, now_time_string, log_file_name, change_log_file_name\n",
    "\n",
    "change_log_file_name(f'''{log_file_name.replace('.log', '')}_{description}.log''')"
   ]
  },
  {
   "cell_type": "code",
   "execution_count": null,
   "metadata": {
    "ExecuteTime": {
     "end_time": "2022-01-19T13:57:18.682279Z",
     "start_time": "2022-01-19T13:57:18.670590Z"
    }
   },
   "outputs": [],
   "source": []
  },
  {
   "cell_type": "code",
   "execution_count": 6,
   "metadata": {
    "ExecuteTime": {
     "end_time": "2022-01-22T15:42:05.947705Z",
     "start_time": "2022-01-22T15:42:03.883752Z"
    }
   },
   "outputs": [],
   "source": [
    "os.environ['TF_CPP_MIN_LOG_LEVEL'] = '2'\n",
    "import tensorflow as tf\n",
    "config = tf.compat.v1.ConfigProto(gpu_options = tf.compat.v1.GPUOptions(allow_growth = True))\n",
    "sess = tf.compat.v1.Session(config = config)"
   ]
  },
  {
   "cell_type": "code",
   "execution_count": 7,
   "metadata": {
    "ExecuteTime": {
     "end_time": "2022-01-22T15:42:06.523016Z",
     "start_time": "2022-01-22T15:42:05.949183Z"
    }
   },
   "outputs": [
    {
     "name": "stdout",
     "output_type": "stream",
     "text": [
      "WARNING:tensorflow:No training configuration found in the save file, so the model was *not* compiled. Compile it manually.\n"
     ]
    }
   ],
   "source": [
    "mobilenet_pretrained = tf.keras.models.load_model(\"../models/affectnet_emotions/mobilenet_7.h5\")"
   ]
  },
  {
   "cell_type": "code",
   "execution_count": 8,
   "metadata": {
    "ExecuteTime": {
     "end_time": "2022-01-22T15:42:06.530851Z",
     "start_time": "2022-01-22T15:42:06.524910Z"
    }
   },
   "outputs": [],
   "source": [
    "mobilenet_pretrained.trainable = False\n",
    "mobilenet_output = mobilenet_pretrained.get_layer(\"global_pooling\").output"
   ]
  },
  {
   "cell_type": "code",
   "execution_count": 9,
   "metadata": {
    "ExecuteTime": {
     "end_time": "2022-01-22T15:42:06.535066Z",
     "start_time": "2022-01-22T15:42:06.532886Z"
    }
   },
   "outputs": [],
   "source": [
    "hidden_layers = [256]"
   ]
  },
  {
   "cell_type": "code",
   "execution_count": 10,
   "metadata": {
    "ExecuteTime": {
     "end_time": "2022-01-22T15:42:06.577047Z",
     "start_time": "2022-01-22T15:42:06.537914Z"
    }
   },
   "outputs": [],
   "source": [
    "valaence_feat = mobilenet_output\n",
    "for size in hidden_layers:\n",
    "    valence_feat = tf.keras.layers.Dense(size, activation = 'relu', name = f'feat_valence')(valaence_feat)\n",
    "outputs_valence = (tf.keras.layers.Dense(1, activation = 'sigmoid', name = 'outputs_valence')(valence_feat) * 4) - 2\n",
    "\n",
    "arousal_feat = mobilenet_output\n",
    "for size in hidden_layers:\n",
    "    arousal_feat = tf.keras.layers.Dense(size, activation = 'relu', name = f'feat_arousal')(arousal_feat)\n",
    "outputs_arousal = (tf.keras.layers.Dense(1, activation = 'sigmoid', name = 'outputs_arousal')(arousal_feat) * 4) - 2\n"
   ]
  },
  {
   "cell_type": "code",
   "execution_count": 11,
   "metadata": {
    "ExecuteTime": {
     "end_time": "2022-01-22T15:42:06.589111Z",
     "start_time": "2022-01-22T15:42:06.578449Z"
    }
   },
   "outputs": [],
   "source": [
    "model = tf.keras.Model(inputs=mobilenet_pretrained.input,\n",
    "                       outputs=(outputs_valence, outputs_arousal, mobilenet_pretrained.output) , name=\"mobilenet_train\")"
   ]
  },
  {
   "cell_type": "code",
   "execution_count": null,
   "metadata": {},
   "outputs": [],
   "source": []
  },
  {
   "cell_type": "code",
   "execution_count": 12,
   "metadata": {
    "ExecuteTime": {
     "end_time": "2022-01-22T15:42:06.631627Z",
     "start_time": "2022-01-22T15:42:06.590630Z"
    }
   },
   "outputs": [
    {
     "name": "stdout",
     "output_type": "stream",
     "text": [
      "Model: \"mobilenet_train\"\n",
      "__________________________________________________________________________________________________\n",
      " Layer (type)                   Output Shape         Param #     Connected to                     \n",
      "==================================================================================================\n",
      " input_1 (InputLayer)           [(None, 224, 224, 3  0           []                               \n",
      "                                )]                                                                \n",
      "                                                                                                  \n",
      " conv1_pad (ZeroPadding2D)      (None, 225, 225, 3)  0           ['input_1[0][0]']                \n",
      "                                                                                                  \n",
      " conv1 (Conv2D)                 (None, 112, 112, 32  864         ['conv1_pad[0][0]']              \n",
      "                                )                                                                 \n",
      "                                                                                                  \n",
      " conv1_bn (BatchNormalization)  (None, 112, 112, 32  128         ['conv1[0][0]']                  \n",
      "                                )                                                                 \n",
      "                                                                                                  \n",
      " conv1_relu (ReLU)              (None, 112, 112, 32  0           ['conv1_bn[0][0]']               \n",
      "                                )                                                                 \n",
      "                                                                                                  \n",
      " conv_dw_1 (DepthwiseConv2D)    (None, 112, 112, 32  288         ['conv1_relu[0][0]']             \n",
      "                                )                                                                 \n",
      "                                                                                                  \n",
      " conv_dw_1_bn (BatchNormalizati  (None, 112, 112, 32  128        ['conv_dw_1[0][0]']              \n",
      " on)                            )                                                                 \n",
      "                                                                                                  \n",
      " conv_dw_1_relu (ReLU)          (None, 112, 112, 32  0           ['conv_dw_1_bn[0][0]']           \n",
      "                                )                                                                 \n",
      "                                                                                                  \n",
      " conv_pw_1 (Conv2D)             (None, 112, 112, 64  2048        ['conv_dw_1_relu[0][0]']         \n",
      "                                )                                                                 \n",
      "                                                                                                  \n",
      " conv_pw_1_bn (BatchNormalizati  (None, 112, 112, 64  256        ['conv_pw_1[0][0]']              \n",
      " on)                            )                                                                 \n",
      "                                                                                                  \n",
      " conv_pw_1_relu (ReLU)          (None, 112, 112, 64  0           ['conv_pw_1_bn[0][0]']           \n",
      "                                )                                                                 \n",
      "                                                                                                  \n",
      " conv_pad_2 (ZeroPadding2D)     (None, 113, 113, 64  0           ['conv_pw_1_relu[0][0]']         \n",
      "                                )                                                                 \n",
      "                                                                                                  \n",
      " conv_dw_2 (DepthwiseConv2D)    (None, 56, 56, 64)   576         ['conv_pad_2[0][0]']             \n",
      "                                                                                                  \n",
      " conv_dw_2_bn (BatchNormalizati  (None, 56, 56, 64)  256         ['conv_dw_2[0][0]']              \n",
      " on)                                                                                              \n",
      "                                                                                                  \n",
      " conv_dw_2_relu (ReLU)          (None, 56, 56, 64)   0           ['conv_dw_2_bn[0][0]']           \n",
      "                                                                                                  \n",
      " conv_pw_2 (Conv2D)             (None, 56, 56, 128)  8192        ['conv_dw_2_relu[0][0]']         \n",
      "                                                                                                  \n",
      " conv_pw_2_bn (BatchNormalizati  (None, 56, 56, 128)  512        ['conv_pw_2[0][0]']              \n",
      " on)                                                                                              \n",
      "                                                                                                  \n",
      " conv_pw_2_relu (ReLU)          (None, 56, 56, 128)  0           ['conv_pw_2_bn[0][0]']           \n",
      "                                                                                                  \n",
      " conv_dw_3 (DepthwiseConv2D)    (None, 56, 56, 128)  1152        ['conv_pw_2_relu[0][0]']         \n",
      "                                                                                                  \n",
      " conv_dw_3_bn (BatchNormalizati  (None, 56, 56, 128)  512        ['conv_dw_3[0][0]']              \n",
      " on)                                                                                              \n",
      "                                                                                                  \n",
      " conv_dw_3_relu (ReLU)          (None, 56, 56, 128)  0           ['conv_dw_3_bn[0][0]']           \n",
      "                                                                                                  \n",
      " conv_pw_3 (Conv2D)             (None, 56, 56, 128)  16384       ['conv_dw_3_relu[0][0]']         \n",
      "                                                                                                  \n",
      " conv_pw_3_bn (BatchNormalizati  (None, 56, 56, 128)  512        ['conv_pw_3[0][0]']              \n",
      " on)                                                                                              \n",
      "                                                                                                  \n",
      " conv_pw_3_relu (ReLU)          (None, 56, 56, 128)  0           ['conv_pw_3_bn[0][0]']           \n",
      "                                                                                                  \n",
      " conv_pad_4 (ZeroPadding2D)     (None, 57, 57, 128)  0           ['conv_pw_3_relu[0][0]']         \n",
      "                                                                                                  \n",
      " conv_dw_4 (DepthwiseConv2D)    (None, 28, 28, 128)  1152        ['conv_pad_4[0][0]']             \n",
      "                                                                                                  \n",
      " conv_dw_4_bn (BatchNormalizati  (None, 28, 28, 128)  512        ['conv_dw_4[0][0]']              \n",
      " on)                                                                                              \n",
      "                                                                                                  \n",
      " conv_dw_4_relu (ReLU)          (None, 28, 28, 128)  0           ['conv_dw_4_bn[0][0]']           \n",
      "                                                                                                  \n",
      " conv_pw_4 (Conv2D)             (None, 28, 28, 256)  32768       ['conv_dw_4_relu[0][0]']         \n",
      "                                                                                                  \n",
      " conv_pw_4_bn (BatchNormalizati  (None, 28, 28, 256)  1024       ['conv_pw_4[0][0]']              \n",
      " on)                                                                                              \n",
      "                                                                                                  \n",
      " conv_pw_4_relu (ReLU)          (None, 28, 28, 256)  0           ['conv_pw_4_bn[0][0]']           \n",
      "                                                                                                  \n",
      " conv_dw_5 (DepthwiseConv2D)    (None, 28, 28, 256)  2304        ['conv_pw_4_relu[0][0]']         \n",
      "                                                                                                  \n",
      " conv_dw_5_bn (BatchNormalizati  (None, 28, 28, 256)  1024       ['conv_dw_5[0][0]']              \n",
      " on)                                                                                              \n",
      "                                                                                                  \n",
      " conv_dw_5_relu (ReLU)          (None, 28, 28, 256)  0           ['conv_dw_5_bn[0][0]']           \n",
      "                                                                                                  \n",
      " conv_pw_5 (Conv2D)             (None, 28, 28, 256)  65536       ['conv_dw_5_relu[0][0]']         \n",
      "                                                                                                  \n",
      " conv_pw_5_bn (BatchNormalizati  (None, 28, 28, 256)  1024       ['conv_pw_5[0][0]']              \n",
      " on)                                                                                              \n",
      "                                                                                                  \n",
      " conv_pw_5_relu (ReLU)          (None, 28, 28, 256)  0           ['conv_pw_5_bn[0][0]']           \n",
      "                                                                                                  \n",
      " conv_pad_6 (ZeroPadding2D)     (None, 29, 29, 256)  0           ['conv_pw_5_relu[0][0]']         \n",
      "                                                                                                  \n",
      " conv_dw_6 (DepthwiseConv2D)    (None, 14, 14, 256)  2304        ['conv_pad_6[0][0]']             \n",
      "                                                                                                  \n",
      " conv_dw_6_bn (BatchNormalizati  (None, 14, 14, 256)  1024       ['conv_dw_6[0][0]']              \n",
      " on)                                                                                              \n",
      "                                                                                                  \n",
      " conv_dw_6_relu (ReLU)          (None, 14, 14, 256)  0           ['conv_dw_6_bn[0][0]']           \n",
      "                                                                                                  \n",
      " conv_pw_6 (Conv2D)             (None, 14, 14, 512)  131072      ['conv_dw_6_relu[0][0]']         \n",
      "                                                                                                  \n",
      " conv_pw_6_bn (BatchNormalizati  (None, 14, 14, 512)  2048       ['conv_pw_6[0][0]']              \n",
      " on)                                                                                              \n",
      "                                                                                                  \n",
      " conv_pw_6_relu (ReLU)          (None, 14, 14, 512)  0           ['conv_pw_6_bn[0][0]']           \n",
      "                                                                                                  \n",
      " conv_dw_7 (DepthwiseConv2D)    (None, 14, 14, 512)  4608        ['conv_pw_6_relu[0][0]']         \n",
      "                                                                                                  \n",
      " conv_dw_7_bn (BatchNormalizati  (None, 14, 14, 512)  2048       ['conv_dw_7[0][0]']              \n",
      " on)                                                                                              \n",
      "                                                                                                  \n",
      " conv_dw_7_relu (ReLU)          (None, 14, 14, 512)  0           ['conv_dw_7_bn[0][0]']           \n",
      "                                                                                                  \n",
      " conv_pw_7 (Conv2D)             (None, 14, 14, 512)  262144      ['conv_dw_7_relu[0][0]']         \n",
      "                                                                                                  \n",
      " conv_pw_7_bn (BatchNormalizati  (None, 14, 14, 512)  2048       ['conv_pw_7[0][0]']              \n",
      " on)                                                                                              \n",
      "                                                                                                  \n",
      " conv_pw_7_relu (ReLU)          (None, 14, 14, 512)  0           ['conv_pw_7_bn[0][0]']           \n",
      "                                                                                                  \n",
      " conv_dw_8 (DepthwiseConv2D)    (None, 14, 14, 512)  4608        ['conv_pw_7_relu[0][0]']         \n",
      "                                                                                                  \n",
      " conv_dw_8_bn (BatchNormalizati  (None, 14, 14, 512)  2048       ['conv_dw_8[0][0]']              \n",
      " on)                                                                                              \n",
      "                                                                                                  \n",
      " conv_dw_8_relu (ReLU)          (None, 14, 14, 512)  0           ['conv_dw_8_bn[0][0]']           \n",
      "                                                                                                  \n",
      " conv_pw_8 (Conv2D)             (None, 14, 14, 512)  262144      ['conv_dw_8_relu[0][0]']         \n",
      "                                                                                                  \n",
      " conv_pw_8_bn (BatchNormalizati  (None, 14, 14, 512)  2048       ['conv_pw_8[0][0]']              \n",
      " on)                                                                                              \n",
      "                                                                                                  \n",
      " conv_pw_8_relu (ReLU)          (None, 14, 14, 512)  0           ['conv_pw_8_bn[0][0]']           \n",
      "                                                                                                  \n",
      " conv_dw_9 (DepthwiseConv2D)    (None, 14, 14, 512)  4608        ['conv_pw_8_relu[0][0]']         \n",
      "                                                                                                  \n",
      " conv_dw_9_bn (BatchNormalizati  (None, 14, 14, 512)  2048       ['conv_dw_9[0][0]']              \n",
      " on)                                                                                              \n",
      "                                                                                                  \n",
      " conv_dw_9_relu (ReLU)          (None, 14, 14, 512)  0           ['conv_dw_9_bn[0][0]']           \n",
      "                                                                                                  \n",
      " conv_pw_9 (Conv2D)             (None, 14, 14, 512)  262144      ['conv_dw_9_relu[0][0]']         \n",
      "                                                                                                  \n",
      " conv_pw_9_bn (BatchNormalizati  (None, 14, 14, 512)  2048       ['conv_pw_9[0][0]']              \n",
      " on)                                                                                              \n",
      "                                                                                                  \n",
      " conv_pw_9_relu (ReLU)          (None, 14, 14, 512)  0           ['conv_pw_9_bn[0][0]']           \n",
      "                                                                                                  \n",
      " conv_dw_10 (DepthwiseConv2D)   (None, 14, 14, 512)  4608        ['conv_pw_9_relu[0][0]']         \n",
      "                                                                                                  \n",
      " conv_dw_10_bn (BatchNormalizat  (None, 14, 14, 512)  2048       ['conv_dw_10[0][0]']             \n",
      " ion)                                                                                             \n",
      "                                                                                                  \n",
      " conv_dw_10_relu (ReLU)         (None, 14, 14, 512)  0           ['conv_dw_10_bn[0][0]']          \n",
      "                                                                                                  \n",
      " conv_pw_10 (Conv2D)            (None, 14, 14, 512)  262144      ['conv_dw_10_relu[0][0]']        \n",
      "                                                                                                  \n",
      " conv_pw_10_bn (BatchNormalizat  (None, 14, 14, 512)  2048       ['conv_pw_10[0][0]']             \n",
      " ion)                                                                                             \n",
      "                                                                                                  \n",
      " conv_pw_10_relu (ReLU)         (None, 14, 14, 512)  0           ['conv_pw_10_bn[0][0]']          \n",
      "                                                                                                  \n",
      " conv_dw_11 (DepthwiseConv2D)   (None, 14, 14, 512)  4608        ['conv_pw_10_relu[0][0]']        \n",
      "                                                                                                  \n",
      " conv_dw_11_bn (BatchNormalizat  (None, 14, 14, 512)  2048       ['conv_dw_11[0][0]']             \n",
      " ion)                                                                                             \n",
      "                                                                                                  \n",
      " conv_dw_11_relu (ReLU)         (None, 14, 14, 512)  0           ['conv_dw_11_bn[0][0]']          \n",
      "                                                                                                  \n",
      " conv_pw_11 (Conv2D)            (None, 14, 14, 512)  262144      ['conv_dw_11_relu[0][0]']        \n",
      "                                                                                                  \n",
      " conv_pw_11_bn (BatchNormalizat  (None, 14, 14, 512)  2048       ['conv_pw_11[0][0]']             \n",
      " ion)                                                                                             \n",
      "                                                                                                  \n",
      " conv_pw_11_relu (ReLU)         (None, 14, 14, 512)  0           ['conv_pw_11_bn[0][0]']          \n",
      "                                                                                                  \n",
      " conv_pad_12 (ZeroPadding2D)    (None, 15, 15, 512)  0           ['conv_pw_11_relu[0][0]']        \n",
      "                                                                                                  \n",
      " conv_dw_12 (DepthwiseConv2D)   (None, 7, 7, 512)    4608        ['conv_pad_12[0][0]']            \n",
      "                                                                                                  \n",
      " conv_dw_12_bn (BatchNormalizat  (None, 7, 7, 512)   2048        ['conv_dw_12[0][0]']             \n",
      " ion)                                                                                             \n",
      "                                                                                                  \n",
      " conv_dw_12_relu (ReLU)         (None, 7, 7, 512)    0           ['conv_dw_12_bn[0][0]']          \n",
      "                                                                                                  \n",
      " conv_pw_12 (Conv2D)            (None, 7, 7, 1024)   524288      ['conv_dw_12_relu[0][0]']        \n",
      "                                                                                                  \n",
      " conv_pw_12_bn (BatchNormalizat  (None, 7, 7, 1024)  4096        ['conv_pw_12[0][0]']             \n",
      " ion)                                                                                             \n",
      "                                                                                                  \n",
      " conv_pw_12_relu (ReLU)         (None, 7, 7, 1024)   0           ['conv_pw_12_bn[0][0]']          \n",
      "                                                                                                  \n",
      " conv_dw_13 (DepthwiseConv2D)   (None, 7, 7, 1024)   9216        ['conv_pw_12_relu[0][0]']        \n",
      "                                                                                                  \n",
      " conv_dw_13_bn (BatchNormalizat  (None, 7, 7, 1024)  4096        ['conv_dw_13[0][0]']             \n",
      " ion)                                                                                             \n",
      "                                                                                                  \n",
      " conv_dw_13_relu (ReLU)         (None, 7, 7, 1024)   0           ['conv_dw_13_bn[0][0]']          \n",
      "                                                                                                  \n",
      " conv_pw_13 (Conv2D)            (None, 7, 7, 1024)   1048576     ['conv_dw_13_relu[0][0]']        \n",
      "                                                                                                  \n",
      " conv_pw_13_bn (BatchNormalizat  (None, 7, 7, 1024)  4096        ['conv_pw_13[0][0]']             \n",
      " ion)                                                                                             \n",
      "                                                                                                  \n",
      " conv_pw_13_relu (ReLU)         (None, 7, 7, 1024)   0           ['conv_pw_13_bn[0][0]']          \n",
      "                                                                                                  \n",
      " global_pooling (GlobalAverageP  (None, 1024)        0           ['conv_pw_13_relu[0][0]']        \n",
      " ooling2D)                                                                                        \n",
      "                                                                                                  \n",
      " feat_valence (Dense)           (None, 256)          262400      ['global_pooling[0][0]']         \n",
      "                                                                                                  \n",
      " feat_arousal (Dense)           (None, 256)          262400      ['global_pooling[0][0]']         \n",
      "                                                                                                  \n",
      " outputs_valence (Dense)        (None, 1)            257         ['feat_valence[0][0]']           \n",
      "                                                                                                  \n",
      " outputs_arousal (Dense)        (None, 1)            257         ['feat_arousal[0][0]']           \n",
      "                                                                                                  \n",
      " dropout_1 (Dropout)            (None, 1024)         0           ['global_pooling[0][0]']         \n",
      "                                                                                                  \n",
      " tf.math.multiply (TFOpLambda)  (None, 1)            0           ['outputs_valence[0][0]']        \n",
      "                                                                                                  \n",
      " tf.math.multiply_1 (TFOpLambda  (None, 1)           0           ['outputs_arousal[0][0]']        \n",
      " )                                                                                                \n",
      "                                                                                                  \n",
      " feats (Dense)                  (None, 256)          262400      ['dropout_1[0][0]']              \n",
      "                                                                                                  \n",
      " tf.math.subtract (TFOpLambda)  (None, 1)            0           ['tf.math.multiply[0][0]']       \n",
      "                                                                                                  \n",
      " tf.math.subtract_1 (TFOpLambda  (None, 1)           0           ['tf.math.multiply_1[0][0]']     \n",
      " )                                                                                                \n",
      "                                                                                                  \n",
      " emotion_preds (Dense)          (None, 7)            1799        ['feats[0][0]']                  \n",
      "                                                                                                  \n",
      "==================================================================================================\n",
      "Total params: 4,018,377\n",
      "Trainable params: 525,314\n",
      "Non-trainable params: 3,493,063\n",
      "__________________________________________________________________________________________________\n"
     ]
    }
   ],
   "source": [
    "model.summary()"
   ]
  },
  {
   "cell_type": "code",
   "execution_count": 13,
   "metadata": {
    "ExecuteTime": {
     "end_time": "2022-01-22T15:42:06.635971Z",
     "start_time": "2022-01-22T15:42:06.632894Z"
    }
   },
   "outputs": [],
   "source": [
    "# Instantiate an optimizer.\n",
    "optimizer = tf.keras.optimizers.Adam()\n",
    "# Instantiate a loss function.\n",
    "MSE_loss = tf.keras.losses.MeanSquaredError()\n",
    "SCC_loss = tf.keras.losses.SparseCategoricalCrossentropy()"
   ]
  },
  {
   "cell_type": "code",
   "execution_count": 14,
   "metadata": {
    "ExecuteTime": {
     "end_time": "2022-01-22T15:42:06.640150Z",
     "start_time": "2022-01-22T15:42:06.637325Z"
    }
   },
   "outputs": [],
   "source": [
    "batch_size = 32\n",
    "epochs = 4\n",
    "\n",
    "logs = []"
   ]
  },
  {
   "cell_type": "code",
   "execution_count": null,
   "metadata": {
    "ExecuteTime": {
     "start_time": "2022-01-22T15:41:54.967Z"
    }
   },
   "outputs": [
    {
     "name": "stdout",
     "output_type": "stream",
     "text": [
      "{\"emotion_correct\": 2, \"valence_loss\": 1.648931622505188, \"arousal_loss\": 2.094984292984009, \"emotion_loss\": NaN, \"time_take\": 2.59694504737854, \"pred_valence\": [0.18400000035762787, 0.003000000026077032, -0.1120000034570694, 0.05400000140070915, -0.15399999916553497, -0.1850000023841858, 0.028999999165534973, -0.4180000126361847, 0.15299999713897705, -0.35199999809265137, 0.032999999821186066, -0.11299999803304672, -0.06300000101327896, -0.06400000303983688, -0.08799999952316284, -0.33500000834465027, -0.21899999678134918, -0.0949999988079071, -0.7870000004768372, -0.2460000067949295, -0.11500000208616257, 0.125, -0.08100000023841858, 0.15600000321865082, -0.10599999874830246, -0.34599998593330383, -0.24799999594688416, 0.26899999380111694, -0.09000000357627869, 0.10700000077486038, -0.16300000250339508, -0.17800000309944153], \"pred_arousal\": [0.3409999907016754, 0.210999995470047, 0.052000001072883606, 0.21799999475479126, 0.2370000034570694, 0.04500000178813934, -0.18000000715255737, 0.35899999737739563, -0.09099999815225601, 0.04399999976158142, 0.1770000010728836, 0.20399999618530273, -0.17100000381469727, 0.33000001311302185, 0.46799999475479126, -0.028999999165534973, 0.01899999938905239, 0.515999972820282, 0.6340000033378601, -0.02800000086426735, 0.4359999895095825, 0.1469999998807907, 0.597000002861023, 0.2800000011920929, -0.024000000208616257, 0.07900000363588333, 0.16099999845027924, 0.7590000033378601, 0.15600000321865082, 0.375, 0.03999999910593033, 0.2029999941587448]}\n",
      "{\"emotion_correct\": 1, \"valence_loss\": 1.765338659286499, \"arousal_loss\": 1.386631727218628, \"emotion_loss\": NaN, \"time_take\": 2.8203518390655518, \"pred_valence\": [-1.3880000114440918, -1.0520000457763672, -1.253999948501587, -0.6729999780654907, -0.9330000281333923, -1.069000005722046, -1.0829999446868896, -1.0160000324249268, -0.9330000281333923, -1.3559999465942383, -1.2039999961853027, -1.121000051498413, -1.3569999933242798, -1.7569999694824219, -1.1050000190734863, -1.434000015258789, -1.0709999799728394, -1.6790000200271606, -1.6339999437332153, -1.565000057220459, -1.3650000095367432, -1.0800000429153442, -1.4210000038146973, -1.3450000286102295, -1.4509999752044678, -0.9480000138282776, -1.371999979019165, -0.5529999732971191, -1.0850000381469727, -1.0069999694824219, -1.4730000495910645, -1.0210000276565552], \"pred_arousal\": [-1.4550000429153442, -0.8370000123977661, -1.1369999647140503, -0.6159999966621399, -1.0089999437332153, -0.8700000047683716, -0.859000027179718, -1.0260000228881836, -1.034999966621399, -1.156000018119812, -0.9660000205039978, -1.0800000429153442, -1.4049999713897705, -1.6030000448226929, -0.8259999752044678, -1.0069999694824219, -1.1430000066757202, -1.5099999904632568, -1.3140000104904175, -1.281999945640564, -1.1449999809265137, -0.7960000038146973, -1.1729999780654907, -1.3960000276565552, -0.9210000038146973, -0.7250000238418579, -0.8550000190734863, -0.8389999866485596, -1.180999994277954, -0.9240000247955322, -1.1160000562667847, -1.1180000305175781]}\n",
      "{\"emotion_correct\": 1, \"valence_loss\": 2.0006861686706543, \"arousal_loss\": 1.7025586366653442, \"emotion_loss\": NaN, \"time_take\": 2.9787213802337646, \"pred_valence\": [-1.5149999856948853, -1.5490000247955322, -0.9419999718666077, -1.3020000457763672, -1.2549999952316284, -1.4980000257492065, -1.340000033378601, -1.4830000400543213, -1.6859999895095825, -0.6349999904632568, -1.1440000534057617, -1.0640000104904175, -1.2630000114440918, -1.1660000085830688, -1.2130000591278076, -0.8849999904632568, -1.6699999570846558, -0.9750000238418579, -0.9559999704360962, -1.5809999704360962, -1.2350000143051147, -1.1009999513626099, -1.11899995803833, -1.2280000448226929, -1.503999948501587, -1.2979999780654907, -1.680999994277954, -1.531999945640564, -1.6480000019073486, -1.1430000066757202, -1.3220000267028809, -1.4170000553131104], \"pred_arousal\": [-1.562999963760376, -1.6460000276565552, -1.0440000295639038, -1.4110000133514404, -1.1030000448226929, -1.187999963760376, -1.343999981880188, -1.4520000219345093, -1.5520000457763672, -0.9340000152587891, -1.187999963760376, -1.0859999656677246, -1.284000039100647, -1.3389999866485596, -1.2239999771118164, -0.9449999928474426, -1.5540000200271606, -1.180999994277954, -0.9559999704360962, -1.565999984741211, -1.1239999532699585, -1.1629999876022339, -1.2920000553131104, -1.4179999828338623, -1.340000033378601, -1.4110000133514404, -1.7000000476837158, -1.2020000219345093, -1.7280000448226929, -0.9929999709129333, -1.6130000352859497, -1.4490000009536743]}\n",
      "{\"emotion_correct\": 0, \"valence_loss\": 1.781177282333374, \"arousal_loss\": 1.6743513345718384, \"emotion_loss\": NaN, \"time_take\": 3.2007250785827637, \"pred_valence\": [-1.3880000114440918, -0.7419999837875366, -0.8539999723434448, -1.2619999647140503, -0.9570000171661377, -0.8980000019073486, -1.1759999990463257, -1.034999966621399, -1.0729999542236328, -0.8500000238418579, -1.3860000371932983, -1.2350000143051147, -1.1829999685287476, -1.4819999933242798, -1.2940000295639038, -0.8429999947547913, -1.1150000095367432, -1.1959999799728394, -1.0069999694824219, -1.2719999551773071, -0.8309999704360962, -1.284999966621399, -1.1009999513626099, -1.2890000343322754, -1.2380000352859497, -1.1260000467300415, -0.9210000038146973, -1.3639999628067017, -0.9700000286102295, -1.156000018119812, -1.0490000247955322, -0.6600000262260437], \"pred_arousal\": [-1.7719999551773071, -1.090000033378601, -1.034000039100647, -1.684999942779541, -1.2050000429153442, -1.184000015258789, -1.4980000257492065, -1.097000002861023, -1.246999979019165, -1.0740000009536743, -1.3580000400543213, -1.3890000581741333, -1.1100000143051147, -1.309000015258789, -1.2710000276565552, -1.1039999723434448, -1.215000033378601, -1.1180000305175781, -1.0700000524520874, -1.1799999475479126, -1.1640000343322754, -1.371999979019165, -1.0399999618530273, -1.1970000267028809, -1.1339999437332153, -1.190999984741211, -0.781000018119812, -1.4919999837875366, -1.2050000429153442, -1.4570000171661377, -0.8930000066757202, -0.6800000071525574]}\n",
      "{\"emotion_correct\": 0, \"valence_loss\": 1.0823938846588135, \"arousal_loss\": 0.9157204627990723, \"emotion_loss\": NaN, \"time_take\": 3.398418426513672, \"pred_valence\": [-0.9179999828338623, -0.3970000147819519, -0.4359999895095825, -0.6579999923706055, -0.7839999794960022, -0.8479999899864197, -0.9670000076293945, -0.621999979019165, -0.871999979019165, -0.34200000762939453, -0.43299999833106995, -0.17000000178813934, -0.12300000339746475, -0.4339999854564667, -0.06400000303983688, -0.6589999794960022, -0.2759999930858612, -0.4480000138282776, -0.8859999775886536, -0.6869999766349792, -0.4059999883174896, -0.47600001096725464, -0.5519999861717224, -0.5389999747276306, -0.5929999947547913, -0.10100000351667404, -0.5600000023841858, -0.492000013589859, -0.8209999799728394, -0.5329999923706055, -0.5339999794960022, -0.6600000262260437], \"pred_arousal\": [-0.9229999780654907, -0.7549999952316284, -0.9679999947547913, -0.9649999737739563, -1.093999981880188, -1.3839999437332153, -1.0850000381469727, -0.7450000047683716, -1.347000002861023, -0.7749999761581421, -1.0230000019073486, -0.7839999794960022, -0.28600001335144043, -0.5120000243186951, -0.335999995470047, -0.7200000286102295, -0.2709999978542328, -0.6980000138282776, -0.984000027179718, -0.8230000138282776, -0.6700000166893005, -0.5419999957084656, -0.7929999828338623, -0.8330000042915344, -1.0670000314712524, -0.3720000088214874, -0.734000027179718, -0.2290000021457672, -1.1360000371932983, -0.8270000219345093, -0.7519999742507935, -0.49399998784065247]}\n",
      "{\"emotion_correct\": 1, \"valence_loss\": 1.0082783699035645, \"arousal_loss\": 0.876744270324707, \"emotion_loss\": NaN, \"time_take\": 3.5578837394714355, \"pred_valence\": [-0.06300000101327896, -0.035999998450279236, 0.24400000274181366, -0.1599999964237213, 0.2329999953508377, 0.22200000286102295, 0.3199999928474426, -0.04699999839067459, -0.1679999977350235, 0.6480000019073486, -0.21299999952316284, -0.05000000074505806, 0.19900000095367432, 0.47200000286102295, -0.20399999618530273, -0.08100000023841858, 0.6309999823570251, 0.12300000339746475, 0.5640000104904175, -0.05999999865889549, -0.11599999666213989, -0.4440000057220459, -0.04899999871850014, 0.6859999895095825, 0.2199999988079071, -0.3140000104904175, 0.22599999606609344, -0.0989999994635582, 0.010999999940395355, 0.3070000112056732, 0.375, 0.289000004529953], \"pred_arousal\": [-0.6899999976158142, -0.44699999690055847, 0.11599999666213989, -0.4449999928474426, -0.609000027179718, -0.11599999666213989, -0.6269999742507935, -0.4009999930858612, -0.5040000081062317, -0.02500000037252903, -0.2280000001192093, -0.7269999980926514, 0.03700000047683716, -0.9319999814033508, -0.6759999990463257, -0.32899999618530273, -0.2849999964237213, -0.24400000274181366, 0.07000000029802322, -0.41200000047683716, -0.503000020980835, -0.3479999899864197, -0.3499999940395355, 0.057999998331069946, 0.0020000000949949026, -0.3370000123977661, -0.7400000095367432, -0.4909999966621399, -0.47699999809265137, -0.1850000023841858, 0.19699999690055847, 0.28700000047683716]}\n"
     ]
    },
    {
     "name": "stdout",
     "output_type": "stream",
     "text": [
      "{\"emotion_correct\": 1, \"valence_loss\": 1.6851770877838135, \"arousal_loss\": 1.3010191917419434, \"emotion_loss\": NaN, \"time_take\": 3.793994665145874, \"pred_valence\": [0.1589999943971634, 0.9760000109672546, 0.6959999799728394, 0.014999999664723873, 0.9269999861717224, 0.34200000762939453, 0.20600000023841858, 0.2770000100135803, 0.7120000123977661, -0.0820000022649765, -0.0560000017285347, -0.00800000037997961, 0.2460000067949295, 0.3009999990463257, -0.18199999630451202, 0.05000000074505806, 0.2639999985694885, 0.44200000166893005, 0.03999999910593033, 0.9789999723434448, 0.05900000035762787, 0.328000009059906, 0.12700000405311584, 0.921999990940094, -0.027000000700354576, 0.00800000037997961, 0.07199999690055847, -0.02800000086426735, 0.8450000286102295, 0.12200000137090683, 0.11900000274181366, 0.8220000267028809], \"pred_arousal\": [-0.13899999856948853, 0.9369999766349792, 0.5379999876022339, -0.32499998807907104, 0.828000009059906, 0.050999999046325684, 0.06499999761581421, 0.16899999976158142, 0.5049999952316284, -0.3499999940395355, -0.28600001335144043, -0.25099998712539673, 0.11400000005960464, -0.10400000214576721, -0.3019999861717224, -0.017000000923871994, -0.2290000021457672, -0.3109999895095825, -0.5849999785423279, 0.878000020980835, -0.21699999272823334, -0.10599999874830246, -0.34599998593330383, 0.382999986410141, 0.0689999982714653, -0.10300000011920929, 0.2770000100135803, 0.06400000303983688, 0.3880000114440918, -0.0949999988079071, 0.11999999731779099, 0.8180000185966492]}\n",
      "{\"emotion_correct\": 1, \"valence_loss\": 2.0940892696380615, \"arousal_loss\": 2.06272554397583, \"emotion_loss\": NaN, \"time_take\": 4.127927303314209, \"pred_valence\": [0.8169999718666077, 1.0989999771118164, 0.33899998664855957, 0.05400000140070915, 0.20600000023841858, 0.5910000205039978, -0.1550000011920929, 0.3880000114440918, 0.6850000023841858, 0.34200000762939453, 0.5920000076293945, 1.2699999809265137, 1.0549999475479126, 1.1030000448226929, 0.3619999885559082, 0.6460000276565552, 0.08799999952316284, 0.7929999828338623, 0.5600000023841858, 0.23199999332427979, 0.23199999332427979, 0.3540000021457672, 0.22300000488758087, 0.7850000262260437, 0.4909999966621399, 0.27000001072883606, -0.017000000923871994, 0.847000002861023, 0.6869999766349792, 0.2590000033378601, 0.7450000047683716, 0.20800000429153442], \"pred_arousal\": [0.968999981880188, 1.1820000410079956, 0.20100000500679016, -0.07999999821186066, -0.2669999897480011, 0.6830000281333923, 0.3190000057220459, 0.6859999895095825, 0.5870000123977661, 0.20600000023841858, 0.6399999856948853, 0.9390000104904175, 0.9980000257492065, 1.3009999990463257, -0.35100001096725464, 1.0110000371932983, -0.36000001430511475, 0.9700000286102295, 0.5410000085830688, -0.02800000086426735, 0.3240000009536743, 0.2980000078678131, -0.014999999664723873, 0.9409999847412109, 0.19200000166893005, 0.0689999982714653, -0.1770000010728836, 0.6940000057220459, 0.6959999799728394, 0.07800000160932541, 1.0700000524520874, 0.3160000145435333]}\n",
      "{\"emotion_correct\": 1, \"valence_loss\": 1.196355938911438, \"arousal_loss\": 1.0205073356628418, \"emotion_loss\": NaN, \"time_take\": 4.324637174606323, \"pred_valence\": [0.164000004529953, -0.08799999952316284, -0.16099999845027924, 0.6119999885559082, 0.39800000190734863, 0.8199999928474426, 0.257999986410141, 0.23100000619888306, 0.6050000190734863, 0.3179999887943268, 0.06199999898672104, 0.3140000104904175, 0.22599999606609344, 0.5419999957084656, 0.37599998712539673, 0.492000013589859, 0.3889999985694885, 0.29899999499320984, 0.6060000061988831, 0.31700000166893005, 0.39899998903274536, -0.07699999958276749, 0.10300000011920929, -0.11599999666213989, 0.23000000417232513, 0.22499999403953552, 0.1809999942779541, 0.7360000014305115, 0.46399998664855957, 0.07199999690055847, 0.33000001311302185, -0.04699999839067459], \"pred_arousal\": [0.25999999046325684, 0.0560000017285347, 0.11599999666213989, 0.2240000069141388, 0.5899999737739563, 0.38999998569488525, 0.3540000021457672, -0.01899999938905239, 0.6029999852180481, -0.05400000140070915, -0.2240000069141388, 0.4519999921321869, 0.6439999938011169, 0.40799999237060547, 0.18199999630451202, 0.7360000014305115, 0.5559999942779541, 0.10400000214576721, 0.39100000262260437, 0.3440000116825104, 0.5910000205039978, -0.17100000381469727, -0.12399999797344208, 0.14800000190734863, -0.09000000357627869, 0.13300000131130219, 0.27900001406669617, 1.059999942779541, 0.7239999771118164, -0.08100000023841858, 0.6769999861717224, -0.11500000208616257]}\n",
      "{\"emotion_correct\": 1, \"valence_loss\": 1.2243881225585938, \"arousal_loss\": 1.192793607711792, \"emotion_loss\": NaN, \"time_take\": 4.444875955581665, \"pred_valence\": [0.032999999821186066, 0.07699999958276749, -0.09000000357627869, 0.1899999976158142, -0.23800000548362732, -0.35600000619888306, 0.15600000321865082, -0.004999999888241291, -0.0820000022649765, -0.054999999701976776, -0.31700000166893005, -0.3659999966621399, -0.23899999260902405, -0.035999998450279236, -0.12300000339746475, -0.06499999761581421, -0.3240000009536743, -0.06599999964237213, -0.1979999989271164, -0.2070000022649765, -0.44999998807907104, -0.22599999606609344, -0.05999999865889549, -0.1509999930858612, 0.028999999165534973, 0.2029999941587448, -0.09600000083446503, 0.23499999940395355, 0.14100000262260437, 0.15399999916553497, -0.21899999678134918, -0.10499999672174454], \"pred_arousal\": [-0.09700000286102295, 0.4429999887943268, -0.12399999797344208, 0.32100000977516174, -0.2759999930858612, -0.19099999964237213, 0.11299999803304672, -0.21899999678134918, -0.05400000140070915, -0.1459999978542328, -0.18000000715255737, 0.03799999877810478, -0.23100000619888306, -0.12099999934434891, 0.05400000140070915, 0.019999999552965164, -0.014999999664723873, -0.0689999982714653, -0.12999999523162842, -0.09300000220537186, -0.014999999664723873, -0.16899999976158142, -0.10899999737739563, -0.0729999989271164, -0.15299999713897705, -0.1850000023841858, -0.30399999022483826, -0.07699999958276749, 0.0820000022649765, 0.16500000655651093, -0.36000001430511475, -0.210999995470047]}\n",
      "{\"emotion_correct\": 0, \"valence_loss\": 0.9154424667358398, \"arousal_loss\": 0.6320972442626953, \"emotion_loss\": NaN, \"time_take\": 4.718932390213013, \"pred_valence\": [-0.5379999876022339, -0.03700000047683716, -0.03799999877810478, -0.8140000104904175, -0.2619999945163727, -0.3009999990463257, -0.2329999953508377, -0.3840000033378601, -0.3050000071525574, -0.23499999940395355, -0.37599998712539673, -0.2409999966621399, -0.41100001335144043, -0.31200000643730164, -0.621999979019165, -0.2240000069141388, -0.5770000219345093, -0.5540000200271606, -0.3269999921321869, -0.8090000152587891, -0.30300000309944153, -0.5550000071525574, -0.24199999868869781, -0.26899999380111694, -0.38499999046325684, -0.26100000739097595, -0.4269999861717224, -0.3799999952316284, -0.3100000023841858, -0.3790000081062317, -0.49300000071525574, -0.20000000298023224], \"pred_arousal\": [-0.20499999821186066, -0.17499999701976776, -0.24199999868869781, -0.4729999899864197, -0.1809999942779541, -0.5090000033378601, -0.5199999809265137, -0.23800000548362732, -0.23000000417232513, -0.17900000512599945, -0.546999990940094, -0.07699999958276749, 0.05299999937415123, -0.37400001287460327, -0.47699999809265137, -0.1459999978542328, -0.14399999380111694, -0.6480000019073486, -0.18799999356269836, -0.7129999995231628, -0.08100000023841858, -0.23100000619888306, -0.21299999952316284, -0.574999988079071, -0.4869999885559082, -0.30399999022483826, -0.8109999895095825, -0.47099998593330383, 0.012000000104308128, -0.625, -0.25999999046325684, -0.37400001287460327]}\n",
      "{\"emotion_correct\": 0, \"valence_loss\": 0.8847694396972656, \"arousal_loss\": 0.7165508270263672, \"emotion_loss\": NaN, \"time_take\": 4.858985185623169, \"pred_valence\": [-0.08100000023841858, -0.550000011920929, 0.004000000189989805, -0.3199999928474426, -0.3449999988079071, -0.2630000114440918, -0.25699999928474426, -0.49000000953674316, -0.843999981880188, -0.2240000069141388, 0.10700000077486038, -0.5490000247955322, -0.3319999873638153, -0.32600000500679016, -0.25200000405311584, -0.8240000009536743, -0.6629999876022339, -0.2809999883174896, -0.3269999921321869, -0.38600000739097595, -0.421999990940094, -0.47600001096725464, -0.3490000069141388, -0.26100000739097595, -0.4129999876022339, -0.7850000262260437, -0.28600001335144043, -0.9990000128746033, -0.8659999966621399, -0.3720000088214874, -0.5440000295639038, -0.656000018119812], \"pred_arousal\": [-0.28700000047683716, -0.7059999704360962, -0.31200000643730164, -0.4449999928474426, -0.5799999833106995, -0.4950000047683716, -0.06800000369548798, -0.4830000102519989, -0.8240000009536743, -0.15199999511241913, -0.03400000184774399, -0.5889999866485596, -0.2669999897480011, -0.5289999842643738, -0.2759999930858612, -0.718999981880188, -0.609000027179718, -0.3720000088214874, -0.41200000047683716, -0.2840000092983246, -0.2849999964237213, -0.09300000220537186, -0.4180000126361847, -0.5370000004768372, -0.2630000114440918, -0.5580000281333923, -0.6349999904632568, -0.9350000023841858, -0.925000011920929, -0.3790000081062317, -0.4269999861717224, -0.5950000286102295]}\n"
     ]
    },
    {
     "name": "stdout",
     "output_type": "stream",
     "text": [
      "{\"emotion_correct\": 2, \"valence_loss\": 0.7033761739730835, \"arousal_loss\": 0.5722302794456482, \"emotion_loss\": NaN, \"time_take\": 5.036875486373901, \"pred_valence\": [-0.4440000057220459, -0.671999990940094, -0.4560000002384186, -0.25600001215934753, -0.36800000071525574, -0.22599999606609344, -0.08900000154972076, -0.49900001287460327, -0.3869999945163727, -0.5070000290870667, -0.29100000858306885, -0.5960000157356262, -0.41999998688697815, -0.6290000081062317, -0.33500000834465027, -0.4320000112056732, -0.3050000071525574, -0.15399999916553497, -0.3479999899864197, -0.30000001192092896, -0.9269999861717224, -0.1679999977350235, -0.6899999976158142, -0.3440000116825104, -0.13699999451637268, -0.19499999284744263, -0.5090000033378601, -0.33399999141693115, -0.37299999594688416, -0.546999990940094, -0.296999990940094, -0.27000001072883606], \"pred_arousal\": [-0.8820000290870667, -0.8809999823570251, -0.5950000286102295, -0.1850000023841858, -0.42800000309944153, -0.46799999475479126, -0.5080000162124634, -0.421999990940094, -0.4410000145435333, -0.593999981880188, -0.21799999475479126, -0.7419999837875366, -0.6639999747276306, -0.5479999780654907, -0.4189999997615814, -0.7580000162124634, -0.4819999933242798, -0.25600001215934753, -0.3149999976158142, -0.14900000393390656, -1.1829999685287476, -0.4359999895095825, -1.246999979019165, -0.5059999823570251, -0.2919999957084656, -0.45100000500679016, -0.6380000114440918, -0.38999998569488525, -0.2770000100135803, -0.5249999761581421, -0.42800000309944153, -0.722000002861023]}\n",
      "{\"emotion_correct\": 0, \"valence_loss\": 1.2859691381454468, \"arousal_loss\": 1.078395128250122, \"emotion_loss\": NaN, \"time_take\": 5.261585712432861, \"pred_valence\": [-0.3790000081062317, -0.3610000014305115, -0.7870000004768372, -0.3580000102519989, -0.3889999985694885, -0.9340000152587891, -0.5799999833106995, -0.8270000219345093, -0.746999979019165, -0.8259999752044678, -0.9760000109672546, -0.460999995470047, -0.4620000123977661, -0.42399999499320984, -0.7080000042915344, -0.8420000076293945, -0.7459999918937683, -0.3799999952316284, -0.7369999885559082, -0.37299999594688416, -0.41200000047683716, -0.5090000033378601, -0.46399998664855957, -0.6000000238418579, -0.4269999861717224, -0.9169999957084656, -0.7630000114440918, -0.5690000057220459, -0.546999990940094, -0.3569999933242798, -0.2770000100135803, -0.36399999260902405], \"pred_arousal\": [-0.26899999380111694, -0.5550000071525574, -1.0119999647140503, -0.5490000247955322, -0.4390000104904175, -1.0390000343322754, -0.4359999895095825, -0.9259999990463257, -0.7310000061988831, -0.5519999861717224, -1.187000036239624, -0.3540000021457672, -0.46399998664855957, -0.38100001215934753, -0.9430000185966492, -0.7580000162124634, -1.0470000505447388, -0.6579999923706055, -0.9330000281333923, -0.6489999890327454, -0.17499999701976776, -0.4129999876022339, -0.3050000071525574, -0.7279999852180481, -0.41499999165534973, -1.0379999876022339, -0.9959999918937683, -0.5659999847412109, -0.7599999904632568, -0.6480000019073486, -0.3529999852180481, -0.4090000092983246]}\n",
      "{\"emotion_correct\": 1, \"valence_loss\": 1.0277318954467773, \"arousal_loss\": 1.118973970413208, \"emotion_loss\": NaN, \"time_take\": 5.415687561035156, \"pred_valence\": [-0.4320000112056732, -1.284000039100647, -0.37700000405311584, -0.5580000281333923, -0.4880000054836273, -0.5870000123977661, -0.22300000488758087, -0.8169999718666077, -0.34299999475479126, -0.3889999985694885, -0.3779999911785126, -0.4490000009536743, -0.3919999897480011, -0.4480000138282776, -0.8149999976158142, -0.2619999945163727, -0.18700000643730164, -0.5649999976158142, -0.4180000126361847, -0.3569999933242798, -0.6919999718666077, -0.39899998903274536, -0.949999988079071, -0.20900000631809235, -0.20800000429153442, -0.5149999856948853, -0.5590000152587891, -0.4410000145435333, -0.3499999940395355, -0.3089999854564667, -0.2680000066757202, -0.3269999921321869], \"pred_arousal\": [-0.13600000739097595, -1.1640000343322754, -0.2750000059604645, -0.35199999809265137, -0.5770000219345093, -0.4059999883174896, -0.628000020980835, -1.3009999990463257, -0.11100000143051147, -0.4779999852180481, -0.3059999942779541, -0.3880000114440918, -0.47699999809265137, -0.5709999799728394, -1.1649999618530273, -0.39399999380111694, -0.4749999940395355, -0.7710000276565552, -0.48899999260902405, -0.4230000078678131, -0.7900000214576721, -0.7379999756813049, -1.4010000228881836, -0.2630000114440918, -0.26499998569488525, -0.3779999911785126, -0.5519999861717224, -0.503000020980835, -0.5699999928474426, -0.2150000035762787, -0.30799999833106995, -0.49000000953674316]}\n",
      "{\"emotion_correct\": 0, \"valence_loss\": 0.972818911075592, \"arousal_loss\": 0.954052209854126, \"emotion_loss\": NaN, \"time_take\": 5.572540998458862, \"pred_valence\": [-0.6669999957084656, -0.43799999356269836, -0.3160000145435333, -0.40400001406669617, -0.7639999985694885, -0.2199999988079071, -0.4410000145435333, -1.0540000200271606, -0.625, -0.3240000009536743, -0.5149999856948853, -0.8069999814033508, -0.503000020980835, -0.3230000138282776, -0.4320000112056732, -0.26899999380111694, -0.22300000488758087, -0.34700000286102295, -0.8790000081062317, -0.8799999952316284, -0.41499999165534973, -0.5059999823570251, -0.8240000009536743, -0.33500000834465027, -0.699999988079071, -0.4009999930858612, -0.23399999737739563, -0.5899999737739563, -0.6520000100135803, -0.40400001406669617, -0.7049999833106995, -0.6610000133514404], \"pred_arousal\": [-0.7940000295639038, -0.9070000052452087, -0.6269999742507935, -0.5090000033378601, -0.5950000286102295, -0.5189999938011169, -0.7540000081062317, -1.1640000343322754, -0.8069999814033508, -0.29499998688697815, -0.7250000238418579, -0.8220000267028809, -0.5669999718666077, -0.4690000116825104, -0.382999986410141, -0.5600000023841858, -0.5049999952316284, -0.6309999823570251, -1.0820000171661377, -1.059999942779541, -0.4350000023841858, -0.7429999709129333, -0.8610000014305115, -0.4830000102519989, -0.6359999775886536, -0.1599999964237213, -0.4000000059604645, -0.5989999771118164, -0.28700000047683716, -0.4169999957084656, -0.9829999804496765, -0.6449999809265137]}\n",
      "{\"emotion_correct\": 2, \"valence_loss\": 1.2196978330612183, \"arousal_loss\": 1.0602900981903076, \"emotion_loss\": NaN, \"time_take\": 5.74894642829895, \"pred_valence\": [-0.9610000252723694, -0.48399999737739563, -0.5839999914169312, -0.4560000002384186, -0.18299999833106995, -0.3799999952316284, -0.5180000066757202, -0.3540000021457672, -0.46700000762939453, -0.5289999842643738, -0.6430000066757202, -0.3070000112056732, -0.6779999732971191, -0.27399998903274536, -0.34700000286102295, -0.48899999260902405, -0.7689999938011169, -0.628000020980835, -0.6179999709129333, -0.3540000021457672, -0.6779999732971191, -0.47600001096725464, -0.5989999771118164, -0.6150000095367432, -0.24199999868869781, -0.5239999890327454, -0.7200000286102295, -0.6460000276565552, -0.5450000166893005, -0.5149999856948853, -0.5329999923706055, -0.4410000145435333], \"pred_arousal\": [-1.1299999952316284, -0.6729999780654907, -0.6019999980926514, -0.7160000205039978, -0.40299999713897705, -0.46399998664855957, -0.6179999709129333, -0.5789999961853027, -0.2680000066757202, -0.546999990940094, -0.28299999237060547, -0.5559999942779541, -0.7789999842643738, -0.37599998712539673, -0.22599999606609344, -0.5709999799728394, -0.9729999899864197, -0.5450000166893005, -0.42399999499320984, -0.1550000011920929, -0.7990000247955322, -0.5550000071525574, -0.7889999747276306, -0.6959999799728394, -0.15199999511241913, -0.2809999883174896, -0.5799999833106995, -0.5299999713897705, -0.9229999780654907, -0.26899999380111694, -0.4269999861717224, -0.44600000977516174]}\n",
      "{\"emotion_correct\": 0, \"valence_loss\": 0.903885543346405, \"arousal_loss\": 0.8004151582717896, \"emotion_loss\": NaN, \"time_take\": 5.941571235656738, \"pred_valence\": [-0.5839999914169312, -0.5230000019073486, -0.15800000727176666, -0.5329999923706055, -0.2919999957084656, -0.3779999911785126, -0.4779999852180481, -0.23899999260902405, -0.2590000033378601, -0.7649999856948853, -0.4490000009536743, -0.5019999742507935, -0.3269999921321869, -0.6869999766349792, -0.4620000123977661, -0.46299999952316284, -0.40400001406669617, -0.40299999713897705, -0.22300000488758087, -0.6809999942779541, -0.621999979019165, -0.22200000286102295, -0.30300000309944153, -0.5070000290870667, -0.6800000071525574, -0.5789999961853027, -0.5879999995231628, -0.4779999852180481, -0.7300000190734863, -0.4090000092983246, -0.6000000238418579, -0.5979999899864197], \"pred_arousal\": [-0.6060000061988831, -0.6420000195503235, -0.14900000393390656, -0.3490000069141388, -0.3499999940395355, -0.4359999895095825, -0.6150000095367432, -0.2930000126361847, -0.531000018119812, -0.8379999995231628, -0.10400000214576721, -0.4269999861717224, -0.656000018119812, -0.8119999766349792, -0.38199999928474426, -0.4099999964237213, -0.6620000004768372, 0.013000000268220901, -0.15800000727176666, -0.6980000138282776, -0.6909999847412109, -0.47200000286102295, -0.4869999885559082, -0.33799999952316284, -0.31299999356269836, -0.3100000023841858, -0.3700000047683716, -0.5379999876022339, -0.824999988079071, -0.23100000619888306, -0.014999999664723873, -0.3840000033378601]}\n",
      "{\"emotion_correct\": 2, \"valence_loss\": 1.121106505393982, \"arousal_loss\": 1.003023624420166, \"emotion_loss\": NaN, \"time_take\": 6.10273551940918, \"pred_valence\": [-0.2849999964237213, -0.5899999737739563, -0.5950000286102295, -0.5210000276565552, -0.4950000047683716, -0.3109999895095825, -0.24699999392032623, -0.6690000295639038, -0.34299999475479126, -0.8050000071525574, -0.4480000138282776, -0.7419999837875366, -0.5400000214576721, -0.5120000243186951, -0.2329999953508377, -0.2770000100135803, -0.257999986410141, -0.5339999794960022, -0.5849999785423279, -0.23000000417232513, -0.8289999961853027, -0.5899999737739563, -0.3889999985694885, -0.41200000047683716, -0.47999998927116394, -0.20600000023841858, -0.6100000143051147, -0.3799999952316284, -0.41200000047683716, -0.25600001215934753, -0.3580000102519989, -0.3959999978542328], \"pred_arousal\": [-0.30000001192092896, -0.503000020980835, -0.23100000619888306, -0.2879999876022339, -0.5860000252723694, -0.23600000143051147, -0.3490000069141388, -1.0199999809265137, -0.11500000208616257, -1.2170000076293945, -0.24199999868869781, -0.7940000295639038, -0.7379999756813049, -0.3050000071525574, -0.42899999022483826, -0.4009999930858612, -0.5730000138282776, -0.4620000123977661, -0.4699999988079071, -0.3919999897480011, -0.7770000100135803, -0.33899998664855957, -0.05400000140070915, -0.36800000071525574, -0.5059999823570251, -0.3409999907016754, -0.4059999883174896, -0.5220000147819519, 0.009999999776482582, -0.3959999978542328, -0.3569999933242798, -0.3970000147819519]}\n"
     ]
    },
    {
     "name": "stdout",
     "output_type": "stream",
     "text": [
      "{\"emotion_correct\": 1, \"valence_loss\": 1.390802025794983, \"arousal_loss\": 1.0416399240493774, \"emotion_loss\": NaN, \"time_take\": 6.272145986557007, \"pred_valence\": [-0.5210000276565552, -0.4230000078678131, -0.7770000100135803, -0.5, -0.3050000071525574, -0.4740000069141388, -0.3089999854564667, -0.5450000166893005, -0.6000000238418579, -0.7540000081062317, -0.5320000052452087, -0.3630000054836273, -0.5009999871253967, -0.33500000834465027, -0.39800000190734863, -0.5220000147819519, -0.3440000116825104, -0.4909999966621399, -0.3659999966621399, -0.3659999966621399, -0.2759999930858612, -0.4350000023841858, -0.4300000071525574, -0.5210000276565552, -0.4729999899864197, -0.3199999928474426, -0.3479999899864197, -0.4020000100135803, -0.5170000195503235, -0.45899999141693115, -0.9390000104904175, -0.4790000021457672], \"pred_arousal\": [-0.8450000286102295, -0.164000004529953, -0.7020000219345093, -0.5320000052452087, -0.4779999852180481, -0.5569999814033508, -0.5370000004768372, -0.5320000052452087, -0.23199999332427979, -0.9440000057220459, -0.1550000011920929, -0.4740000069141388, -0.25999999046325684, -0.17000000178813934, -0.43299999833106995, -0.3140000104904175, -0.47099998593330383, -0.44200000166893005, -0.3889999985694885, -0.15399999916553497, -0.4129999876022339, -0.28600001335144043, -0.013000000268220901, -0.34700000286102295, -0.671999990940094, -0.41600000858306885, -0.24500000476837158, -0.49900001287460327, -0.5709999799728394, -0.4359999895095825, -0.8640000224113464, -0.5809999704360962]}\n",
      "{\"emotion_correct\": 1, \"valence_loss\": 1.089660406112671, \"arousal_loss\": 0.8369389772415161, \"emotion_loss\": NaN, \"time_take\": 6.666859149932861, \"pred_valence\": [-0.3089999854564667, -0.42899999022483826, -0.4950000047683716, -0.3059999942779541, -0.4129999876022339, -0.1550000011920929, -0.11999999731779099, -0.3240000009536743, -0.5059999823570251, -0.8080000281333923, -0.40299999713897705, -0.20399999618530273, -0.09600000083446503, -0.46799999475479126, -0.24899999797344208, -0.2980000078678131, -0.7950000166893005, -0.49000000953674316, -0.38600000739097595, -0.6269999742507935, -0.36399999260902405, -0.39899998903274536, -0.3009999990463257, -0.4779999852180481, -0.4129999876022339, -0.35100001096725464, -0.22100000083446503, -0.4350000023841858, -0.5820000171661377, -0.8050000071525574, -0.4230000078678131, -0.38100001215934753], \"pred_arousal\": [-0.1940000057220459, -0.3070000112056732, -0.22300000488758087, -0.07599999755620956, -0.3569999933242798, -0.335999995470047, -0.2709999978542328, -0.050999999046325684, -0.3529999852180481, -0.9350000023841858, -0.5040000081062317, -0.13199999928474426, -0.2770000100135803, -0.9039999842643738, -0.2840000092983246, -0.27799999713897705, -0.7429999709129333, -0.2980000078678131, -0.4359999895095825, -0.7490000128746033, -0.32499998807907104, -0.37599998712539673, -0.6179999709129333, -0.5809999704360962, -0.2680000066757202, -0.5260000228881836, -0.36500000953674316, -0.3919999897480011, -0.7049999833106995, -0.8740000128746033, -0.5450000166893005, -0.5920000076293945]}\n",
      "{\"emotion_correct\": 1, \"valence_loss\": 1.261502742767334, \"arousal_loss\": 1.1350297927856445, \"emotion_loss\": NaN, \"time_take\": 6.848812818527222, \"pred_valence\": [-0.34299999475479126, -0.32899999618530273, -0.2939999997615814, -0.40799999237060547, -0.19200000166893005, -0.35199999809265137, -0.38100001215934753, -0.22699999809265137, -0.515999972820282, -0.4320000112056732, -0.4300000071525574, -0.19699999690055847, -0.1289999932050705, -0.44600000977516174, -0.7099999785423279, -0.3149999976158142, -0.3630000054836273, -0.4740000069141388, -0.5019999742507935, -0.35199999809265137, -0.4560000002384186, -0.22200000286102295, -0.20399999618530273, -0.14300000667572021, -0.3930000066757202, -0.26899999380111694, -0.27799999713897705, -0.2879999876022339, -0.5040000081062317, -0.164000004529953, -0.23600000143051147, -0.527999997138977], \"pred_arousal\": [-0.5019999742507935, -0.6060000061988831, -0.27300000190734863, -0.33500000834465027, -0.375, -0.40799999237060547, -0.5960000157356262, -0.1379999965429306, -0.6050000190734863, -0.1979999989271164, -0.3790000081062317, -0.20900000631809235, -0.2619999945163727, -0.6899999976158142, -0.8429999947547913, -0.3240000009536743, -0.34599998593330383, -0.24300000071525574, -0.13300000131130219, -0.42899999022483826, -0.4129999876022339, -0.39800000190734863, -0.3889999985694885, -0.15800000727176666, -0.5009999871253967, -0.7670000195503235, -0.26100000739097595, -0.27900001406669617, -0.40799999237060547, -0.2680000066757202, -0.08799999952316284, -0.8820000290870667]}\n",
      "{\"emotion_correct\": 0, \"valence_loss\": 1.0421724319458008, \"arousal_loss\": 0.8666341304779053, \"emotion_loss\": NaN, \"time_take\": 7.054414749145508, \"pred_valence\": [-0.2329999953508377, -0.45899999141693115, -0.31299999356269836, -0.26499998569488525, -0.6779999732971191, -0.40400001406669617, -0.164000004529953, -0.38499999046325684, -0.26100000739097595, -0.2709999978542328, -0.13699999451637268, -0.4390000104904175, -0.38199999928474426, -0.3930000066757202, -0.2199999988079071, -0.13199999928474426, -0.2669999897480011, -0.17800000309944153, -0.17399999499320984, -0.5569999814033508, -0.47600001096725464, -0.5600000023841858, -0.41499999165534973, -0.1889999955892563, -0.2879999876022339, -0.3240000009536743, -0.1459999978542328, -0.5899999737739563, -0.296999990940094, -0.23899999260902405, -0.37299999594688416, -0.49399998784065247], \"pred_arousal\": [-0.3019999861717224, -0.36500000953674316, -0.328000009059906, -0.382999986410141, -0.2669999897480011, -0.5080000162124634, -0.19200000166893005, -0.35600000619888306, -0.2750000059604645, -0.32199999690055847, -0.34200000762939453, -0.3610000014305115, -0.3790000081062317, -0.3490000069141388, -0.5049999952316284, -0.18000000715255737, -0.30300000309944153, -0.5979999899864197, -0.3160000145435333, -0.35199999809265137, -0.6069999933242798, -0.6190000176429749, -0.44999998807907104, -0.3089999854564667, -0.1080000028014183, -0.3919999897480011, -0.2329999953508377, -0.7080000042915344, -0.30799999833106995, -0.2709999978542328, -0.25, -0.27799999713897705]}\n",
      "{\"emotion_correct\": 0, \"valence_loss\": 0.9474382400512695, \"arousal_loss\": 0.7861658930778503, \"emotion_loss\": NaN, \"time_take\": 7.281506299972534, \"pred_valence\": [-0.27900001406669617, -0.16500000655651093, -0.16300000250339508, -0.39899998903274536, -0.12800000607967377, -0.032999999821186066, -0.15600000321865082, -0.3059999942779541, -0.3449999988079071, -0.4950000047683716, -0.40700000524520874, -0.1720000058412552, -0.289000004529953, -0.3319999873638153, -0.1550000011920929, -0.3100000023841858, -0.4009999930858612, -0.4059999883174896, -0.22100000083446503, -0.10999999940395355, -0.12200000137090683, -0.17599999904632568, -0.5049999952316284, -0.07100000232458115, -0.4129999876022339, -0.3070000112056732, -0.21299999952316284, -0.2529999911785126, -0.2329999953508377, -0.2619999945163727, -0.23499999940395355, -0.47999998927116394], \"pred_arousal\": [-0.20499999821186066, -0.39500001072883606, -0.3019999861717224, -0.6150000095367432, -0.24500000476837158, -0.3930000066757202, -0.29899999499320984, -0.7630000114440918, -0.39800000190734863, -0.18000000715255737, -0.5389999747276306, -0.27000001072883606, -0.257999986410141, -0.42100000381469727, -0.26499998569488525, -0.2709999978542328, -0.41600000858306885, -0.23999999463558197, -0.289000004529953, -0.027000000700354576, -0.25999999046325684, -0.26899999380111694, -0.460999995470047, -0.29600000381469727, -0.39100000262260437, -0.15299999713897705, -0.375, -0.5740000009536743, -0.3580000102519989, -0.16200000047683716, -0.28600001335144043, -0.4909999966621399]}\n",
      "{\"emotion_correct\": 0, \"valence_loss\": 0.806257963180542, \"arousal_loss\": 0.5743407011032104, \"emotion_loss\": NaN, \"time_take\": 7.4400858879089355, \"pred_valence\": [-0.09600000083446503, -0.20000000298023224, -0.2680000066757202, -0.26100000739097595, -0.41200000047683716, -0.15000000596046448, -0.4059999883174896, -0.1459999978542328, -0.10700000077486038, -0.4169999957084656, -0.3269999921321869, -0.4740000069141388, -0.21899999678134918, -0.20000000298023224, -0.2680000066757202, -0.38600000739097595, -0.46299999952316284, -0.3630000054836273, -0.38100001215934753, -0.34200000762939453, -0.40400001406669617, -0.36500000953674316, -0.24500000476837158, -0.09799999743700027, -0.3440000116825104, -0.5009999871253967, -0.20399999618530273, -0.2879999876022339, -0.23000000417232513, -0.1080000028014183, -0.09099999815225601, -0.1420000046491623], \"pred_arousal\": [-0.23399999737739563, -0.4020000100135803, -0.4429999887943268, -0.24799999594688416, -0.5490000247955322, -0.37400001287460327, -0.574999988079071, -0.3959999978542328, -0.36000001430511475, -0.47600001096725464, -0.11500000208616257, -0.36000001430511475, -0.2029999941587448, -0.3479999899864197, -0.367000013589859, -0.20200000703334808, -0.25699999928474426, -0.5389999747276306, -0.36399999260902405, -0.6159999966621399, -0.27000001072883606, -0.3499999940395355, -0.3370000123977661, -0.14100000262260437, -0.4740000069141388, -0.5249999761581421, -0.2750000059604645, -0.4480000138282776, -0.5440000295639038, -0.08699999749660492, -0.36399999260902405, -0.21400000154972076]}\n"
     ]
    }
   ],
   "source": [
    "from telegram_notifier import send_message\n",
    "import time\n",
    "start_time = time.time()\n",
    "\n",
    "\n",
    "for epoch in range(epochs):\n",
    "    total_loss = 0\n",
    "    total_step = 0\n",
    "    total_emotion_correct = 0\n",
    "    total_valence_loss = 0\n",
    "    total_arousal_loss = 0\n",
    "    total_emotion_loss = 0\n",
    "    total_process = 0\n",
    "    for step, row in enumerate(DataFrameBatchIterator(train_df, batch_size=batch_size)):\n",
    "\n",
    "        imgs = row.subDirectory_filePath.apply(lambda x: cv2.resize(\n",
    "            cv2.cvtColor(cv2.imread(x), cv2.COLOR_BGR2RGB), (224, 224)))\n",
    "        img_array = np.array(list(imgs))\n",
    "\n",
    "        y_valence = np.array(row.valence)\n",
    "        y_arousal = np.array(row.arousal)\n",
    "        y_emotion = np.array(row.expression)\n",
    "\n",
    "        with tf.GradientTape() as tape:\n",
    "            logits = model(img_array, training=True)\n",
    "\n",
    "            pred_valence = logits[0]\n",
    "            pred_arousal = logits[1]\n",
    "            pred_emotion = logits[2]\n",
    "\n",
    "            valence_loss = MSE_loss(y_valence, pred_valence)\n",
    "            arousal_loss = MSE_loss(y_arousal, pred_arousal)\n",
    "            emotion_loss = SCC_loss(y_emotion, pred_emotion)\n",
    "\n",
    "            loss = valence_loss + arousal_loss # + emotion_loss\n",
    "\n",
    "            grads = tape.gradient(loss, model.trainable_weights)\n",
    "\n",
    "            optimizer.apply_gradients(zip(grads, model.trainable_weights))\n",
    "        total_loss += float(loss)\n",
    "        total_step += 1\n",
    "        \n",
    "        total_process += len(row)\n",
    "\n",
    "        valence_loss = float(valence_loss)\n",
    "        arousal_loss = float(arousal_loss)\n",
    "        emotion_loss = float(emotion_loss)\n",
    "        \n",
    "        total_valence_loss += valence_loss\n",
    "        total_arousal_loss += arousal_loss\n",
    "        total_emotion_loss += emotion_loss\n",
    "        \n",
    "        emotion_correct = int(sum(pred_emotion.numpy().argmax(axis = 1) == y_emotion))\n",
    "        total_emotion_correct += emotion_correct\n",
    "        \n",
    "        log = {\n",
    "            'emotion_correct': emotion_correct,\n",
    "            'valence_loss': valence_loss,\n",
    "            'arousal_loss': arousal_loss,\n",
    "            'emotion_loss': emotion_loss,\n",
    "            'time_take': time.time() - start_time,\n",
    "            'pred_valence': list(map(lambda x: float(x), np.around(np.array(pred_valence).reshape(-1), 3))),\n",
    "            'pred_arousal': list(map(lambda x: float(x), np.around(np.array(pred_arousal).reshape(-1), 3))),\n",
    "        }\n",
    "        log = json.dumps(log)\n",
    "        lprint(log)\n",
    "    save_model_path = f\"models/{now_time_string}_{description}_epoch{epoch}_batch_{batch_size}\"\n",
    "    model.save(save_model_path)\n",
    "    lprint(f\"Save {save_model_path}\")\n",
    "    send_message(f\"Save {save_model_path}\\nepoch {epoch} is finish\")\n",
    "    log = {\n",
    "        'model_path': save_model_path,\n",
    "        'total_emotion_correct': total_emotion_correct,\n",
    "        'total_loss': total_loss,\n",
    "        'total_valence_loss': total_valence_loss,\n",
    "        'total_arousal_loss': total_arousal_loss,\n",
    "        'total_emotion_loss': total_emotion_loss,\n",
    "        'total_process': total_process,\n",
    "        'time_take': time.time() - start_time,\n",
    "    }\n",
    "    log = json.dumps(log)\n",
    "    lprint(log)"
   ]
  },
  {
   "cell_type": "code",
   "execution_count": null,
   "metadata": {
    "ExecuteTime": {
     "start_time": "2022-01-22T15:41:54.968Z"
    }
   },
   "outputs": [],
   "source": [
    "log"
   ]
  },
  {
   "cell_type": "code",
   "execution_count": null,
   "metadata": {},
   "outputs": [],
   "source": []
  }
 ],
 "metadata": {
  "kernelspec": {
   "display_name": "tf27",
   "language": "python",
   "name": "tf27"
  },
  "language_info": {
   "codemirror_mode": {
    "name": "ipython",
    "version": 3
   },
   "file_extension": ".py",
   "mimetype": "text/x-python",
   "name": "python",
   "nbconvert_exporter": "python",
   "pygments_lexer": "ipython3",
   "version": "3.9.7"
  },
  "varInspector": {
   "cols": {
    "lenName": 16,
    "lenType": 16,
    "lenVar": 40
   },
   "kernels_config": {
    "python": {
     "delete_cmd_postfix": "",
     "delete_cmd_prefix": "del ",
     "library": "var_list.py",
     "varRefreshCmd": "print(var_dic_list())"
    },
    "r": {
     "delete_cmd_postfix": ") ",
     "delete_cmd_prefix": "rm(",
     "library": "var_list.r",
     "varRefreshCmd": "cat(var_dic_list()) "
    }
   },
   "types_to_exclude": [
    "module",
    "function",
    "builtin_function_or_method",
    "instance",
    "_Feature"
   ],
   "window_display": false
  }
 },
 "nbformat": 4,
 "nbformat_minor": 4
}
