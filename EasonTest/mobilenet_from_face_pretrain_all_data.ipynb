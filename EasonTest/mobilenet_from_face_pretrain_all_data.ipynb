{
 "cells": [
  {
   "cell_type": "markdown",
   "metadata": {},
   "source": [
    "# 01/20"
   ]
  },
  {
   "cell_type": "markdown",
   "metadata": {
    "ExecuteTime": {
     "end_time": "2022-01-18T12:50:25.876212Z",
     "start_time": "2022-01-18T12:50:25.870149Z"
    }
   },
   "source": [
    "%matplotlib inline"
   ]
  },
  {
   "cell_type": "code",
   "execution_count": 1,
   "metadata": {
    "ExecuteTime": {
     "end_time": "2022-01-20T14:15:09.653983Z",
     "start_time": "2022-01-20T14:15:09.642771Z"
    }
   },
   "outputs": [],
   "source": [
    "description = 'mobilenet_from_face_pretrain_sep_feat_all_data'"
   ]
  },
  {
   "cell_type": "code",
   "execution_count": 2,
   "metadata": {
    "ExecuteTime": {
     "end_time": "2022-01-20T14:15:11.631087Z",
     "start_time": "2022-01-20T14:15:09.656183Z"
    }
   },
   "outputs": [],
   "source": [
    "\n",
    "import os\n",
    "import numpy as np\n",
    "from sklearn.preprocessing import LabelEncoder\n",
    "import matplotlib.pyplot as plt\n",
    "import cv2\n",
    "from PIL import Image\n",
    "from random import shuffle\n",
    "import math\n",
    "\n",
    "import pandas as pd\n",
    "\n",
    "import pickle\n",
    "\n",
    "from sklearn.svm import SVC,LinearSVC\n",
    "from sklearn.ensemble import RandomForestClassifier, BaggingClassifier,ExtraTreesClassifier\n",
    "from sklearn.neural_network import MLPClassifier\n",
    "from sklearn import preprocessing\n",
    "\n",
    "#from scipy.misc import imread, imresize\n",
    "\n"
   ]
  },
  {
   "cell_type": "code",
   "execution_count": 3,
   "metadata": {
    "ExecuteTime": {
     "end_time": "2022-01-20T14:15:11.639324Z",
     "start_time": "2022-01-20T14:15:11.633107Z"
    }
   },
   "outputs": [],
   "source": [
    "import tqdm\n",
    "import json"
   ]
  },
  {
   "cell_type": "code",
   "execution_count": 4,
   "metadata": {
    "ExecuteTime": {
     "end_time": "2022-01-20T14:15:24.995114Z",
     "start_time": "2022-01-20T14:15:11.641193Z"
    }
   },
   "outputs": [],
   "source": [
    "train_df = pd.read_csv('../../data/Manually_Annotated_file_lists/training_face_mesh_crop.csv')\n",
    "train_df.subDirectory_filePath = '../../data/Manually_Annotated_Images_FaceMesh_Cropped/' + train_df.subDirectory_filePath\n",
    "\n",
    "train_df_2 = pd.read_csv('../../data/Automatically_annotated_file_list/automatically_annotated_face_mesh_crop.csv')\n",
    "train_df_2.subDirectory_filePath = '../../data/Automatically_Annotated_Images_FaceMesh_Cropped/' + train_df_2.subDirectory_filePath\n",
    "train_df = train_df.append(train_df_2)\n",
    "del train_df_2\n",
    "\n",
    "train_df = train_df[train_df['have_facemesh']]"
   ]
  },
  {
   "cell_type": "code",
   "execution_count": 5,
   "metadata": {
    "ExecuteTime": {
     "end_time": "2022-01-20T14:15:25.002563Z",
     "start_time": "2022-01-20T14:15:24.997477Z"
    }
   },
   "outputs": [
    {
     "name": "stdout",
     "output_type": "stream",
     "text": [
      "log_file_name='01_20_22:15:25.log'\n"
     ]
    }
   ],
   "source": [
    "from eason_utils import DataFrameBatchIterator\n",
    "from eason_utils import lprint, now_time_string, log_file_name, change_log_file_name\n",
    "\n",
    "change_log_file_name(f'''{log_file_name.replace('.log', '')}_{description}.log''')"
   ]
  },
  {
   "cell_type": "code",
   "execution_count": null,
   "metadata": {},
   "outputs": [],
   "source": []
  },
  {
   "cell_type": "code",
   "execution_count": null,
   "metadata": {},
   "outputs": [],
   "source": []
  },
  {
   "cell_type": "code",
   "execution_count": 6,
   "metadata": {
    "ExecuteTime": {
     "end_time": "2022-01-20T14:15:27.853563Z",
     "start_time": "2022-01-20T14:15:25.004328Z"
    }
   },
   "outputs": [],
   "source": [
    "os.environ['TF_CPP_MIN_LOG_LEVEL'] = '2'\n",
    "import tensorflow as tf\n",
    "config = tf.compat.v1.ConfigProto(gpu_options = tf.compat.v1.GPUOptions(allow_growth = True))\n",
    "sess = tf.compat.v1.Session(config = config)"
   ]
  },
  {
   "cell_type": "code",
   "execution_count": 7,
   "metadata": {
    "ExecuteTime": {
     "end_time": "2022-01-20T14:15:28.857228Z",
     "start_time": "2022-01-20T14:15:27.855309Z"
    }
   },
   "outputs": [
    {
     "name": "stdout",
     "output_type": "stream",
     "text": [
      "WARNING:tensorflow:No training configuration found in the save file, so the model was *not* compiled. Compile it manually.\n"
     ]
    }
   ],
   "source": [
    "mobilenet_pretrained = tf.keras.models.load_model('../models/pretrained_faces/age_gender_tf2_224_deep-03-0.13-0.97.h5')"
   ]
  },
  {
   "cell_type": "code",
   "execution_count": 8,
   "metadata": {
    "ExecuteTime": {
     "end_time": "2022-01-20T14:15:28.865523Z",
     "start_time": "2022-01-20T14:15:28.858487Z"
    }
   },
   "outputs": [],
   "source": [
    "mobilenet_output = mobilenet_pretrained.get_layer(\"global_pooling\").output"
   ]
  },
  {
   "cell_type": "code",
   "execution_count": 9,
   "metadata": {
    "ExecuteTime": {
     "end_time": "2022-01-20T14:15:28.869385Z",
     "start_time": "2022-01-20T14:15:28.867205Z"
    }
   },
   "outputs": [],
   "source": [
    "hidden_layers = [256]"
   ]
  },
  {
   "cell_type": "code",
   "execution_count": 10,
   "metadata": {
    "ExecuteTime": {
     "end_time": "2022-01-20T14:15:28.988914Z",
     "start_time": "2022-01-20T14:15:28.877029Z"
    }
   },
   "outputs": [],
   "source": [
    "valaence_feat = mobilenet_output\n",
    "for size in hidden_layers:\n",
    "    valence_feat = tf.keras.layers.Dense(size, activation = 'relu', name = f'feat_valence')(valaence_feat)\n",
    "outputs_valence = tf.keras.layers.Dense(1, activation = 'sigmoid', name = 'outputs_valence')(valence_feat)\n",
    "\n",
    "arousal_feat = mobilenet_output\n",
    "for size in hidden_layers:\n",
    "    arousal_feat = tf.keras.layers.Dense(size, activation = 'relu', name = f'feat_arousal')(arousal_feat)\n",
    "outputs_arousal = tf.keras.layers.Dense(1, activation = 'sigmoid', name = 'outputs_arousal')(arousal_feat)\n",
    "\n",
    "emotion_feat = mobilenet_output\n",
    "for size in hidden_layers:\n",
    "    emotion_feat = tf.keras.layers.Dense(size, activation = 'relu', name = f'feat_emotion')(emotion_feat)\n",
    "emotions_count = len(np.unique(train_df.expression))\n",
    "outputs_emotion = tf.keras.layers.Dense(emotions_count, activation = 'softmax', name = 'outputs_emotion')(emotion_feat)"
   ]
  },
  {
   "cell_type": "code",
   "execution_count": 11,
   "metadata": {
    "ExecuteTime": {
     "end_time": "2022-01-20T14:15:29.002726Z",
     "start_time": "2022-01-20T14:15:28.990078Z"
    }
   },
   "outputs": [],
   "source": [
    "model = tf.keras.Model(inputs=mobilenet_pretrained.input,\n",
    "                       outputs=(outputs_valence, outputs_arousal, outputs_emotion) , name=\"mobilenet_train\")"
   ]
  },
  {
   "cell_type": "code",
   "execution_count": 12,
   "metadata": {
    "ExecuteTime": {
     "end_time": "2022-01-20T14:15:29.051152Z",
     "start_time": "2022-01-20T14:15:29.004102Z"
    }
   },
   "outputs": [
    {
     "name": "stdout",
     "output_type": "stream",
     "text": [
      "Model: \"mobilenet_train\"\n",
      "__________________________________________________________________________________________________\n",
      " Layer (type)                   Output Shape         Param #     Connected to                     \n",
      "==================================================================================================\n",
      " input_1 (InputLayer)           [(None, 224, 224, 3  0           []                               \n",
      "                                )]                                                                \n",
      "                                                                                                  \n",
      " conv1_pad (ZeroPadding2D)      (None, 225, 225, 3)  0           ['input_1[0][0]']                \n",
      "                                                                                                  \n",
      " conv1 (Conv2D)                 (None, 112, 112, 32  864         ['conv1_pad[0][0]']              \n",
      "                                )                                                                 \n",
      "                                                                                                  \n",
      " conv1_bn (BatchNormalization)  (None, 112, 112, 32  128         ['conv1[0][0]']                  \n",
      "                                )                                                                 \n",
      "                                                                                                  \n",
      " conv1_relu (ReLU)              (None, 112, 112, 32  0           ['conv1_bn[0][0]']               \n",
      "                                )                                                                 \n",
      "                                                                                                  \n",
      " conv_dw_1 (DepthwiseConv2D)    (None, 112, 112, 32  288         ['conv1_relu[0][0]']             \n",
      "                                )                                                                 \n",
      "                                                                                                  \n",
      " conv_dw_1_bn (BatchNormalizati  (None, 112, 112, 32  128        ['conv_dw_1[0][0]']              \n",
      " on)                            )                                                                 \n",
      "                                                                                                  \n",
      " conv_dw_1_relu (ReLU)          (None, 112, 112, 32  0           ['conv_dw_1_bn[0][0]']           \n",
      "                                )                                                                 \n",
      "                                                                                                  \n",
      " conv_pw_1 (Conv2D)             (None, 112, 112, 64  2048        ['conv_dw_1_relu[0][0]']         \n",
      "                                )                                                                 \n",
      "                                                                                                  \n",
      " conv_pw_1_bn (BatchNormalizati  (None, 112, 112, 64  256        ['conv_pw_1[0][0]']              \n",
      " on)                            )                                                                 \n",
      "                                                                                                  \n",
      " conv_pw_1_relu (ReLU)          (None, 112, 112, 64  0           ['conv_pw_1_bn[0][0]']           \n",
      "                                )                                                                 \n",
      "                                                                                                  \n",
      " conv_pad_2 (ZeroPadding2D)     (None, 113, 113, 64  0           ['conv_pw_1_relu[0][0]']         \n",
      "                                )                                                                 \n",
      "                                                                                                  \n",
      " conv_dw_2 (DepthwiseConv2D)    (None, 56, 56, 64)   576         ['conv_pad_2[0][0]']             \n",
      "                                                                                                  \n",
      " conv_dw_2_bn (BatchNormalizati  (None, 56, 56, 64)  256         ['conv_dw_2[0][0]']              \n",
      " on)                                                                                              \n",
      "                                                                                                  \n",
      " conv_dw_2_relu (ReLU)          (None, 56, 56, 64)   0           ['conv_dw_2_bn[0][0]']           \n",
      "                                                                                                  \n",
      " conv_pw_2 (Conv2D)             (None, 56, 56, 128)  8192        ['conv_dw_2_relu[0][0]']         \n",
      "                                                                                                  \n",
      " conv_pw_2_bn (BatchNormalizati  (None, 56, 56, 128)  512        ['conv_pw_2[0][0]']              \n",
      " on)                                                                                              \n",
      "                                                                                                  \n",
      " conv_pw_2_relu (ReLU)          (None, 56, 56, 128)  0           ['conv_pw_2_bn[0][0]']           \n",
      "                                                                                                  \n",
      " conv_dw_3 (DepthwiseConv2D)    (None, 56, 56, 128)  1152        ['conv_pw_2_relu[0][0]']         \n",
      "                                                                                                  \n",
      " conv_dw_3_bn (BatchNormalizati  (None, 56, 56, 128)  512        ['conv_dw_3[0][0]']              \n",
      " on)                                                                                              \n",
      "                                                                                                  \n",
      " conv_dw_3_relu (ReLU)          (None, 56, 56, 128)  0           ['conv_dw_3_bn[0][0]']           \n",
      "                                                                                                  \n",
      " conv_pw_3 (Conv2D)             (None, 56, 56, 128)  16384       ['conv_dw_3_relu[0][0]']         \n",
      "                                                                                                  \n",
      " conv_pw_3_bn (BatchNormalizati  (None, 56, 56, 128)  512        ['conv_pw_3[0][0]']              \n",
      " on)                                                                                              \n",
      "                                                                                                  \n",
      " conv_pw_3_relu (ReLU)          (None, 56, 56, 128)  0           ['conv_pw_3_bn[0][0]']           \n",
      "                                                                                                  \n",
      " conv_pad_4 (ZeroPadding2D)     (None, 57, 57, 128)  0           ['conv_pw_3_relu[0][0]']         \n",
      "                                                                                                  \n",
      " conv_dw_4 (DepthwiseConv2D)    (None, 28, 28, 128)  1152        ['conv_pad_4[0][0]']             \n",
      "                                                                                                  \n",
      " conv_dw_4_bn (BatchNormalizati  (None, 28, 28, 128)  512        ['conv_dw_4[0][0]']              \n",
      " on)                                                                                              \n",
      "                                                                                                  \n",
      " conv_dw_4_relu (ReLU)          (None, 28, 28, 128)  0           ['conv_dw_4_bn[0][0]']           \n",
      "                                                                                                  \n",
      " conv_pw_4 (Conv2D)             (None, 28, 28, 256)  32768       ['conv_dw_4_relu[0][0]']         \n",
      "                                                                                                  \n",
      " conv_pw_4_bn (BatchNormalizati  (None, 28, 28, 256)  1024       ['conv_pw_4[0][0]']              \n",
      " on)                                                                                              \n",
      "                                                                                                  \n",
      " conv_pw_4_relu (ReLU)          (None, 28, 28, 256)  0           ['conv_pw_4_bn[0][0]']           \n",
      "                                                                                                  \n",
      " conv_dw_5 (DepthwiseConv2D)    (None, 28, 28, 256)  2304        ['conv_pw_4_relu[0][0]']         \n",
      "                                                                                                  \n",
      " conv_dw_5_bn (BatchNormalizati  (None, 28, 28, 256)  1024       ['conv_dw_5[0][0]']              \n",
      " on)                                                                                              \n",
      "                                                                                                  \n",
      " conv_dw_5_relu (ReLU)          (None, 28, 28, 256)  0           ['conv_dw_5_bn[0][0]']           \n",
      "                                                                                                  \n",
      " conv_pw_5 (Conv2D)             (None, 28, 28, 256)  65536       ['conv_dw_5_relu[0][0]']         \n",
      "                                                                                                  \n",
      " conv_pw_5_bn (BatchNormalizati  (None, 28, 28, 256)  1024       ['conv_pw_5[0][0]']              \n",
      " on)                                                                                              \n",
      "                                                                                                  \n",
      " conv_pw_5_relu (ReLU)          (None, 28, 28, 256)  0           ['conv_pw_5_bn[0][0]']           \n",
      "                                                                                                  \n",
      " conv_pad_6 (ZeroPadding2D)     (None, 29, 29, 256)  0           ['conv_pw_5_relu[0][0]']         \n",
      "                                                                                                  \n",
      " conv_dw_6 (DepthwiseConv2D)    (None, 14, 14, 256)  2304        ['conv_pad_6[0][0]']             \n",
      "                                                                                                  \n",
      " conv_dw_6_bn (BatchNormalizati  (None, 14, 14, 256)  1024       ['conv_dw_6[0][0]']              \n",
      " on)                                                                                              \n",
      "                                                                                                  \n",
      " conv_dw_6_relu (ReLU)          (None, 14, 14, 256)  0           ['conv_dw_6_bn[0][0]']           \n",
      "                                                                                                  \n",
      " conv_pw_6 (Conv2D)             (None, 14, 14, 512)  131072      ['conv_dw_6_relu[0][0]']         \n",
      "                                                                                                  \n",
      " conv_pw_6_bn (BatchNormalizati  (None, 14, 14, 512)  2048       ['conv_pw_6[0][0]']              \n",
      " on)                                                                                              \n",
      "                                                                                                  \n",
      " conv_pw_6_relu (ReLU)          (None, 14, 14, 512)  0           ['conv_pw_6_bn[0][0]']           \n",
      "                                                                                                  \n",
      " conv_dw_7 (DepthwiseConv2D)    (None, 14, 14, 512)  4608        ['conv_pw_6_relu[0][0]']         \n",
      "                                                                                                  \n",
      " conv_dw_7_bn (BatchNormalizati  (None, 14, 14, 512)  2048       ['conv_dw_7[0][0]']              \n",
      " on)                                                                                              \n",
      "                                                                                                  \n",
      " conv_dw_7_relu (ReLU)          (None, 14, 14, 512)  0           ['conv_dw_7_bn[0][0]']           \n",
      "                                                                                                  \n",
      " conv_pw_7 (Conv2D)             (None, 14, 14, 512)  262144      ['conv_dw_7_relu[0][0]']         \n",
      "                                                                                                  \n",
      " conv_pw_7_bn (BatchNormalizati  (None, 14, 14, 512)  2048       ['conv_pw_7[0][0]']              \n",
      " on)                                                                                              \n",
      "                                                                                                  \n",
      " conv_pw_7_relu (ReLU)          (None, 14, 14, 512)  0           ['conv_pw_7_bn[0][0]']           \n",
      "                                                                                                  \n",
      " conv_dw_8 (DepthwiseConv2D)    (None, 14, 14, 512)  4608        ['conv_pw_7_relu[0][0]']         \n",
      "                                                                                                  \n",
      " conv_dw_8_bn (BatchNormalizati  (None, 14, 14, 512)  2048       ['conv_dw_8[0][0]']              \n",
      " on)                                                                                              \n",
      "                                                                                                  \n",
      " conv_dw_8_relu (ReLU)          (None, 14, 14, 512)  0           ['conv_dw_8_bn[0][0]']           \n",
      "                                                                                                  \n",
      " conv_pw_8 (Conv2D)             (None, 14, 14, 512)  262144      ['conv_dw_8_relu[0][0]']         \n",
      "                                                                                                  \n",
      " conv_pw_8_bn (BatchNormalizati  (None, 14, 14, 512)  2048       ['conv_pw_8[0][0]']              \n",
      " on)                                                                                              \n",
      "                                                                                                  \n",
      " conv_pw_8_relu (ReLU)          (None, 14, 14, 512)  0           ['conv_pw_8_bn[0][0]']           \n",
      "                                                                                                  \n",
      " conv_dw_9 (DepthwiseConv2D)    (None, 14, 14, 512)  4608        ['conv_pw_8_relu[0][0]']         \n",
      "                                                                                                  \n",
      " conv_dw_9_bn (BatchNormalizati  (None, 14, 14, 512)  2048       ['conv_dw_9[0][0]']              \n",
      " on)                                                                                              \n",
      "                                                                                                  \n",
      " conv_dw_9_relu (ReLU)          (None, 14, 14, 512)  0           ['conv_dw_9_bn[0][0]']           \n",
      "                                                                                                  \n",
      " conv_pw_9 (Conv2D)             (None, 14, 14, 512)  262144      ['conv_dw_9_relu[0][0]']         \n",
      "                                                                                                  \n",
      " conv_pw_9_bn (BatchNormalizati  (None, 14, 14, 512)  2048       ['conv_pw_9[0][0]']              \n",
      " on)                                                                                              \n",
      "                                                                                                  \n",
      " conv_pw_9_relu (ReLU)          (None, 14, 14, 512)  0           ['conv_pw_9_bn[0][0]']           \n",
      "                                                                                                  \n",
      " conv_dw_10 (DepthwiseConv2D)   (None, 14, 14, 512)  4608        ['conv_pw_9_relu[0][0]']         \n",
      "                                                                                                  \n",
      " conv_dw_10_bn (BatchNormalizat  (None, 14, 14, 512)  2048       ['conv_dw_10[0][0]']             \n",
      " ion)                                                                                             \n",
      "                                                                                                  \n",
      " conv_dw_10_relu (ReLU)         (None, 14, 14, 512)  0           ['conv_dw_10_bn[0][0]']          \n",
      "                                                                                                  \n",
      " conv_pw_10 (Conv2D)            (None, 14, 14, 512)  262144      ['conv_dw_10_relu[0][0]']        \n",
      "                                                                                                  \n",
      " conv_pw_10_bn (BatchNormalizat  (None, 14, 14, 512)  2048       ['conv_pw_10[0][0]']             \n",
      " ion)                                                                                             \n",
      "                                                                                                  \n",
      " conv_pw_10_relu (ReLU)         (None, 14, 14, 512)  0           ['conv_pw_10_bn[0][0]']          \n",
      "                                                                                                  \n",
      " conv_dw_11 (DepthwiseConv2D)   (None, 14, 14, 512)  4608        ['conv_pw_10_relu[0][0]']        \n",
      "                                                                                                  \n",
      " conv_dw_11_bn (BatchNormalizat  (None, 14, 14, 512)  2048       ['conv_dw_11[0][0]']             \n",
      " ion)                                                                                             \n",
      "                                                                                                  \n",
      " conv_dw_11_relu (ReLU)         (None, 14, 14, 512)  0           ['conv_dw_11_bn[0][0]']          \n",
      "                                                                                                  \n",
      " conv_pw_11 (Conv2D)            (None, 14, 14, 512)  262144      ['conv_dw_11_relu[0][0]']        \n",
      "                                                                                                  \n",
      " conv_pw_11_bn (BatchNormalizat  (None, 14, 14, 512)  2048       ['conv_pw_11[0][0]']             \n",
      " ion)                                                                                             \n",
      "                                                                                                  \n",
      " conv_pw_11_relu (ReLU)         (None, 14, 14, 512)  0           ['conv_pw_11_bn[0][0]']          \n",
      "                                                                                                  \n",
      " conv_pad_12 (ZeroPadding2D)    (None, 15, 15, 512)  0           ['conv_pw_11_relu[0][0]']        \n",
      "                                                                                                  \n",
      " conv_dw_12 (DepthwiseConv2D)   (None, 7, 7, 512)    4608        ['conv_pad_12[0][0]']            \n",
      "                                                                                                  \n",
      " conv_dw_12_bn (BatchNormalizat  (None, 7, 7, 512)   2048        ['conv_dw_12[0][0]']             \n",
      " ion)                                                                                             \n",
      "                                                                                                  \n",
      " conv_dw_12_relu (ReLU)         (None, 7, 7, 512)    0           ['conv_dw_12_bn[0][0]']          \n",
      "                                                                                                  \n",
      " conv_pw_12 (Conv2D)            (None, 7, 7, 1024)   524288      ['conv_dw_12_relu[0][0]']        \n",
      "                                                                                                  \n",
      " conv_pw_12_bn (BatchNormalizat  (None, 7, 7, 1024)  4096        ['conv_pw_12[0][0]']             \n",
      " ion)                                                                                             \n",
      "                                                                                                  \n",
      " conv_pw_12_relu (ReLU)         (None, 7, 7, 1024)   0           ['conv_pw_12_bn[0][0]']          \n",
      "                                                                                                  \n",
      " conv_dw_13 (DepthwiseConv2D)   (None, 7, 7, 1024)   9216        ['conv_pw_12_relu[0][0]']        \n",
      "                                                                                                  \n",
      " conv_dw_13_bn (BatchNormalizat  (None, 7, 7, 1024)  4096        ['conv_dw_13[0][0]']             \n",
      " ion)                                                                                             \n",
      "                                                                                                  \n",
      " conv_dw_13_relu (ReLU)         (None, 7, 7, 1024)   0           ['conv_dw_13_bn[0][0]']          \n",
      "                                                                                                  \n",
      " conv_pw_13 (Conv2D)            (None, 7, 7, 1024)   1048576     ['conv_dw_13_relu[0][0]']        \n",
      "                                                                                                  \n",
      " conv_pw_13_bn (BatchNormalizat  (None, 7, 7, 1024)  4096        ['conv_pw_13[0][0]']             \n",
      " ion)                                                                                             \n",
      "                                                                                                  \n",
      " conv_pw_13_relu (ReLU)         (None, 7, 7, 1024)   0           ['conv_pw_13_bn[0][0]']          \n",
      "                                                                                                  \n",
      " global_pooling (GlobalAverageP  (None, 1024)        0           ['conv_pw_13_relu[0][0]']        \n",
      " ooling2D)                                                                                        \n",
      "                                                                                                  \n",
      " feat_valence (Dense)           (None, 256)          262400      ['global_pooling[0][0]']         \n",
      "                                                                                                  \n",
      " feat_arousal (Dense)           (None, 256)          262400      ['global_pooling[0][0]']         \n",
      "                                                                                                  \n",
      " feat_emotion (Dense)           (None, 256)          262400      ['global_pooling[0][0]']         \n",
      "                                                                                                  \n",
      " outputs_valence (Dense)        (None, 1)            257         ['feat_valence[0][0]']           \n",
      "                                                                                                  \n",
      " outputs_arousal (Dense)        (None, 1)            257         ['feat_arousal[0][0]']           \n",
      "                                                                                                  \n",
      " outputs_emotion (Dense)        (None, 11)           2827        ['feat_emotion[0][0]']           \n",
      "                                                                                                  \n",
      "==================================================================================================\n",
      "Total params: 4,019,405\n",
      "Trainable params: 3,997,517\n",
      "Non-trainable params: 21,888\n",
      "__________________________________________________________________________________________________\n"
     ]
    }
   ],
   "source": [
    "model.summary()"
   ]
  },
  {
   "cell_type": "code",
   "execution_count": 13,
   "metadata": {
    "ExecuteTime": {
     "end_time": "2022-01-20T14:15:29.055449Z",
     "start_time": "2022-01-20T14:15:29.052522Z"
    }
   },
   "outputs": [],
   "source": [
    "# Instantiate an optimizer.\n",
    "optimizer = tf.keras.optimizers.Adam()\n",
    "# Instantiate a loss function.\n",
    "MSE_loss = tf.keras.losses.MeanSquaredError()\n",
    "SCC_loss = tf.keras.losses.SparseCategoricalCrossentropy()"
   ]
  },
  {
   "cell_type": "code",
   "execution_count": 14,
   "metadata": {
    "ExecuteTime": {
     "end_time": "2022-01-20T14:15:29.059030Z",
     "start_time": "2022-01-20T14:15:29.056649Z"
    }
   },
   "outputs": [],
   "source": [
    "batch_size = 32\n",
    "epochs = 16\n",
    "\n",
    "logs = []"
   ]
  },
  {
   "cell_type": "code",
   "execution_count": null,
   "metadata": {
    "ExecuteTime": {
     "start_time": "2022-01-20T14:15:03.540Z"
    }
   },
   "outputs": [
    {
     "name": "stdout",
     "output_type": "stream",
     "text": [
      "{\"emotion_correct\": 6, \"valence_loss\": 2.8534553050994873, \"arousal_loss\": 2.515580654144287, \"emotion_loss\": 2.5623083114624023, \"time_take\": 4.612616777420044}\n",
      "{\"emotion_correct\": 9, \"valence_loss\": 1.0691165924072266, \"arousal_loss\": 0.9013432264328003, \"emotion_loss\": 2.24477219581604, \"time_take\": 4.974774599075317}\n",
      "{\"emotion_correct\": 10, \"valence_loss\": 1.5327630043029785, \"arousal_loss\": 1.3371913433074951, \"emotion_loss\": 2.0266366004943848, \"time_take\": 5.297564506530762}\n",
      "{\"emotion_correct\": 9, \"valence_loss\": 1.1270781755447388, \"arousal_loss\": 0.9618244171142578, \"emotion_loss\": 1.890458583831787, \"time_take\": 5.668213367462158}\n",
      "{\"emotion_correct\": 16, \"valence_loss\": 0.8901239037513733, \"arousal_loss\": 0.6736671924591064, \"emotion_loss\": 1.5974705219268799, \"time_take\": 6.147798538208008}\n",
      "{\"emotion_correct\": 15, \"valence_loss\": 0.8923944234848022, \"arousal_loss\": 0.7646913528442383, \"emotion_loss\": 1.7276701927185059, \"time_take\": 6.408210039138794}\n",
      "{\"emotion_correct\": 12, \"valence_loss\": 1.2058069705963135, \"arousal_loss\": 1.0757381916046143, \"emotion_loss\": 1.9839683771133423, \"time_take\": 6.775860786437988}\n",
      "{\"emotion_correct\": 16, \"valence_loss\": 1.4213236570358276, \"arousal_loss\": 1.2024894952774048, \"emotion_loss\": 1.570814609527588, \"time_take\": 7.252202272415161}\n",
      "{\"emotion_correct\": 16, \"valence_loss\": 1.004338264465332, \"arousal_loss\": 0.7145504355430603, \"emotion_loss\": 1.5725886821746826, \"time_take\": 7.625601768493652}\n",
      "{\"emotion_correct\": 13, \"valence_loss\": 1.2735769748687744, \"arousal_loss\": 1.2294716835021973, \"emotion_loss\": 1.7176663875579834, \"time_take\": 7.849445819854736}\n",
      "{\"emotion_correct\": 22, \"valence_loss\": 0.7429711818695068, \"arousal_loss\": 0.56903076171875, \"emotion_loss\": 1.0603138208389282, \"time_take\": 8.298012018203735}\n",
      "{\"emotion_correct\": 14, \"valence_loss\": 0.7793023586273193, \"arousal_loss\": 0.6221209168434143, \"emotion_loss\": 1.876381278038025, \"time_take\": 8.531260967254639}\n",
      "{\"emotion_correct\": 10, \"valence_loss\": 0.7028899192810059, \"arousal_loss\": 0.5372282266616821, \"emotion_loss\": 1.7974296808242798, \"time_take\": 8.856515169143677}\n",
      "{\"emotion_correct\": 17, \"valence_loss\": 1.3466718196868896, \"arousal_loss\": 1.2193418741226196, \"emotion_loss\": 1.570151686668396, \"time_take\": 9.22053050994873}\n",
      "{\"emotion_correct\": 13, \"valence_loss\": 1.2045962810516357, \"arousal_loss\": 1.1161538362503052, \"emotion_loss\": 1.649417519569397, \"time_take\": 9.48667049407959}\n",
      "{\"emotion_correct\": 14, \"valence_loss\": 1.135429859161377, \"arousal_loss\": 0.9775772094726562, \"emotion_loss\": 1.8914759159088135, \"time_take\": 9.726139307022095}\n",
      "{\"emotion_correct\": 16, \"valence_loss\": 1.449170470237732, \"arousal_loss\": 1.331655740737915, \"emotion_loss\": 1.3950380086898804, \"time_take\": 9.979471206665039}\n",
      "{\"emotion_correct\": 12, \"valence_loss\": 0.9364879727363586, \"arousal_loss\": 0.8615652322769165, \"emotion_loss\": 1.841638207435608, \"time_take\": 10.271392822265625}\n",
      "{\"emotion_correct\": 18, \"valence_loss\": 1.1829642057418823, \"arousal_loss\": 1.1103577613830566, \"emotion_loss\": 1.6220951080322266, \"time_take\": 10.524503946304321}\n",
      "{\"emotion_correct\": 18, \"valence_loss\": 1.5316531658172607, \"arousal_loss\": 1.3058956861495972, \"emotion_loss\": 1.2839272022247314, \"time_take\": 10.806376934051514}\n",
      "{\"emotion_correct\": 14, \"valence_loss\": 1.1345155239105225, \"arousal_loss\": 0.9791731238365173, \"emotion_loss\": 1.5940020084381104, \"time_take\": 11.342971324920654}\n",
      "{\"emotion_correct\": 19, \"valence_loss\": 1.454879879951477, \"arousal_loss\": 1.3466801643371582, \"emotion_loss\": 1.426490068435669, \"time_take\": 11.604717493057251}\n",
      "{\"emotion_correct\": 17, \"valence_loss\": 1.1038389205932617, \"arousal_loss\": 0.9634137153625488, \"emotion_loss\": 1.476670503616333, \"time_take\": 11.883071660995483}\n",
      "{\"emotion_correct\": 18, \"valence_loss\": 0.951007604598999, \"arousal_loss\": 0.8470131158828735, \"emotion_loss\": 1.3607330322265625, \"time_take\": 12.220922708511353}\n",
      "{\"emotion_correct\": 20, \"valence_loss\": 0.6365022659301758, \"arousal_loss\": 0.46962180733680725, \"emotion_loss\": 1.4177544116973877, \"time_take\": 12.48685336112976}\n",
      "{\"emotion_correct\": 16, \"valence_loss\": 1.2371015548706055, \"arousal_loss\": 1.0822526216506958, \"emotion_loss\": 1.6569278240203857, \"time_take\": 12.804184675216675}\n",
      "{\"emotion_correct\": 17, \"valence_loss\": 1.210050344467163, \"arousal_loss\": 1.0738978385925293, \"emotion_loss\": 1.1421401500701904, \"time_take\": 13.069090604782104}\n",
      "{\"emotion_correct\": 16, \"valence_loss\": 1.4847650527954102, \"arousal_loss\": 1.3590052127838135, \"emotion_loss\": 1.7546191215515137, \"time_take\": 13.339332103729248}\n",
      "{\"emotion_correct\": 18, \"valence_loss\": 1.2101343870162964, \"arousal_loss\": 1.0943067073822021, \"emotion_loss\": 1.7828342914581299, \"time_take\": 13.594711780548096}\n",
      "{\"emotion_correct\": 17, \"valence_loss\": 1.0163249969482422, \"arousal_loss\": 0.8322016000747681, \"emotion_loss\": 1.4758186340332031, \"time_take\": 13.884901285171509}\n",
      "{\"emotion_correct\": 13, \"valence_loss\": 1.1074553728103638, \"arousal_loss\": 0.9588308334350586, \"emotion_loss\": 1.7082701921463013, \"time_take\": 14.257777214050293}\n",
      "{\"emotion_correct\": 16, \"valence_loss\": 0.7555745840072632, \"arousal_loss\": 0.6199779510498047, \"emotion_loss\": 1.757419228553772, \"time_take\": 14.45755648612976}\n",
      "{\"emotion_correct\": 17, \"valence_loss\": 1.1551613807678223, \"arousal_loss\": 1.112858533859253, \"emotion_loss\": 1.7502806186676025, \"time_take\": 14.74264907836914}\n",
      "{\"emotion_correct\": 16, \"valence_loss\": 1.1523513793945312, \"arousal_loss\": 1.064765214920044, \"emotion_loss\": 1.7770791053771973, \"time_take\": 15.051037549972534}\n",
      "{\"emotion_correct\": 16, \"valence_loss\": 1.0128591060638428, \"arousal_loss\": 1.000698208808899, \"emotion_loss\": 1.70502769947052, \"time_take\": 15.373451471328735}\n",
      "{\"emotion_correct\": 14, \"valence_loss\": 1.3600547313690186, \"arousal_loss\": 1.1693214178085327, \"emotion_loss\": 1.6106511354446411, \"time_take\": 15.862584352493286}\n",
      "{\"emotion_correct\": 20, \"valence_loss\": 0.99519944190979, \"arousal_loss\": 0.8336732387542725, \"emotion_loss\": 1.4630577564239502, \"time_take\": 16.264812469482422}\n",
      "{\"emotion_correct\": 12, \"valence_loss\": 1.605410099029541, \"arousal_loss\": 1.4651684761047363, \"emotion_loss\": 1.8119816780090332, \"time_take\": 16.495874404907227}\n",
      "{\"emotion_correct\": 14, \"valence_loss\": 0.9596737623214722, \"arousal_loss\": 0.8475013375282288, \"emotion_loss\": 1.6973344087600708, \"time_take\": 16.911285400390625}\n",
      "{\"emotion_correct\": 20, \"valence_loss\": 1.1193678379058838, \"arousal_loss\": 0.9468372464179993, \"emotion_loss\": 1.402361273765564, \"time_take\": 17.256547689437866}\n",
      "{\"emotion_correct\": 16, \"valence_loss\": 0.9625318050384521, \"arousal_loss\": 0.8513544201850891, \"emotion_loss\": 1.7042542695999146, \"time_take\": 17.573585748672485}\n",
      "{\"emotion_correct\": 13, \"valence_loss\": 0.9378166198730469, \"arousal_loss\": 0.8431310653686523, \"emotion_loss\": 1.7596697807312012, \"time_take\": 17.939328908920288}\n",
      "{\"emotion_correct\": 18, \"valence_loss\": 0.8487709760665894, \"arousal_loss\": 0.712912917137146, \"emotion_loss\": 1.5388047695159912, \"time_take\": 18.138432264328003}\n",
      "{\"emotion_correct\": 21, \"valence_loss\": 1.1687915325164795, \"arousal_loss\": 0.9312860369682312, \"emotion_loss\": 1.2313551902770996, \"time_take\": 18.472867488861084}\n",
      "{\"emotion_correct\": 21, \"valence_loss\": 0.7205674052238464, \"arousal_loss\": 0.5732910633087158, \"emotion_loss\": 1.0416985750198364, \"time_take\": 18.746878385543823}\n",
      "{\"emotion_correct\": 19, \"valence_loss\": 1.2479050159454346, \"arousal_loss\": 1.038161277770996, \"emotion_loss\": 1.2251979112625122, \"time_take\": 19.07843041419983}\n",
      "{\"emotion_correct\": 14, \"valence_loss\": 0.5987863540649414, \"arousal_loss\": 0.507246732711792, \"emotion_loss\": 1.7894971370697021, \"time_take\": 19.31708574295044}\n",
      "{\"emotion_correct\": 18, \"valence_loss\": 0.9850978851318359, \"arousal_loss\": 0.7937763333320618, \"emotion_loss\": 1.4482966661453247, \"time_take\": 19.63585329055786}\n",
      "{\"emotion_correct\": 15, \"valence_loss\": 1.1377397775650024, \"arousal_loss\": 0.9757775068283081, \"emotion_loss\": 1.9837231636047363, \"time_take\": 19.89591932296753}\n",
      "{\"emotion_correct\": 21, \"valence_loss\": 1.1022584438323975, \"arousal_loss\": 0.9672620892524719, \"emotion_loss\": 1.2457315921783447, \"time_take\": 20.21509575843811}\n",
      "{\"emotion_correct\": 17, \"valence_loss\": 1.3388001918792725, \"arousal_loss\": 1.218017339706421, \"emotion_loss\": 1.6227259635925293, \"time_take\": 20.552196741104126}\n"
     ]
    },
    {
     "name": "stdout",
     "output_type": "stream",
     "text": [
      "{\"emotion_correct\": 15, \"valence_loss\": 1.1764898300170898, \"arousal_loss\": 1.1205782890319824, \"emotion_loss\": 1.6115731000900269, \"time_take\": 20.875985860824585}\n",
      "{\"emotion_correct\": 17, \"valence_loss\": 0.8973680734634399, \"arousal_loss\": 0.7201790809631348, \"emotion_loss\": 1.2507548332214355, \"time_take\": 21.16574001312256}\n",
      "{\"emotion_correct\": 11, \"valence_loss\": 1.0063426494598389, \"arousal_loss\": 0.8074427843093872, \"emotion_loss\": 1.7273393869400024, \"time_take\": 21.41614007949829}\n",
      "{\"emotion_correct\": 15, \"valence_loss\": 1.052952766418457, \"arousal_loss\": 0.9171739816665649, \"emotion_loss\": 1.328065037727356, \"time_take\": 21.781331300735474}\n",
      "{\"emotion_correct\": 15, \"valence_loss\": 0.8614622950553894, \"arousal_loss\": 0.7409919500350952, \"emotion_loss\": 1.7439146041870117, \"time_take\": 22.147660970687866}\n",
      "{\"emotion_correct\": 22, \"valence_loss\": 1.2999953031539917, \"arousal_loss\": 1.082664132118225, \"emotion_loss\": 1.3846988677978516, \"time_take\": 22.45090341567993}\n",
      "{\"emotion_correct\": 17, \"valence_loss\": 1.164147138595581, \"arousal_loss\": 1.115221381187439, \"emotion_loss\": 1.3495619297027588, \"time_take\": 22.776647329330444}\n",
      "{\"emotion_correct\": 17, \"valence_loss\": 1.4232561588287354, \"arousal_loss\": 1.3788447380065918, \"emotion_loss\": 1.5225160121917725, \"time_take\": 23.099402904510498}\n",
      "{\"emotion_correct\": 19, \"valence_loss\": 0.9422333240509033, \"arousal_loss\": 0.8817582726478577, \"emotion_loss\": 1.5914216041564941, \"time_take\": 23.416410446166992}\n",
      "{\"emotion_correct\": 14, \"valence_loss\": 0.9460577368736267, \"arousal_loss\": 0.8682576417922974, \"emotion_loss\": 1.484787940979004, \"time_take\": 23.778709650039673}\n",
      "{\"emotion_correct\": 18, \"valence_loss\": 0.9677237868309021, \"arousal_loss\": 0.8366574048995972, \"emotion_loss\": 1.469275951385498, \"time_take\": 24.116516828536987}\n",
      "{\"emotion_correct\": 22, \"valence_loss\": 0.9457871913909912, \"arousal_loss\": 0.7083112001419067, \"emotion_loss\": 1.1279675960540771, \"time_take\": 24.47087788581848}\n",
      "{\"emotion_correct\": 18, \"valence_loss\": 0.9902129173278809, \"arousal_loss\": 0.8825356960296631, \"emotion_loss\": 1.3161537647247314, \"time_take\": 24.73003840446472}\n",
      "{\"emotion_correct\": 14, \"valence_loss\": 0.8946061134338379, \"arousal_loss\": 0.7791541814804077, \"emotion_loss\": 1.6678158044815063, \"time_take\": 25.01852250099182}\n",
      "{\"emotion_correct\": 14, \"valence_loss\": 1.0044007301330566, \"arousal_loss\": 0.8844528794288635, \"emotion_loss\": 1.4209903478622437, \"time_take\": 25.222273349761963}\n",
      "{\"emotion_correct\": 22, \"valence_loss\": 0.7822086215019226, \"arousal_loss\": 0.570514440536499, \"emotion_loss\": 1.246282935142517, \"time_take\": 25.553024768829346}\n",
      "{\"emotion_correct\": 18, \"valence_loss\": 0.8638111352920532, \"arousal_loss\": 0.7218032479286194, \"emotion_loss\": 1.2706159353256226, \"time_take\": 25.844465494155884}\n",
      "{\"emotion_correct\": 18, \"valence_loss\": 1.2153738737106323, \"arousal_loss\": 1.0913283824920654, \"emotion_loss\": 1.236527919769287, \"time_take\": 26.09619665145874}\n",
      "{\"emotion_correct\": 16, \"valence_loss\": 1.3842358589172363, \"arousal_loss\": 1.325697898864746, \"emotion_loss\": 1.5954837799072266, \"time_take\": 26.388383150100708}\n",
      "{\"emotion_correct\": 21, \"valence_loss\": 0.5910031795501709, \"arousal_loss\": 0.3467930555343628, \"emotion_loss\": 1.0053739547729492, \"time_take\": 26.677756547927856}\n",
      "{\"emotion_correct\": 12, \"valence_loss\": 1.5515265464782715, \"arousal_loss\": 1.453007459640503, \"emotion_loss\": 1.799286961555481, \"time_take\": 26.93818950653076}\n",
      "{\"emotion_correct\": 18, \"valence_loss\": 1.350824236869812, \"arousal_loss\": 1.1896188259124756, \"emotion_loss\": 1.3055150508880615, \"time_take\": 27.18303608894348}\n",
      "{\"emotion_correct\": 17, \"valence_loss\": 1.005403757095337, \"arousal_loss\": 0.8332568407058716, \"emotion_loss\": 1.3948216438293457, \"time_take\": 27.48761296272278}\n"
     ]
    }
   ],
   "source": [
    "from telegram_notifier import send_message\n",
    "import time\n",
    "start_time = time.time()\n",
    "\n",
    "\n",
    "for epoch in range(epochs):\n",
    "    total_loss = 0\n",
    "    total_step = 0\n",
    "    total_emotion_correct = 0\n",
    "    total_valence_loss = 0\n",
    "    total_arousal_loss = 0\n",
    "    total_emotion_loss = 0\n",
    "    total_process = 0\n",
    "    for step, row in enumerate(DataFrameBatchIterator(train_df, batch_size=batch_size)):\n",
    "\n",
    "        imgs = row.subDirectory_filePath.apply(lambda x: cv2.resize(\n",
    "            cv2.cvtColor(cv2.imread(x), cv2.COLOR_BGR2RGB), (224, 224)))\n",
    "        img_array = np.array(list(imgs))\n",
    "\n",
    "        y_valence = np.array(row.valence)\n",
    "        y_arousal = np.array(row.arousal)\n",
    "        y_emotion = np.array(row.expression)\n",
    "\n",
    "        with tf.GradientTape() as tape:\n",
    "            logits = model(img_array, training=True)\n",
    "\n",
    "            pred_valence = logits[0]\n",
    "            pred_arousal = logits[1]\n",
    "            pred_emotion = logits[2]\n",
    "\n",
    "            valence_loss = MSE_loss(y_valence, pred_valence)\n",
    "            arousal_loss = MSE_loss(y_arousal, pred_arousal)\n",
    "            emotion_loss = SCC_loss(y_emotion, pred_emotion)\n",
    "\n",
    "            loss = valence_loss + arousal_loss + emotion_loss\n",
    "\n",
    "            grads = tape.gradient(loss, model.trainable_weights)\n",
    "\n",
    "            optimizer.apply_gradients(zip(grads, model.trainable_weights))\n",
    "        total_loss += float(loss)\n",
    "        total_step += 1\n",
    "        \n",
    "        total_process += len(row)\n",
    "\n",
    "        valence_loss = float(valence_loss)\n",
    "        arousal_loss = float(arousal_loss)\n",
    "        emotion_loss = float(emotion_loss)\n",
    "        \n",
    "        total_valence_loss += valence_loss\n",
    "        total_arousal_loss += arousal_loss\n",
    "        total_emotion_loss += emotion_loss\n",
    "        \n",
    "        emotion_correct = int(sum(pred_emotion.numpy().argmax(axis = 1) == y_emotion))\n",
    "        total_emotion_correct += emotion_correct\n",
    "        \n",
    "        log = {\n",
    "            'emotion_correct': emotion_correct,\n",
    "            'valence_loss': valence_loss,\n",
    "            'arousal_loss': arousal_loss,\n",
    "            'emotion_loss': emotion_loss,\n",
    "            'time_take': time.time() - start_time\n",
    "        }\n",
    "        log = json.dumps(log)\n",
    "        lprint(log)\n",
    "    save_model_path = f\"models/{now_time_string}_{description}_epoch{epoch}_batch_{batch_size}\"\n",
    "    model.save(save_model_path)\n",
    "    lprint(f\"Save {save_model_path}\")\n",
    "    send_message(f\"Save {save_model_path}\\nepoch {epoch} is finish\")\n",
    "    log = {\n",
    "        'model_path': save_model_path,\n",
    "        'total_emotion_correct': total_emotion_correct,\n",
    "        'total_loss': total_loss,\n",
    "        'total_valence_loss': total_valence_loss,\n",
    "        'total_arousal_loss': total_arousal_loss,\n",
    "        'total_emotion_loss': total_emotion_loss,\n",
    "        'total_process': total_process,\n",
    "        'time_take': time.time() - start_time\n",
    "    }\n",
    "    log = json.dumps(log)\n",
    "    lprint(log)"
   ]
  },
  {
   "cell_type": "code",
   "execution_count": null,
   "metadata": {},
   "outputs": [],
   "source": []
  },
  {
   "cell_type": "code",
   "execution_count": null,
   "metadata": {},
   "outputs": [],
   "source": []
  }
 ],
 "metadata": {
  "kernelspec": {
   "display_name": "tf27",
   "language": "python",
   "name": "tf27"
  },
  "language_info": {
   "codemirror_mode": {
    "name": "ipython",
    "version": 3
   },
   "file_extension": ".py",
   "mimetype": "text/x-python",
   "name": "python",
   "nbconvert_exporter": "python",
   "pygments_lexer": "ipython3",
   "version": "3.9.7"
  },
  "varInspector": {
   "cols": {
    "lenName": 16,
    "lenType": 16,
    "lenVar": 40
   },
   "kernels_config": {
    "python": {
     "delete_cmd_postfix": "",
     "delete_cmd_prefix": "del ",
     "library": "var_list.py",
     "varRefreshCmd": "print(var_dic_list())"
    },
    "r": {
     "delete_cmd_postfix": ") ",
     "delete_cmd_prefix": "rm(",
     "library": "var_list.r",
     "varRefreshCmd": "cat(var_dic_list()) "
    }
   },
   "types_to_exclude": [
    "module",
    "function",
    "builtin_function_or_method",
    "instance",
    "_Feature"
   ],
   "window_display": false
  }
 },
 "nbformat": 4,
 "nbformat_minor": 4
}
