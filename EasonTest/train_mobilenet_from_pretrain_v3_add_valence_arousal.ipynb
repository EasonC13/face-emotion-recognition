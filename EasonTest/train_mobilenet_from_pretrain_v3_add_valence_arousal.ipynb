{
 "cells": [
  {
   "cell_type": "markdown",
   "metadata": {},
   "source": [
    "# 01/20"
   ]
  },
  {
   "cell_type": "markdown",
   "metadata": {
    "ExecuteTime": {
     "end_time": "2022-01-18T12:50:25.876212Z",
     "start_time": "2022-01-18T12:50:25.870149Z"
    }
   },
   "source": [
    "%matplotlib inline"
   ]
  },
  {
   "cell_type": "code",
   "execution_count": 1,
   "metadata": {
    "ExecuteTime": {
     "end_time": "2022-01-22T15:41:43.325382Z",
     "start_time": "2022-01-22T15:41:43.292662Z"
    }
   },
   "outputs": [],
   "source": [
    "description = 'train_mobilenet_from_pretrain_v3_add_valence_arousal'"
   ]
  },
  {
   "cell_type": "code",
   "execution_count": 2,
   "metadata": {
    "ExecuteTime": {
     "end_time": "2022-01-22T15:41:44.731784Z",
     "start_time": "2022-01-22T15:41:43.329317Z"
    }
   },
   "outputs": [],
   "source": [
    "\n",
    "import os\n",
    "import numpy as np\n",
    "from sklearn.preprocessing import LabelEncoder\n",
    "import matplotlib.pyplot as plt\n",
    "import cv2\n",
    "from PIL import Image\n",
    "from random import shuffle\n",
    "import math\n",
    "\n",
    "import pandas as pd\n",
    "\n",
    "import pickle\n",
    "\n",
    "from sklearn.svm import SVC,LinearSVC\n",
    "from sklearn.ensemble import RandomForestClassifier, BaggingClassifier,ExtraTreesClassifier\n",
    "from sklearn.neural_network import MLPClassifier\n",
    "from sklearn import preprocessing\n",
    "\n",
    "#from scipy.misc import imread, imresize\n",
    "\n"
   ]
  },
  {
   "cell_type": "code",
   "execution_count": 3,
   "metadata": {
    "ExecuteTime": {
     "end_time": "2022-01-22T15:41:44.739563Z",
     "start_time": "2022-01-22T15:41:44.733137Z"
    }
   },
   "outputs": [],
   "source": [
    "import tqdm\n",
    "import json"
   ]
  },
  {
   "cell_type": "code",
   "execution_count": 4,
   "metadata": {
    "ExecuteTime": {
     "end_time": "2022-01-22T15:41:48.396884Z",
     "start_time": "2022-01-22T15:41:44.741602Z"
    }
   },
   "outputs": [],
   "source": [
    "train_df = pd.read_csv('../../data/Manually_Annotated_file_lists/training_face_mesh_crop.csv')\n",
    "train_df.subDirectory_filePath = '../../data/Manually_Annotated_Images_FaceMesh_Cropped/' + train_df.subDirectory_filePath\n",
    "\n",
    "#train_df_2 = pd.read_csv('../../data/Automatically_annotated_file_list/automatically_annotated_face_mesh_crop.csv')\n",
    "#train_df_2.subDirectory_filePath = '../../data/Automatically_Annotated_Images_FaceMesh_Cropped/' + train_df_2.subDirectory_filePath\n",
    "#train_df = train_df.append(train_df_2)\n",
    "#del train_df_2\n",
    "\n",
    "train_df = train_df[train_df['have_facemesh']]"
   ]
  },
  {
   "cell_type": "code",
   "execution_count": 5,
   "metadata": {
    "ExecuteTime": {
     "end_time": "2022-01-22T15:41:48.402993Z",
     "start_time": "2022-01-22T15:41:48.398285Z"
    }
   },
   "outputs": [
    {
     "name": "stdout",
     "output_type": "stream",
     "text": [
      "log_file_name='01_22_23:41:48.log'\n"
     ]
    }
   ],
   "source": [
    "from eason_utils import DataFrameBatchIterator\n",
    "from eason_utils import lprint, now_time_string, log_file_name, change_log_file_name\n",
    "\n",
    "change_log_file_name(f'''{log_file_name.replace('.log', '')}_{description}.log''')"
   ]
  },
  {
   "cell_type": "code",
   "execution_count": null,
   "metadata": {
    "ExecuteTime": {
     "end_time": "2022-01-19T13:57:18.682279Z",
     "start_time": "2022-01-19T13:57:18.670590Z"
    }
   },
   "outputs": [],
   "source": []
  },
  {
   "cell_type": "code",
   "execution_count": 6,
   "metadata": {
    "ExecuteTime": {
     "end_time": "2022-01-22T15:41:50.284672Z",
     "start_time": "2022-01-22T15:41:48.404331Z"
    }
   },
   "outputs": [],
   "source": [
    "os.environ['TF_CPP_MIN_LOG_LEVEL'] = '2'\n",
    "import tensorflow as tf\n",
    "config = tf.compat.v1.ConfigProto(gpu_options = tf.compat.v1.GPUOptions(allow_growth = True))\n",
    "sess = tf.compat.v1.Session(config = config)"
   ]
  },
  {
   "cell_type": "code",
   "execution_count": 7,
   "metadata": {
    "ExecuteTime": {
     "end_time": "2022-01-22T15:41:50.808731Z",
     "start_time": "2022-01-22T15:41:50.286200Z"
    }
   },
   "outputs": [
    {
     "name": "stdout",
     "output_type": "stream",
     "text": [
      "WARNING:tensorflow:No training configuration found in the save file, so the model was *not* compiled. Compile it manually.\n"
     ]
    }
   ],
   "source": [
    "mobilenet_pretrained = tf.keras.models.load_model(\"../models/affectnet_emotions/mobilenet_7.h5\")"
   ]
  },
  {
   "cell_type": "code",
   "execution_count": 8,
   "metadata": {
    "ExecuteTime": {
     "end_time": "2022-01-22T15:41:50.815679Z",
     "start_time": "2022-01-22T15:41:50.810053Z"
    }
   },
   "outputs": [],
   "source": [
    "mobilenet_pretrained.trainable = False\n",
    "mobilenet_output = mobilenet_pretrained.get_layer(\"global_pooling\").output"
   ]
  },
  {
   "cell_type": "code",
   "execution_count": 9,
   "metadata": {
    "ExecuteTime": {
     "end_time": "2022-01-22T15:41:50.819287Z",
     "start_time": "2022-01-22T15:41:50.817038Z"
    }
   },
   "outputs": [],
   "source": [
    "hidden_layers = [256]"
   ]
  },
  {
   "cell_type": "code",
   "execution_count": 10,
   "metadata": {
    "ExecuteTime": {
     "end_time": "2022-01-22T15:41:50.856151Z",
     "start_time": "2022-01-22T15:41:50.821326Z"
    }
   },
   "outputs": [],
   "source": [
    "valaence_feat = mobilenet_output\n",
    "for size in hidden_layers:\n",
    "    valence_feat = tf.keras.layers.Dense(size, activation = 'relu', name = f'feat_valence')(valaence_feat)\n",
    "outputs_valence = (tf.keras.layers.Dense(1, activation = 'sigmoid', name = 'outputs_valence')(valence_feat) * 4) - 2\n",
    "\n",
    "arousal_feat = mobilenet_output\n",
    "for size in hidden_layers:\n",
    "    arousal_feat = tf.keras.layers.Dense(size, activation = 'relu', name = f'feat_arousal')(arousal_feat)\n",
    "outputs_arousal = (tf.keras.layers.Dense(1, activation = 'sigmoid', name = 'outputs_arousal')(arousal_feat) * 4) - 2\n"
   ]
  },
  {
   "cell_type": "code",
   "execution_count": 11,
   "metadata": {
    "ExecuteTime": {
     "end_time": "2022-01-22T15:41:50.867467Z",
     "start_time": "2022-01-22T15:41:50.857539Z"
    }
   },
   "outputs": [],
   "source": [
    "model = tf.keras.Model(inputs=mobilenet_pretrained.input,\n",
    "                       outputs=(outputs_valence, outputs_arousal, mobilenet_pretrained.output) , name=\"mobilenet_train\")"
   ]
  },
  {
   "cell_type": "code",
   "execution_count": 12,
   "metadata": {
    "ExecuteTime": {
     "end_time": "2022-01-22T15:41:50.905429Z",
     "start_time": "2022-01-22T15:41:50.868834Z"
    }
   },
   "outputs": [
    {
     "name": "stdout",
     "output_type": "stream",
     "text": [
      "Model: \"mobilenet_train\"\n",
      "__________________________________________________________________________________________________\n",
      " Layer (type)                   Output Shape         Param #     Connected to                     \n",
      "==================================================================================================\n",
      " input_1 (InputLayer)           [(None, 224, 224, 3  0           []                               \n",
      "                                )]                                                                \n",
      "                                                                                                  \n",
      " conv1_pad (ZeroPadding2D)      (None, 225, 225, 3)  0           ['input_1[0][0]']                \n",
      "                                                                                                  \n",
      " conv1 (Conv2D)                 (None, 112, 112, 32  864         ['conv1_pad[0][0]']              \n",
      "                                )                                                                 \n",
      "                                                                                                  \n",
      " conv1_bn (BatchNormalization)  (None, 112, 112, 32  128         ['conv1[0][0]']                  \n",
      "                                )                                                                 \n",
      "                                                                                                  \n",
      " conv1_relu (ReLU)              (None, 112, 112, 32  0           ['conv1_bn[0][0]']               \n",
      "                                )                                                                 \n",
      "                                                                                                  \n",
      " conv_dw_1 (DepthwiseConv2D)    (None, 112, 112, 32  288         ['conv1_relu[0][0]']             \n",
      "                                )                                                                 \n",
      "                                                                                                  \n",
      " conv_dw_1_bn (BatchNormalizati  (None, 112, 112, 32  128        ['conv_dw_1[0][0]']              \n",
      " on)                            )                                                                 \n",
      "                                                                                                  \n",
      " conv_dw_1_relu (ReLU)          (None, 112, 112, 32  0           ['conv_dw_1_bn[0][0]']           \n",
      "                                )                                                                 \n",
      "                                                                                                  \n",
      " conv_pw_1 (Conv2D)             (None, 112, 112, 64  2048        ['conv_dw_1_relu[0][0]']         \n",
      "                                )                                                                 \n",
      "                                                                                                  \n",
      " conv_pw_1_bn (BatchNormalizati  (None, 112, 112, 64  256        ['conv_pw_1[0][0]']              \n",
      " on)                            )                                                                 \n",
      "                                                                                                  \n",
      " conv_pw_1_relu (ReLU)          (None, 112, 112, 64  0           ['conv_pw_1_bn[0][0]']           \n",
      "                                )                                                                 \n",
      "                                                                                                  \n",
      " conv_pad_2 (ZeroPadding2D)     (None, 113, 113, 64  0           ['conv_pw_1_relu[0][0]']         \n",
      "                                )                                                                 \n",
      "                                                                                                  \n",
      " conv_dw_2 (DepthwiseConv2D)    (None, 56, 56, 64)   576         ['conv_pad_2[0][0]']             \n",
      "                                                                                                  \n",
      " conv_dw_2_bn (BatchNormalizati  (None, 56, 56, 64)  256         ['conv_dw_2[0][0]']              \n",
      " on)                                                                                              \n",
      "                                                                                                  \n",
      " conv_dw_2_relu (ReLU)          (None, 56, 56, 64)   0           ['conv_dw_2_bn[0][0]']           \n",
      "                                                                                                  \n",
      " conv_pw_2 (Conv2D)             (None, 56, 56, 128)  8192        ['conv_dw_2_relu[0][0]']         \n",
      "                                                                                                  \n",
      " conv_pw_2_bn (BatchNormalizati  (None, 56, 56, 128)  512        ['conv_pw_2[0][0]']              \n",
      " on)                                                                                              \n",
      "                                                                                                  \n",
      " conv_pw_2_relu (ReLU)          (None, 56, 56, 128)  0           ['conv_pw_2_bn[0][0]']           \n",
      "                                                                                                  \n",
      " conv_dw_3 (DepthwiseConv2D)    (None, 56, 56, 128)  1152        ['conv_pw_2_relu[0][0]']         \n",
      "                                                                                                  \n",
      " conv_dw_3_bn (BatchNormalizati  (None, 56, 56, 128)  512        ['conv_dw_3[0][0]']              \n",
      " on)                                                                                              \n",
      "                                                                                                  \n",
      " conv_dw_3_relu (ReLU)          (None, 56, 56, 128)  0           ['conv_dw_3_bn[0][0]']           \n",
      "                                                                                                  \n",
      " conv_pw_3 (Conv2D)             (None, 56, 56, 128)  16384       ['conv_dw_3_relu[0][0]']         \n",
      "                                                                                                  \n",
      " conv_pw_3_bn (BatchNormalizati  (None, 56, 56, 128)  512        ['conv_pw_3[0][0]']              \n",
      " on)                                                                                              \n",
      "                                                                                                  \n",
      " conv_pw_3_relu (ReLU)          (None, 56, 56, 128)  0           ['conv_pw_3_bn[0][0]']           \n",
      "                                                                                                  \n",
      " conv_pad_4 (ZeroPadding2D)     (None, 57, 57, 128)  0           ['conv_pw_3_relu[0][0]']         \n",
      "                                                                                                  \n",
      " conv_dw_4 (DepthwiseConv2D)    (None, 28, 28, 128)  1152        ['conv_pad_4[0][0]']             \n",
      "                                                                                                  \n",
      " conv_dw_4_bn (BatchNormalizati  (None, 28, 28, 128)  512        ['conv_dw_4[0][0]']              \n",
      " on)                                                                                              \n",
      "                                                                                                  \n",
      " conv_dw_4_relu (ReLU)          (None, 28, 28, 128)  0           ['conv_dw_4_bn[0][0]']           \n",
      "                                                                                                  \n",
      " conv_pw_4 (Conv2D)             (None, 28, 28, 256)  32768       ['conv_dw_4_relu[0][0]']         \n",
      "                                                                                                  \n",
      " conv_pw_4_bn (BatchNormalizati  (None, 28, 28, 256)  1024       ['conv_pw_4[0][0]']              \n",
      " on)                                                                                              \n",
      "                                                                                                  \n",
      " conv_pw_4_relu (ReLU)          (None, 28, 28, 256)  0           ['conv_pw_4_bn[0][0]']           \n",
      "                                                                                                  \n",
      " conv_dw_5 (DepthwiseConv2D)    (None, 28, 28, 256)  2304        ['conv_pw_4_relu[0][0]']         \n",
      "                                                                                                  \n",
      " conv_dw_5_bn (BatchNormalizati  (None, 28, 28, 256)  1024       ['conv_dw_5[0][0]']              \n",
      " on)                                                                                              \n",
      "                                                                                                  \n",
      " conv_dw_5_relu (ReLU)          (None, 28, 28, 256)  0           ['conv_dw_5_bn[0][0]']           \n",
      "                                                                                                  \n",
      " conv_pw_5 (Conv2D)             (None, 28, 28, 256)  65536       ['conv_dw_5_relu[0][0]']         \n",
      "                                                                                                  \n",
      " conv_pw_5_bn (BatchNormalizati  (None, 28, 28, 256)  1024       ['conv_pw_5[0][0]']              \n",
      " on)                                                                                              \n",
      "                                                                                                  \n",
      " conv_pw_5_relu (ReLU)          (None, 28, 28, 256)  0           ['conv_pw_5_bn[0][0]']           \n",
      "                                                                                                  \n",
      " conv_pad_6 (ZeroPadding2D)     (None, 29, 29, 256)  0           ['conv_pw_5_relu[0][0]']         \n",
      "                                                                                                  \n",
      " conv_dw_6 (DepthwiseConv2D)    (None, 14, 14, 256)  2304        ['conv_pad_6[0][0]']             \n",
      "                                                                                                  \n",
      " conv_dw_6_bn (BatchNormalizati  (None, 14, 14, 256)  1024       ['conv_dw_6[0][0]']              \n",
      " on)                                                                                              \n",
      "                                                                                                  \n",
      " conv_dw_6_relu (ReLU)          (None, 14, 14, 256)  0           ['conv_dw_6_bn[0][0]']           \n",
      "                                                                                                  \n",
      " conv_pw_6 (Conv2D)             (None, 14, 14, 512)  131072      ['conv_dw_6_relu[0][0]']         \n",
      "                                                                                                  \n",
      " conv_pw_6_bn (BatchNormalizati  (None, 14, 14, 512)  2048       ['conv_pw_6[0][0]']              \n",
      " on)                                                                                              \n",
      "                                                                                                  \n",
      " conv_pw_6_relu (ReLU)          (None, 14, 14, 512)  0           ['conv_pw_6_bn[0][0]']           \n",
      "                                                                                                  \n",
      " conv_dw_7 (DepthwiseConv2D)    (None, 14, 14, 512)  4608        ['conv_pw_6_relu[0][0]']         \n",
      "                                                                                                  \n",
      " conv_dw_7_bn (BatchNormalizati  (None, 14, 14, 512)  2048       ['conv_dw_7[0][0]']              \n",
      " on)                                                                                              \n",
      "                                                                                                  \n",
      " conv_dw_7_relu (ReLU)          (None, 14, 14, 512)  0           ['conv_dw_7_bn[0][0]']           \n",
      "                                                                                                  \n",
      " conv_pw_7 (Conv2D)             (None, 14, 14, 512)  262144      ['conv_dw_7_relu[0][0]']         \n",
      "                                                                                                  \n",
      " conv_pw_7_bn (BatchNormalizati  (None, 14, 14, 512)  2048       ['conv_pw_7[0][0]']              \n",
      " on)                                                                                              \n",
      "                                                                                                  \n",
      " conv_pw_7_relu (ReLU)          (None, 14, 14, 512)  0           ['conv_pw_7_bn[0][0]']           \n",
      "                                                                                                  \n",
      " conv_dw_8 (DepthwiseConv2D)    (None, 14, 14, 512)  4608        ['conv_pw_7_relu[0][0]']         \n",
      "                                                                                                  \n",
      " conv_dw_8_bn (BatchNormalizati  (None, 14, 14, 512)  2048       ['conv_dw_8[0][0]']              \n",
      " on)                                                                                              \n",
      "                                                                                                  \n",
      " conv_dw_8_relu (ReLU)          (None, 14, 14, 512)  0           ['conv_dw_8_bn[0][0]']           \n",
      "                                                                                                  \n",
      " conv_pw_8 (Conv2D)             (None, 14, 14, 512)  262144      ['conv_dw_8_relu[0][0]']         \n",
      "                                                                                                  \n",
      " conv_pw_8_bn (BatchNormalizati  (None, 14, 14, 512)  2048       ['conv_pw_8[0][0]']              \n",
      " on)                                                                                              \n",
      "                                                                                                  \n",
      " conv_pw_8_relu (ReLU)          (None, 14, 14, 512)  0           ['conv_pw_8_bn[0][0]']           \n",
      "                                                                                                  \n",
      " conv_dw_9 (DepthwiseConv2D)    (None, 14, 14, 512)  4608        ['conv_pw_8_relu[0][0]']         \n",
      "                                                                                                  \n",
      " conv_dw_9_bn (BatchNormalizati  (None, 14, 14, 512)  2048       ['conv_dw_9[0][0]']              \n",
      " on)                                                                                              \n",
      "                                                                                                  \n",
      " conv_dw_9_relu (ReLU)          (None, 14, 14, 512)  0           ['conv_dw_9_bn[0][0]']           \n",
      "                                                                                                  \n",
      " conv_pw_9 (Conv2D)             (None, 14, 14, 512)  262144      ['conv_dw_9_relu[0][0]']         \n",
      "                                                                                                  \n",
      " conv_pw_9_bn (BatchNormalizati  (None, 14, 14, 512)  2048       ['conv_pw_9[0][0]']              \n",
      " on)                                                                                              \n",
      "                                                                                                  \n",
      " conv_pw_9_relu (ReLU)          (None, 14, 14, 512)  0           ['conv_pw_9_bn[0][0]']           \n",
      "                                                                                                  \n",
      " conv_dw_10 (DepthwiseConv2D)   (None, 14, 14, 512)  4608        ['conv_pw_9_relu[0][0]']         \n",
      "                                                                                                  \n",
      " conv_dw_10_bn (BatchNormalizat  (None, 14, 14, 512)  2048       ['conv_dw_10[0][0]']             \n",
      " ion)                                                                                             \n",
      "                                                                                                  \n",
      " conv_dw_10_relu (ReLU)         (None, 14, 14, 512)  0           ['conv_dw_10_bn[0][0]']          \n",
      "                                                                                                  \n",
      " conv_pw_10 (Conv2D)            (None, 14, 14, 512)  262144      ['conv_dw_10_relu[0][0]']        \n",
      "                                                                                                  \n",
      " conv_pw_10_bn (BatchNormalizat  (None, 14, 14, 512)  2048       ['conv_pw_10[0][0]']             \n",
      " ion)                                                                                             \n",
      "                                                                                                  \n",
      " conv_pw_10_relu (ReLU)         (None, 14, 14, 512)  0           ['conv_pw_10_bn[0][0]']          \n",
      "                                                                                                  \n",
      " conv_dw_11 (DepthwiseConv2D)   (None, 14, 14, 512)  4608        ['conv_pw_10_relu[0][0]']        \n",
      "                                                                                                  \n",
      " conv_dw_11_bn (BatchNormalizat  (None, 14, 14, 512)  2048       ['conv_dw_11[0][0]']             \n",
      " ion)                                                                                             \n",
      "                                                                                                  \n",
      " conv_dw_11_relu (ReLU)         (None, 14, 14, 512)  0           ['conv_dw_11_bn[0][0]']          \n",
      "                                                                                                  \n",
      " conv_pw_11 (Conv2D)            (None, 14, 14, 512)  262144      ['conv_dw_11_relu[0][0]']        \n",
      "                                                                                                  \n",
      " conv_pw_11_bn (BatchNormalizat  (None, 14, 14, 512)  2048       ['conv_pw_11[0][0]']             \n",
      " ion)                                                                                             \n",
      "                                                                                                  \n",
      " conv_pw_11_relu (ReLU)         (None, 14, 14, 512)  0           ['conv_pw_11_bn[0][0]']          \n",
      "                                                                                                  \n",
      " conv_pad_12 (ZeroPadding2D)    (None, 15, 15, 512)  0           ['conv_pw_11_relu[0][0]']        \n",
      "                                                                                                  \n",
      " conv_dw_12 (DepthwiseConv2D)   (None, 7, 7, 512)    4608        ['conv_pad_12[0][0]']            \n",
      "                                                                                                  \n",
      " conv_dw_12_bn (BatchNormalizat  (None, 7, 7, 512)   2048        ['conv_dw_12[0][0]']             \n",
      " ion)                                                                                             \n",
      "                                                                                                  \n",
      " conv_dw_12_relu (ReLU)         (None, 7, 7, 512)    0           ['conv_dw_12_bn[0][0]']          \n",
      "                                                                                                  \n",
      " conv_pw_12 (Conv2D)            (None, 7, 7, 1024)   524288      ['conv_dw_12_relu[0][0]']        \n",
      "                                                                                                  \n",
      " conv_pw_12_bn (BatchNormalizat  (None, 7, 7, 1024)  4096        ['conv_pw_12[0][0]']             \n",
      " ion)                                                                                             \n",
      "                                                                                                  \n",
      " conv_pw_12_relu (ReLU)         (None, 7, 7, 1024)   0           ['conv_pw_12_bn[0][0]']          \n",
      "                                                                                                  \n",
      " conv_dw_13 (DepthwiseConv2D)   (None, 7, 7, 1024)   9216        ['conv_pw_12_relu[0][0]']        \n",
      "                                                                                                  \n",
      " conv_dw_13_bn (BatchNormalizat  (None, 7, 7, 1024)  4096        ['conv_dw_13[0][0]']             \n",
      " ion)                                                                                             \n",
      "                                                                                                  \n",
      " conv_dw_13_relu (ReLU)         (None, 7, 7, 1024)   0           ['conv_dw_13_bn[0][0]']          \n",
      "                                                                                                  \n",
      " conv_pw_13 (Conv2D)            (None, 7, 7, 1024)   1048576     ['conv_dw_13_relu[0][0]']        \n",
      "                                                                                                  \n",
      " conv_pw_13_bn (BatchNormalizat  (None, 7, 7, 1024)  4096        ['conv_pw_13[0][0]']             \n",
      " ion)                                                                                             \n",
      "                                                                                                  \n",
      " conv_pw_13_relu (ReLU)         (None, 7, 7, 1024)   0           ['conv_pw_13_bn[0][0]']          \n",
      "                                                                                                  \n",
      " global_pooling (GlobalAverageP  (None, 1024)        0           ['conv_pw_13_relu[0][0]']        \n",
      " ooling2D)                                                                                        \n",
      "                                                                                                  \n",
      " feat_valence (Dense)           (None, 256)          262400      ['global_pooling[0][0]']         \n",
      "                                                                                                  \n",
      " feat_arousal (Dense)           (None, 256)          262400      ['global_pooling[0][0]']         \n",
      "                                                                                                  \n",
      " outputs_valence (Dense)        (None, 1)            257         ['feat_valence[0][0]']           \n",
      "                                                                                                  \n",
      " outputs_arousal (Dense)        (None, 1)            257         ['feat_arousal[0][0]']           \n",
      "                                                                                                  \n",
      " dropout_1 (Dropout)            (None, 1024)         0           ['global_pooling[0][0]']         \n",
      "                                                                                                  \n",
      " tf.math.multiply (TFOpLambda)  (None, 1)            0           ['outputs_valence[0][0]']        \n",
      "                                                                                                  \n",
      " tf.math.multiply_1 (TFOpLambda  (None, 1)           0           ['outputs_arousal[0][0]']        \n",
      " )                                                                                                \n",
      "                                                                                                  \n",
      " feats (Dense)                  (None, 256)          262400      ['dropout_1[0][0]']              \n",
      "                                                                                                  \n",
      " tf.math.subtract (TFOpLambda)  (None, 1)            0           ['tf.math.multiply[0][0]']       \n",
      "                                                                                                  \n",
      " tf.math.subtract_1 (TFOpLambda  (None, 1)           0           ['tf.math.multiply_1[0][0]']     \n",
      " )                                                                                                \n",
      "                                                                                                  \n",
      " emotion_preds (Dense)          (None, 7)            1799        ['feats[0][0]']                  \n",
      "                                                                                                  \n",
      "==================================================================================================\n",
      "Total params: 4,018,377\n",
      "Trainable params: 525,314\n",
      "Non-trainable params: 3,493,063\n",
      "__________________________________________________________________________________________________\n"
     ]
    }
   ],
   "source": [
    "model.summary()"
   ]
  },
  {
   "cell_type": "code",
   "execution_count": 13,
   "metadata": {
    "ExecuteTime": {
     "end_time": "2022-01-22T15:41:50.909413Z",
     "start_time": "2022-01-22T15:41:50.906531Z"
    }
   },
   "outputs": [],
   "source": [
    "# Instantiate an optimizer.\n",
    "optimizer = tf.keras.optimizers.Adam()\n",
    "# Instantiate a loss function.\n",
    "MSE_loss = tf.keras.losses.MeanSquaredError()\n",
    "SCC_loss = tf.keras.losses.SparseCategoricalCrossentropy()"
   ]
  },
  {
   "cell_type": "code",
   "execution_count": 14,
   "metadata": {
    "ExecuteTime": {
     "end_time": "2022-01-22T15:41:50.912779Z",
     "start_time": "2022-01-22T15:41:50.910576Z"
    }
   },
   "outputs": [],
   "source": [
    "batch_size = 8\n",
    "epochs = 4\n",
    "\n",
    "logs = []"
   ]
  },
  {
   "cell_type": "code",
   "execution_count": null,
   "metadata": {
    "ExecuteTime": {
     "start_time": "2022-01-22T15:41:39.849Z"
    }
   },
   "outputs": [
    {
     "name": "stdout",
     "output_type": "stream",
     "text": [
      "{\"emotion_correct\": 1, \"valence_loss\": 0.8131808042526245, \"arousal_loss\": 0.7259848117828369, \"emotion_loss\": NaN, \"time_take\": 2.113193988800049, \"pred_valence\": [0.23199999332427979, -0.04399999976158142, 0.12399999797344208, 0.14800000190734863, 0.48500001430511475, 0.30300000309944153, 0.012000000104308128, 0.2800000011920929], \"pred_arousal\": [-0.029999999329447746, -0.1679999977350235, -0.38499999046325684, 0.012000000104308128, -0.014999999664723873, 0.2070000022649765, -0.8019999861717224, -0.257999986410141]}\n",
      "{\"emotion_correct\": 0, \"valence_loss\": 1.3117731809616089, \"arousal_loss\": 2.3728036880493164, \"emotion_loss\": NaN, \"time_take\": 2.1889045238494873, \"pred_valence\": [-1.1579999923706055, -1.00600004196167, -1.065000057220459, -0.8370000123977661, -1.2580000162124634, -0.7099999785423279, -1.0329999923706055, -0.6840000152587891], \"pred_arousal\": [-0.01600000075995922, -0.41200000047683716, -0.12700000405311584, -0.027000000700354576, 0.5040000081062317, -0.18000000715255737, -0.6549999713897705, 0.09000000357627869]}\n",
      "{\"emotion_correct\": 0, \"valence_loss\": 1.9567731618881226, \"arousal_loss\": 1.5728034973144531, \"emotion_loss\": NaN, \"time_take\": 2.293384075164795, \"pred_valence\": [-1.2760000228881836, -1.7300000190734863, -1.8990000486373901, -1.3539999723434448, -1.6349999904632568, -1.6109999418258667, -1.8279999494552612, -1.8580000400543213], \"pred_arousal\": [-0.45500001311302185, -1.4010000228881836, -1.3600000143051147, -0.5149999856948853, -1.1649999618530273, -0.7210000157356262, -1.7130000591278076, -1.7630000114440918]}\n",
      "{\"emotion_correct\": 0, \"valence_loss\": 1.8077199459075928, \"arousal_loss\": 1.3490843772888184, \"emotion_loss\": NaN, \"time_take\": 2.381747007369995, \"pred_valence\": [-1.6469999551773071, -1.597000002861023, -1.4700000286102295, -1.9429999589920044, -1.3370000123977661, -1.9179999828338623, -1.8040000200271606, -1.5750000476837158], \"pred_arousal\": [-1.0759999752044678, -1.2869999408721924, -1.0369999408721924, -1.8730000257492065, -0.7730000019073486, -1.6740000247955322, -1.312999963760376, -1.0379999876022339]}\n",
      "{\"emotion_correct\": 0, \"valence_loss\": 1.933445692062378, \"arousal_loss\": 1.5069589614868164, \"emotion_loss\": NaN, \"time_take\": 2.463057041168213, \"pred_valence\": [-1.684000015258789, -1.4249999523162842, -1.305999994277954, -1.0609999895095825, -1.347000002861023, -1.4539999961853027, -1.3799999952316284, -1.2549999952316284], \"pred_arousal\": [-1.5989999771118164, -1.1269999742507935, -1.0679999589920044, -1.0479999780654907, -1.1039999723434448, -1.562999963760376, -0.8659999966621399, -1.0329999923706055]}\n",
      "{\"emotion_correct\": 0, \"valence_loss\": 1.0428084135055542, \"arousal_loss\": 1.2603150606155396, \"emotion_loss\": NaN, \"time_take\": 2.545243740081787, \"pred_valence\": [-0.9409999847412109, -1.2949999570846558, -1.2289999723434448, -1.4789999723434448, -1.25600004196167, -1.7450000047683716, -0.9290000200271606, -1.4930000305175781], \"pred_arousal\": [-0.9470000267028809, -1.11899995803833, -1.0190000534057617, -1.1480000019073486, -1.3170000314712524, -1.9210000038146973, -1.1039999723434448, -1.1799999475479126]}\n",
      "{\"emotion_correct\": 0, \"valence_loss\": 1.8236669301986694, \"arousal_loss\": 2.363831043243408, \"emotion_loss\": NaN, \"time_take\": 2.6431825160980225, \"pred_valence\": [-0.675000011920929, -0.824999988079071, -1.1749999523162842, -1.3450000286102295, -1.034999966621399, -0.9909999966621399, -1.222000002861023, -1.1089999675750732], \"pred_arousal\": [-1.062999963760376, -1.6469999551773071, -1.777999997138977, -0.3700000047683716, -1.1399999856948853, -0.800000011920929, -1.656000018119812, -1.4190000295639038]}\n",
      "{\"emotion_correct\": 0, \"valence_loss\": 1.0001819133758545, \"arousal_loss\": 0.9603458642959595, \"emotion_loss\": NaN, \"time_take\": 2.8050475120544434, \"pred_valence\": [-0.6200000047683716, -0.4580000042915344, -0.47999998927116394, -0.06499999761581421, -0.2759999930858612, -0.21299999952316284, -0.8619999885559082, -0.4580000042915344], \"pred_arousal\": [-0.8320000171661377, -1.1710000038146973, -0.9390000104904175, -0.5120000243186951, -1.1089999675750732, -0.6470000147819519, -0.9070000052452087, -0.9800000190734863]}\n",
      "{\"emotion_correct\": 1, \"valence_loss\": 1.454459309577942, \"arousal_loss\": 0.7988205552101135, \"emotion_loss\": NaN, \"time_take\": 2.8792216777801514, \"pred_valence\": [0.5820000171661377, 0.625, 0.41600000858306885, -0.12999999523162842, 0.3959999978542328, -0.02500000037252903, 0.18199999630451202, 0.0560000017285347], \"pred_arousal\": [-0.847000002861023, -0.11800000071525574, -0.4970000088214874, -0.6869999766349792, -0.37299999594688416, -0.6600000262260437, -0.5, -0.23600000143051147]}\n",
      "{\"emotion_correct\": 1, \"valence_loss\": 2.8680739402770996, \"arousal_loss\": 3.057544231414795, \"emotion_loss\": NaN, \"time_take\": 2.9560930728912354, \"pred_valence\": [0.38199999928474426, 0.3840000033378601, 0.04600000008940697, 0.2939999997615814, 0.4449999928474426, 0.11100000143051147, 0.29600000381469727, 0.4620000123977661], \"pred_arousal\": [1.0429999828338623, -0.2930000126361847, 0.296999990940094, 0.4959999918937683, 0.18299999833106995, 0.7329999804496765, 0.8069999814033508, -0.3440000116825104]}\n",
      "{\"emotion_correct\": 0, \"valence_loss\": 1.7221155166625977, \"arousal_loss\": 1.1587896347045898, \"emotion_loss\": NaN, \"time_take\": 3.0251479148864746, \"pred_valence\": [0.2150000035762787, 0.13099999725818634, 0.05999999865889549, 0.8510000109672546, 0.6800000071525574, 0.2150000035762787, 0.16300000250339508, -0.09000000357627869], \"pred_arousal\": [0.1599999964237213, -0.2750000059604645, -0.37700000405311584, -0.4909999966621399, -0.4560000002384186, -0.4429999887943268, 0.24199999868869781, 0.7260000109672546]}\n",
      "{\"emotion_correct\": 0, \"valence_loss\": 1.5129538774490356, \"arousal_loss\": 1.6821969747543335, \"emotion_loss\": NaN, \"time_take\": 3.094475746154785, \"pred_valence\": [0.3050000071525574, 0.13500000536441803, 0.6990000009536743, 0.009999999776482582, 0.19099999964237213, 0.10700000077486038, -0.37299999594688416, 0.11100000143051147], \"pred_arousal\": [-0.414000004529953, -0.15199999511241913, 0.9980000257492065, 0.824999988079071, 0.22699999809265137, 0.210999995470047, 0.6359999775886536, 0.48899999260902405]}\n",
      "{\"emotion_correct\": 0, \"valence_loss\": 0.39074066281318665, \"arousal_loss\": 0.12742409110069275, \"emotion_loss\": NaN, \"time_take\": 3.170651912689209, \"pred_valence\": [-0.29100000858306885, 0.023000000044703484, -0.08299999684095383, -0.11800000071525574, -0.19699999690055847, -0.03700000047683716, 0.17599999904632568, -0.0729999989271164], \"pred_arousal\": [0.3100000023841858, 0.007000000216066837, 0.10100000351667404, 0.46399998664855957, 0.4950000047683716, 0.4959999918937683, 0.14399999380111694, 0.1809999942779541]}\n",
      "{\"emotion_correct\": 1, \"valence_loss\": 1.2294650077819824, \"arousal_loss\": 1.1255664825439453, \"emotion_loss\": NaN, \"time_take\": 3.2271509170532227, \"pred_valence\": [-0.15700000524520874, -0.12200000137090683, -0.05299999937415123, -0.032999999821186066, -0.3409999907016754, -0.17299999296665192, 0.22499999403953552, -0.27399998903274536], \"pred_arousal\": [-0.8080000281333923, -0.8429999947547913, -0.15000000596046448, -0.5080000162124634, -0.4650000035762787, -0.28299999237060547, -0.7459999918937683, -0.39500001072883606]}\n",
      "{\"emotion_correct\": 0, \"valence_loss\": 1.0792765617370605, \"arousal_loss\": 0.8868935704231262, \"emotion_loss\": NaN, \"time_take\": 3.3608968257904053, \"pred_valence\": [-0.32899999618530273, -0.2029999941587448, -0.2630000114440918, -0.21899999678134918, -0.1940000057220459, -0.36500000953674316, -0.3790000081062317, -0.013000000268220901], \"pred_arousal\": [-0.550000011920929, -0.004999999888241291, -0.2370000034570694, -0.5189999938011169, -0.4309999942779541, -0.38199999928474426, -0.5220000147819519, -0.7459999918937683]}\n",
      "{\"emotion_correct\": 0, \"valence_loss\": 1.4557867050170898, \"arousal_loss\": 1.1537060737609863, \"emotion_loss\": NaN, \"time_take\": 3.438138246536255, \"pred_valence\": [-0.375, -0.2590000033378601, -0.1120000034570694, -0.35499998927116394, -0.1289999932050705, -0.4429999887943268, 0.07500000298023224, -0.4090000092983246], \"pred_arousal\": [-0.5519999861717224, -0.5630000233650208, -0.4000000059604645, -0.8889999985694885, -0.6940000057220459, -0.675000011920929, -0.42500001192092896, -0.6019999980926514]}\n",
      "{\"emotion_correct\": 0, \"valence_loss\": 0.8381959199905396, \"arousal_loss\": 0.9041151404380798, \"emotion_loss\": NaN, \"time_take\": 3.504864454269409, \"pred_valence\": [-0.01899999938905239, -0.3190000057220459, -0.5519999861717224, -0.35100001096725464, -0.4339999854564667, -0.33500000834465027, -0.26100000739097595, -0.36800000071525574], \"pred_arousal\": [-0.6079999804496765, -0.5490000247955322, -0.8429999947547913, -0.32499998807907104, -0.5320000052452087, -0.8059999942779541, -0.6259999871253967, -0.6259999871253967]}\n"
     ]
    },
    {
     "name": "stdout",
     "output_type": "stream",
     "text": [
      "{\"emotion_correct\": 0, \"valence_loss\": 1.7829698324203491, \"arousal_loss\": 0.8861191868782043, \"emotion_loss\": NaN, \"time_take\": 3.5721330642700195, \"pred_valence\": [-0.593999981880188, -0.7689999938011169, -0.5249999761581421, -0.49799999594688416, -0.37299999594688416, -0.7950000166893005, -0.628000020980835, -0.5870000123977661], \"pred_arousal\": [-0.9860000014305115, -1.2489999532699585, -1.2089999914169312, -0.9210000038146973, -0.7039999961853027, -0.9700000286102295, -1.0, -1.0369999408721924]}\n",
      "{\"emotion_correct\": 0, \"valence_loss\": 0.8985456228256226, \"arousal_loss\": 0.9493727684020996, \"emotion_loss\": NaN, \"time_take\": 3.6742520332336426, \"pred_valence\": [-0.7039999961853027, -0.6800000071525574, -0.4399999976158142, -0.5699999928474426, -0.9049999713897705, -0.28600001335144043, -0.414000004529953, -0.5350000262260437], \"pred_arousal\": [-0.7960000038146973, -1.1469999551773071, -0.4099999964237213, -0.6389999985694885, -1.4390000104904175, -0.5680000185966492, -0.7960000038146973, -0.6620000004768372]}\n",
      "{\"emotion_correct\": 0, \"valence_loss\": 1.2020442485809326, \"arousal_loss\": 1.1365420818328857, \"emotion_loss\": NaN, \"time_take\": 3.7636830806732178, \"pred_valence\": [-0.7919999957084656, -0.7289999723434448, -0.574999988079071, -0.8759999871253967, -0.925000011920929, -0.4449999928474426, -0.6209999918937683, -0.8849999904632568], \"pred_arousal\": [-1.0870000123977661, -1.156999945640564, -0.6320000290870667, -1.059000015258789, -1.0789999961853027, -0.5230000019073486, -0.7179999947547913, -1.0360000133514404]}\n",
      "{\"emotion_correct\": 1, \"valence_loss\": 0.8884504437446594, \"arousal_loss\": 0.6574174761772156, \"emotion_loss\": NaN, \"time_take\": 3.838273763656616, \"pred_valence\": [-0.6489999890327454, -0.4180000126361847, -0.5419999957084656, -0.5199999809265137, -0.7649999856948853, -0.5260000228881836, -0.5720000267028809, -0.3709999918937683], \"pred_arousal\": [-0.4000000059604645, -0.5139999985694885, -0.925000011920929, -0.6759999990463257, -0.5960000157356262, -0.8920000195503235, -0.8109999895095825, -0.4410000145435333]}\n",
      "{\"emotion_correct\": 1, \"valence_loss\": 0.7732006907463074, \"arousal_loss\": 0.9231637716293335, \"emotion_loss\": NaN, \"time_take\": 3.927166700363159, \"pred_valence\": [-0.30799999833106995, -0.5120000243186951, -0.11900000274181366, -0.5099999904632568, -0.43799999356269836, -0.7839999794960022, -0.4650000035762787, -0.38100001215934753], \"pred_arousal\": [-0.08699999749660492, -0.6510000228881836, -0.03799999877810478, -0.35499998927116394, -0.5659999847412109, -0.9940000176429749, -0.3490000069141388, -0.2800000011920929]}\n",
      "{\"emotion_correct\": 0, \"valence_loss\": 1.1238553524017334, \"arousal_loss\": 0.7181568145751953, \"emotion_loss\": NaN, \"time_take\": 3.995945930480957, \"pred_valence\": [-0.5529999732971191, -0.3779999911785126, -0.0729999989271164, -0.5230000019073486, -0.44999998807907104, -0.4970000088214874, -0.289000004529953, -0.2849999964237213], \"pred_arousal\": [-0.29899999499320984, -0.11699999868869781, 0.11299999803304672, -0.3160000145435333, 0.00800000037997961, -0.28999999165534973, -0.029999999329447746, -0.18799999356269836]}\n",
      "{\"emotion_correct\": 0, \"valence_loss\": 1.498942255973816, \"arousal_loss\": 1.8830476999282837, \"emotion_loss\": NaN, \"time_take\": 4.058855056762695, \"pred_valence\": [-0.20000000298023224, -0.25200000405311584, -0.4569999873638153, -0.2720000147819519, -0.1860000044107437, -0.0689999982714653, -0.27399998903274536, 0.11999999731779099], \"pred_arousal\": [-0.057999998331069946, -0.33899998664855957, -0.04399999976158142, 0.24699999392032623, 0.39800000190734863, 0.4320000112056732, 0.27399998903274536, 0.2759999930858612]}\n",
      "{\"emotion_correct\": 0, \"valence_loss\": 1.6267813444137573, \"arousal_loss\": 2.0306389331817627, \"emotion_loss\": NaN, \"time_take\": 4.160234451293945, \"pred_valence\": [-0.10400000214576721, 0.19300000369548798, -0.10899999737739563, -0.18299999833106995, 0.0820000022649765, 0.06800000369548798, -0.02199999988079071, -0.32600000500679016], \"pred_arousal\": [0.1379999965429306, 0.5839999914169312, 0.41499999165534973, 0.1289999932050705, 0.4699999988079071, 0.0820000022649765, 0.27300000190734863, 0.004000000189989805]}\n",
      "{\"emotion_correct\": 1, \"valence_loss\": 1.071811318397522, \"arousal_loss\": 1.3177474737167358, \"emotion_loss\": NaN, \"time_take\": 4.233663320541382, \"pred_valence\": [0.3449999988079071, 0.027000000700354576, -0.3700000047683716, -0.1120000034570694, -0.28999999165534973, -0.13500000536441803, -0.2540000081062317, -0.1899999976158142], \"pred_arousal\": [0.531000018119812, 0.4650000035762787, 0.07800000160932541, 0.2680000066757202, 0.14399999380111694, -0.16099999845027924, 0.08900000154972076, 0.4350000023841858]}\n",
      "{\"emotion_correct\": 0, \"valence_loss\": 1.135504961013794, \"arousal_loss\": 1.336356282234192, \"emotion_loss\": NaN, \"time_take\": 4.3586156368255615, \"pred_valence\": [-0.4059999883174896, -0.14399999380111694, -0.09600000083446503, 0.3840000033378601, -0.15399999916553497, -0.18299999833106995, -0.13500000536441803, -0.06700000166893005], \"pred_arousal\": [-0.061000000685453415, 0.2709999978542328, 0.0820000022649765, 0.5090000033378601, -0.050999999046325684, -0.05400000140070915, 0.19499999284744263, 0.2460000067949295]}\n",
      "{\"emotion_correct\": 0, \"valence_loss\": 0.835292398929596, \"arousal_loss\": 0.6780704855918884, \"emotion_loss\": NaN, \"time_take\": 4.436123371124268, \"pred_valence\": [-0.1889999955892563, -0.14000000059604645, 0.06199999898672104, -0.2150000035762787, 0.03700000047683716, -0.22100000083446503, -0.11900000274181366, 0.04899999871850014], \"pred_arousal\": [0.2849999964237213, 0.30000001192092896, 0.19699999690055847, 0.3059999942779541, 0.20600000023841858, 0.2630000114440918, 0.1720000058412552, 0.09300000220537186]}\n",
      "{\"emotion_correct\": 0, \"valence_loss\": 1.9504272937774658, \"arousal_loss\": 1.6781209707260132, \"emotion_loss\": NaN, \"time_take\": 4.511471748352051, \"pred_valence\": [0.2849999964237213, 0.3869999945163727, -0.01600000075995922, -0.15700000524520874, -0.26899999380111694, 0.07999999821186066, -0.29600000381469727, 0.17499999701976776], \"pred_arousal\": [-0.1860000044107437, 0.3440000116825104, 0.15800000727176666, 0.14499999582767487, 0.06400000303983688, 0.2809999883174896, -0.48100000619888306, 0.20800000429153442]}\n",
      "{\"emotion_correct\": 0, \"valence_loss\": 0.9696183204650879, \"arousal_loss\": 0.621077299118042, \"emotion_loss\": NaN, \"time_take\": 4.582684755325317, \"pred_valence\": [-0.19599999487400055, -0.04699999839067459, -0.0560000017285347, 0.25999999046325684, 0.11999999731779099, 0.20100000500679016, -0.003000000026077032, 0.02199999988079071], \"pred_arousal\": [-0.14000000059604645, 0.09600000083446503, -0.06700000166893005, -0.11900000274181366, -0.24699999392032623, -0.10599999874830246, -0.14000000059604645, -0.2409999966621399]}\n",
      "{\"emotion_correct\": 1, \"valence_loss\": 0.7311315536499023, \"arousal_loss\": 0.6673174500465393, \"emotion_loss\": NaN, \"time_take\": 4.7231714725494385, \"pred_valence\": [-0.23600000143051147, -0.09399999678134918, -0.050999999046325684, -0.11900000274181366, -0.26600000262260437, -0.1420000046491623, -0.16699999570846558, -0.21299999952316284], \"pred_arousal\": [-0.14900000393390656, -0.23999999463558197, -0.3659999966621399, -0.27000001072883606, -0.0689999982714653, -0.32899999618530273, -0.1860000044107437, -0.24500000476837158]}\n",
      "{\"emotion_correct\": 0, \"valence_loss\": 2.0114951133728027, \"arousal_loss\": 1.5316979885101318, \"emotion_loss\": NaN, \"time_take\": 4.83167576789856, \"pred_valence\": [-0.14399999380111694, 0.010999999940395355, -0.11999999731779099, -0.11500000208616257, -0.1080000028014183, -0.25, -0.08500000089406967, -0.13500000536441803], \"pred_arousal\": [-0.06499999761581421, -0.2199999988079071, -0.09000000357627869, -0.3799999952316284, -0.5770000219345093, -0.41600000858306885, -0.46799999475479126, -0.24300000071525574]}\n",
      "{\"emotion_correct\": 0, \"valence_loss\": 0.7702304124832153, \"arousal_loss\": 0.8707264065742493, \"emotion_loss\": NaN, \"time_take\": 4.912501811981201, \"pred_valence\": [-0.22300000488758087, -0.0729999989271164, -0.18299999833106995, -0.20100000500679016, -0.22499999403953552, -0.32899999618530273, -0.125, -0.16500000655651093], \"pred_arousal\": [-0.2029999941587448, -0.2160000056028366, -0.3149999976158142, -1.0509999990463257, -0.6019999980926514, -0.6039999723434448, -0.33500000834465027, -0.6669999957084656]}\n",
      "{\"emotion_correct\": 0, \"valence_loss\": 1.1745636463165283, \"arousal_loss\": 0.5722646713256836, \"emotion_loss\": NaN, \"time_take\": 4.976485252380371, \"pred_valence\": [-0.23899999260902405, -0.2770000100135803, -0.22499999403953552, -0.39100000262260437, -0.1679999977350235, -0.31200000643730164, -0.17499999701976776, -0.25099998712539673], \"pred_arousal\": [-0.6980000138282776, -0.8650000095367432, -0.5239999890327454, -0.4309999942779541, -0.5770000219345093, -0.5370000004768372, -0.30000001192092896, -0.6200000047683716]}\n"
     ]
    },
    {
     "name": "stdout",
     "output_type": "stream",
     "text": [
      "{\"emotion_correct\": 0, \"valence_loss\": 1.5191709995269775, \"arousal_loss\": 1.174773931503296, \"emotion_loss\": NaN, \"time_take\": 5.08226203918457, \"pred_valence\": [-0.08299999684095383, -0.26600000262260437, -0.1889999955892563, -0.4259999990463257, -0.3619999885559082, -0.1850000023841858, -0.4000000059604645, -0.3529999852180481], \"pred_arousal\": [-1.0230000019073486, -0.5049999952316284, -0.9309999942779541, -0.5740000009536743, -0.8270000219345093, -0.23100000619888306, -0.703000009059906, -0.625]}\n",
      "{\"emotion_correct\": 0, \"valence_loss\": 0.8016542196273804, \"arousal_loss\": 0.9264522790908813, \"emotion_loss\": NaN, \"time_take\": 5.170802116394043, \"pred_valence\": [-0.2849999964237213, -0.4350000023841858, -0.3409999907016754, -0.14900000393390656, -0.19499999284744263, -0.3610000014305115, -0.39100000262260437, -0.6480000019073486], \"pred_arousal\": [-0.5249999761581421, -0.7009999752044678, -0.878000020980835, -0.8479999899864197, -0.8149999976158142, -0.7080000042915344, -0.6869999766349792, -0.8450000286102295]}\n",
      "{\"emotion_correct\": 0, \"valence_loss\": 1.1786949634552002, \"arousal_loss\": 0.9699127078056335, \"emotion_loss\": NaN, \"time_take\": 5.24269437789917, \"pred_valence\": [-0.26600000262260437, -0.17800000309944153, -0.13600000739097595, -0.10899999737739563, -0.12600000202655792, -0.4020000100135803, 0.0430000014603138, -0.2370000034570694], \"pred_arousal\": [-0.7170000076293945, -0.8399999737739563, -0.5230000019073486, -0.8159999847412109, -0.4339999854564667, -0.7870000004768372, -0.7570000290870667, -0.5870000123977661]}\n",
      "{\"emotion_correct\": 0, \"valence_loss\": 0.6193045377731323, \"arousal_loss\": 0.9740713834762573, \"emotion_loss\": NaN, \"time_take\": 5.308777332305908, \"pred_valence\": [-0.2150000035762787, -0.2280000001192093, -0.4880000054836273, -0.18400000035762787, -0.37599998712539673, -0.39399999380111694, -0.09099999815225601, -0.42800000309944153], \"pred_arousal\": [-0.4560000002384186, -0.5019999742507935, -0.7889999747276306, -0.5120000243186951, -0.6539999842643738, -0.734000027179718, -0.6449999809265137, -1.003999948501587]}\n",
      "{\"emotion_correct\": 0, \"valence_loss\": 0.5722784996032715, \"arousal_loss\": 0.8807770013809204, \"emotion_loss\": NaN, \"time_take\": 5.370188474655151, \"pred_valence\": [-0.39399999380111694, -0.4429999887943268, -0.42399999499320984, -0.2290000021457672, -0.8550000190734863, -0.27300000190734863, -0.25099998712539673, -0.2529999911785126], \"pred_arousal\": [-0.6669999957084656, -0.5199999809265137, -0.6299999952316284, -0.48100000619888306, -1.1540000438690186, -0.5230000019073486, -0.5609999895095825, -0.4440000057220459]}\n",
      "{\"emotion_correct\": 0, \"valence_loss\": 2.051210403442383, \"arousal_loss\": 1.5459539890289307, \"emotion_loss\": NaN, \"time_take\": 5.432825565338135, \"pred_valence\": [-0.2619999945163727, -0.4490000009536743, -0.28200000524520874, -0.21199999749660492, -0.09799999743700027, -0.2680000066757202, -0.38499999046325684, -0.22499999403953552], \"pred_arousal\": [-0.4729999899864197, -0.8669999837875366, -0.5289999842643738, -0.7630000114440918, -0.4449999928474426, -0.20200000703334808, -0.6729999780654907, -0.640999972820282]}\n",
      "{\"emotion_correct\": 1, \"valence_loss\": 0.7862352132797241, \"arousal_loss\": 0.6077231168746948, \"emotion_loss\": NaN, \"time_take\": 5.508077144622803, \"pred_valence\": [-0.20200000703334808, -0.3009999990463257, -0.31700000166893005, -0.20100000500679016, -0.33799999952316284, -0.3840000033378601, -0.26899999380111694, -0.15399999916553497], \"pred_arousal\": [-0.5339999794960022, -0.3709999918937683, -0.3779999911785126, -0.5820000171661377, -0.49399998784065247, -0.3019999861717224, -0.28299999237060547, -0.3050000071525574]}\n",
      "{\"emotion_correct\": 0, \"valence_loss\": 0.7745667099952698, \"arousal_loss\": 0.39006882905960083, \"emotion_loss\": 6.198975563049316, \"time_take\": 5.61707067489624, \"pred_valence\": [-0.3490000069141388, -0.3240000009536743, -0.27900001406669617, -0.27900001406669617, -0.15199999511241913, -0.24400000274181366, -0.19499999284744263, -0.5199999809265137], \"pred_arousal\": [-0.2709999978542328, -0.4909999966621399, -0.38199999928474426, -0.3619999885559082, -0.46399998664855957, -0.40799999237060547, -0.16200000047683716, -0.7269999980926514]}\n",
      "{\"emotion_correct\": 0, \"valence_loss\": 1.1943700313568115, \"arousal_loss\": 0.9031644463539124, \"emotion_loss\": NaN, \"time_take\": 5.767704725265503, \"pred_valence\": [-0.27300000190734863, -0.2930000126361847, -0.3059999942779541, -0.21699999272823334, -0.5009999871253967, -0.21400000154972076, -0.12200000137090683, -0.37700000405311584], \"pred_arousal\": [-0.4090000092983246, -0.39100000262260437, -0.4339999854564667, -0.1289999932050705, -0.7260000109672546, -0.39899998903274536, -0.20499999821186066, -0.2930000126361847]}\n",
      "{\"emotion_correct\": 0, \"valence_loss\": 0.5952736139297485, \"arousal_loss\": 0.6904513835906982, \"emotion_loss\": NaN, \"time_take\": 5.848746061325073, \"pred_valence\": [-0.1469999998807907, -0.15399999916553497, -0.4519999921321869, -0.30300000309944153, -0.47600001096725464, -0.32199999690055847, -0.3149999976158142, -0.3619999885559082], \"pred_arousal\": [-0.13300000131130219, -0.07500000298023224, -0.6240000128746033, -0.4180000126361847, -0.765999972820282, -0.5090000033378601, -0.27000001072883606, -0.3179999887943268]}\n",
      "{\"emotion_correct\": 0, \"valence_loss\": 0.9554486274719238, \"arousal_loss\": 0.8629727363586426, \"emotion_loss\": NaN, \"time_take\": 5.91602087020874, \"pred_valence\": [-0.25999999046325684, -0.35899999737739563, -0.2280000001192093, -0.2630000114440918, -0.2809999883174896, -0.20900000631809235, -0.17900000512599945, -0.1599999964237213], \"pred_arousal\": [-0.4490000009536743, -0.2290000021457672, -0.16899999976158142, -0.14000000059604645, -0.18799999356269836, -0.1889999955892563, -0.18000000715255737, -0.22100000083446503]}\n",
      "{\"emotion_correct\": 0, \"valence_loss\": 0.7894024848937988, \"arousal_loss\": 0.806367039680481, \"emotion_loss\": NaN, \"time_take\": 5.993513584136963, \"pred_valence\": [0.08500000089406967, -0.2639999985694885, -0.27799999713897705, -0.18700000643730164, -0.2939999997615814, -0.5329999923706055, -0.3140000104904175, -0.1889999955892563], \"pred_arousal\": [0.003000000026077032, -0.2770000100135803, -0.34200000762939453, -0.1889999955892563, -0.34599998593330383, -0.13600000739097595, -0.34200000762939453, -0.1589999943971634]}\n",
      "{\"emotion_correct\": 0, \"valence_loss\": 0.403964638710022, \"arousal_loss\": 0.26346415281295776, \"emotion_loss\": NaN, \"time_take\": 6.071331262588501, \"pred_valence\": [-0.25200000405311584, -0.4269999861717224, -0.21899999678134918, -0.33899998664855957, -0.1120000034570694, -0.37599998712539673, -0.3019999861717224, -0.43799999356269836], \"pred_arousal\": [-0.04500000178813934, -0.3310000002384186, -0.10000000149011612, -0.3019999861717224, -0.05400000140070915, -0.12200000137090683, -0.3529999852180481, -0.01899999938905239]}\n",
      "{\"emotion_correct\": 0, \"valence_loss\": 0.9128694534301758, \"arousal_loss\": 0.5109281539916992, \"emotion_loss\": NaN, \"time_take\": 6.135514974594116, \"pred_valence\": [-0.24799999594688416, -0.06400000303983688, -0.31200000643730164, -0.035999998450279236, -0.04899999871850014, -0.3490000069141388, -0.08100000023841858, -0.11900000274181366], \"pred_arousal\": [-0.4169999957084656, 0.02800000086426735, -0.15199999511241913, 0.11299999803304672, 0.06700000166893005, -0.3050000071525574, -0.0430000014603138, -0.07400000095367432]}\n",
      "{\"emotion_correct\": 0, \"valence_loss\": 0.5977755784988403, \"arousal_loss\": 0.5155647993087769, \"emotion_loss\": NaN, \"time_take\": 6.217911005020142, \"pred_valence\": [-0.18700000643730164, -0.1379999965429306, -0.3070000112056732, -0.3190000057220459, -0.35600000619888306, -0.24699999392032623, -0.2460000067949295, -0.19699999690055847], \"pred_arousal\": [0.13899999856948853, -0.15299999713897705, -0.35600000619888306, -0.23000000417232513, -0.15299999713897705, 0.028999999165534973, -0.07199999690055847, -0.10899999737739563]}\n",
      "{\"emotion_correct\": 0, \"valence_loss\": 0.6824362874031067, \"arousal_loss\": 0.5068800449371338, \"emotion_loss\": NaN, \"time_take\": 6.290980339050293, \"pred_valence\": [-0.28700000047683716, -0.10999999940395355, -0.2029999941587448, -0.07999999821186066, -0.15399999916553497, -0.1589999943971634, -0.21699999272823334, -0.26899999380111694], \"pred_arousal\": [-0.2540000081062317, 0.0, -0.17399999499320984, -0.08299999684095383, 0.08299999684095383, -0.02800000086426735, -0.1340000033378601, -0.164000004529953]}\n",
      "{\"emotion_correct\": 0, \"valence_loss\": 1.24416983127594, \"arousal_loss\": 0.9477807283401489, \"emotion_loss\": NaN, \"time_take\": 6.379979133605957, \"pred_valence\": [-0.06300000101327896, -0.37700000405311584, -0.2070000022649765, -0.28600001335144043, -0.006000000052154064, -0.3490000069141388, -0.23100000619888306, -0.05700000002980232], \"pred_arousal\": [-0.02500000037252903, -0.49900001287460327, -0.12800000607967377, -0.12800000607967377, 0.11800000071525574, -0.10499999672174454, -0.035999998450279236, -0.10599999874830246]}\n",
      "{\"emotion_correct\": 1, \"valence_loss\": 0.108849436044693, \"arousal_loss\": 0.03804454207420349, \"emotion_loss\": NaN, \"time_take\": 6.451820135116577, \"pred_valence\": [-0.2370000034570694, -0.2199999988079071, -0.14399999380111694, -0.20900000631809235, -0.28600001335144043, -0.12300000339746475, -0.21899999678134918, -0.20499999821186066], \"pred_arousal\": [-0.12999999523162842, -0.014000000432133675, -0.06400000303983688, -0.017999999225139618, -0.35199999809265137, -0.023000000044703484, -0.1550000011920929, -0.05999999865889549]}\n"
     ]
    },
    {
     "name": "stdout",
     "output_type": "stream",
     "text": [
      "{\"emotion_correct\": 0, \"valence_loss\": 1.1864231824874878, \"arousal_loss\": 1.2242629528045654, \"emotion_loss\": NaN, \"time_take\": 6.5795512199401855, \"pred_valence\": [-0.12999999523162842, -0.3089999854564667, 0.17499999701976776, -0.15299999713897705, -0.26499998569488525, 0.019999999552965164, -0.3400000035762787, 0.1679999977350235], \"pred_arousal\": [-0.11800000071525574, -0.004000000189989805, 0.02800000086426735, 0.01600000075995922, -0.06499999761581421, 0.15600000321865082, -0.028999999165534973, 0.18400000035762787]}\n",
      "{\"emotion_correct\": 0, \"valence_loss\": 1.3354377746582031, \"arousal_loss\": 1.0125329494476318, \"emotion_loss\": NaN, \"time_take\": 6.665751695632935, \"pred_valence\": [-0.020999999716877937, -0.10499999672174454, 0.039000000804662704, -0.17800000309944153, -0.20399999618530273, -0.07000000029802322, 0.0020000000949949026, 0.020999999716877937], \"pred_arousal\": [-0.0010000000474974513, -0.1940000057220459, 0.15199999511241913, -0.06700000166893005, -0.1809999942779541, -0.06599999964237213, 0.11699999868869781, -0.05999999865889549]}\n",
      "{\"emotion_correct\": 0, \"valence_loss\": 1.5189435482025146, \"arousal_loss\": 1.984416127204895, \"emotion_loss\": NaN, \"time_take\": 6.75749945640564, \"pred_valence\": [-0.37599998712539673, -0.26899999380111694, -0.3199999928474426, -0.10100000351667404, -0.26600000262260437, -0.3100000023841858, -0.24799999594688416, -0.2529999911785126], \"pred_arousal\": [-0.07000000029802322, -0.06300000101327896, -0.004999999888241291, -0.1080000028014183, -0.03799999877810478, -0.19599999487400055, 0.0, -0.1340000033378601]}\n",
      "{\"emotion_correct\": 0, \"valence_loss\": 0.8638244867324829, \"arousal_loss\": 0.5086221694946289, \"emotion_loss\": NaN, \"time_take\": 6.843110799789429, \"pred_valence\": [-0.17000000178813934, 0.02199999988079071, -0.014000000432133675, -0.1459999978542328, -0.18000000715255737, -0.25999999046325684, -0.257999986410141, -0.24300000071525574], \"pred_arousal\": [-0.08100000023841858, 0.07500000298023224, -0.05000000074505806, -0.20100000500679016, -0.2150000035762787, -0.13500000536441803, -0.1850000023841858, -0.28600001335144043]}\n",
      "{\"emotion_correct\": 0, \"valence_loss\": 0.9805062413215637, \"arousal_loss\": 1.0363836288452148, \"emotion_loss\": NaN, \"time_take\": 6.924622535705566, \"pred_valence\": [-0.24400000274181366, -0.02500000037252903, -0.3199999928474426, -0.25600001215934753, -0.25600001215934753, -0.4129999876022339, -0.08799999952316284, -0.19900000095367432], \"pred_arousal\": [-0.07900000363588333, -0.20000000298023224, -0.11999999731779099, -0.08299999684095383, -0.30399999022483826, -0.39899998903274536, -0.24500000476837158, -0.1469999998807907]}\n",
      "{\"emotion_correct\": 0, \"valence_loss\": 0.7260072231292725, \"arousal_loss\": 0.5049228072166443, \"emotion_loss\": NaN, \"time_take\": 7.008822202682495, \"pred_valence\": [-0.23100000619888306, -0.38199999928474426, -0.1080000028014183, -0.01600000075995922, -0.210999995470047, -0.2240000069141388, -0.08399999886751175, -0.35499998927116394], \"pred_arousal\": [-0.11299999803304672, -0.24500000476837158, -0.17900000512599945, -0.12399999797344208, -0.3019999861717224, -0.0729999989271164, -0.029999999329447746, -0.02199999988079071]}\n",
      "{\"emotion_correct\": 0, \"valence_loss\": 1.4917280673980713, \"arousal_loss\": 1.5328123569488525, \"emotion_loss\": NaN, \"time_take\": 7.08702278137207, \"pred_valence\": [-0.15299999713897705, -0.6309999823570251, -0.16899999976158142, -0.3089999854564667, -0.2939999997615814, -0.210999995470047, -0.29100000858306885, -0.3160000145435333], \"pred_arousal\": [-0.20600000023841858, -0.6029999852180481, -0.0729999989271164, -0.11599999666213989, -0.13600000739097595, -0.164000004529953, -0.1860000044107437, -0.22699999809265137]}\n",
      "{\"emotion_correct\": 0, \"valence_loss\": 0.9217379093170166, \"arousal_loss\": 1.0319644212722778, \"emotion_loss\": NaN, \"time_take\": 7.157181024551392, \"pred_valence\": [-0.35600000619888306, -0.3140000104904175, -0.37299999594688416, -0.28999999165534973, -0.17399999499320984, -0.6650000214576721, -0.12700000405311584, -0.4620000123977661], \"pred_arousal\": [-0.25099998712539673, -0.2800000011920929, -0.13199999928474426, -0.36399999260902405, -0.26899999380111694, -0.7770000100135803, -0.10000000149011612, -0.3490000069141388]}\n",
      "{\"emotion_correct\": 0, \"valence_loss\": 0.8117713928222656, \"arousal_loss\": 0.5088855028152466, \"emotion_loss\": NaN, \"time_take\": 7.235927104949951, \"pred_valence\": [-0.35600000619888306, -0.2160000056028366, -0.3370000123977661, -0.42899999022483826, -0.6520000100135803, -0.24500000476837158, -0.5059999823570251, -0.3490000069141388], \"pred_arousal\": [-0.2630000114440918, -0.421999990940094, -0.34700000286102295, -0.3070000112056732, -0.4020000100135803, -0.164000004529953, -0.296999990940094, -0.4749999940395355]}\n",
      "{\"emotion_correct\": 0, \"valence_loss\": 0.8951108455657959, \"arousal_loss\": 1.0853943824768066, \"emotion_loss\": NaN, \"time_take\": 7.305190563201904, \"pred_valence\": [-0.703000009059906, -0.3059999942779541, -0.3269999921321869, -0.23000000417232513, -0.40799999237060547, -0.43299999833106995, -0.4339999854564667, -0.40799999237060547], \"pred_arousal\": [-0.42500001192092896, -0.164000004529953, -0.2770000100135803, -0.5559999942779541, -0.43700000643730164, -0.38600000739097595, -0.382999986410141, -0.2070000022649765]}\n",
      "{\"emotion_correct\": 0, \"valence_loss\": 0.7694730758666992, \"arousal_loss\": 0.5893172025680542, \"emotion_loss\": NaN, \"time_take\": 7.389978885650635, \"pred_valence\": [-0.4309999942779541, -0.6290000081062317, -0.36800000071525574, -0.33799999952316284, -0.5799999833106995, -0.19200000166893005, -0.32899999618530273, -0.3140000104904175], \"pred_arousal\": [-0.26899999380111694, -0.781000018119812, -0.515999972820282, -0.574999988079071, -0.4790000021457672, -0.4059999883174896, -0.5580000281333923, -0.054999999701976776]}\n",
      "{\"emotion_correct\": 0, \"valence_loss\": 1.3082778453826904, \"arousal_loss\": 1.2325336933135986, \"emotion_loss\": NaN, \"time_take\": 7.4622802734375, \"pred_valence\": [-0.37400001287460327, -0.42500001192092896, -0.328000009059906, -0.2759999930858612, -0.3959999978542328, -0.4339999854564667, -0.3240000009536743, -0.33500000834465027], \"pred_arousal\": [-0.5149999856948853, -0.23399999737739563, -0.49000000953674316, -0.32499998807907104, -0.34599998593330383, -0.44200000166893005, -0.4690000116825104, -0.3149999976158142]}\n",
      "{\"emotion_correct\": 0, \"valence_loss\": 1.352391004562378, \"arousal_loss\": 1.1917582750320435, \"emotion_loss\": NaN, \"time_take\": 7.571439981460571, \"pred_valence\": [-0.4440000057220459, -0.48899999260902405, -0.39500001072883606, -0.38600000739097595, -0.22100000083446503, -0.4339999854564667, -0.4519999921321869, -0.3149999976158142], \"pred_arousal\": [-0.4819999933242798, -0.6209999918937683, -0.37700000405311584, -0.2619999945163727, -0.35100001096725464, -0.40799999237060547, -0.42399999499320984, -0.4569999873638153]}\n",
      "{\"emotion_correct\": 0, \"valence_loss\": 1.3322608470916748, \"arousal_loss\": 1.017059326171875, \"emotion_loss\": NaN, \"time_take\": 7.646402359008789, \"pred_valence\": [-0.5019999742507935, -0.4740000069141388, -0.5789999961853027, -0.3479999899864197, -0.3709999918937683, -0.3779999911785126, -0.6200000047683716, -0.4090000092983246], \"pred_arousal\": [-0.4819999933242798, -0.6069999933242798, -0.4860000014305115, -0.47200000286102295, -0.3619999885559082, -0.45899999141693115, -0.5410000085830688, -0.492000013589859]}\n",
      "{\"emotion_correct\": 0, \"valence_loss\": 1.0502674579620361, \"arousal_loss\": 0.9893200397491455, \"emotion_loss\": NaN, \"time_take\": 7.785467147827148, \"pred_valence\": [-0.4650000035762787, -0.5230000019073486, -0.36800000071525574, -0.41600000858306885, -0.7979999780654907, -0.6079999804496765, -0.46799999475479126, -0.47999998927116394], \"pred_arousal\": [-0.7229999899864197, -0.32499998807907104, -0.47699999809265137, -0.4480000138282776, -0.6850000023841858, -0.5580000281333923, -0.527999997138977, -0.3440000116825104]}\n",
      "{\"emotion_correct\": 1, \"valence_loss\": 1.1134237051010132, \"arousal_loss\": 0.9267244338989258, \"emotion_loss\": NaN, \"time_take\": 7.85697865486145, \"pred_valence\": [-0.3569999933242798, -0.40799999237060547, -0.5170000195503235, -0.34299999475479126, -0.5360000133514404, -0.5799999833106995, -0.5350000262260437, -0.34700000286102295], \"pred_arousal\": [-0.42399999499320984, -0.3319999873638153, -0.6790000200271606, -0.546999990940094, -0.5809999704360962, -0.5019999742507935, -0.531000018119812, -0.44600000977516174]}\n",
      "{\"emotion_correct\": 0, \"valence_loss\": 1.2205570936203003, \"arousal_loss\": 0.7651260495185852, \"emotion_loss\": NaN, \"time_take\": 7.9340314865112305, \"pred_valence\": [-0.5329999923706055, -0.5540000200271606, -0.38600000739097595, -0.49300000071525574, -0.4189999997615814, -0.3009999990463257, -0.6840000152587891, -0.5230000019073486], \"pred_arousal\": [-0.44200000166893005, -0.5979999899864197, -0.546999990940094, -0.578000009059906, -0.43799999356269836, -0.37700000405311584, -0.5509999990463257, -0.4519999921321869]}\n"
     ]
    },
    {
     "name": "stdout",
     "output_type": "stream",
     "text": [
      "{\"emotion_correct\": 0, \"valence_loss\": 0.7358199954032898, \"arousal_loss\": 0.47178322076797485, \"emotion_loss\": NaN, \"time_take\": 8.02692437171936, \"pred_valence\": [-0.37400001287460327, -0.6930000185966492, -0.5630000233650208, -0.6809999942779541, -0.46799999475479126, -0.652999997138977, -0.6549999713897705, -0.5730000138282776], \"pred_arousal\": [-0.4779999852180481, -0.8059999942779541, -0.30300000309944153, -0.5870000123977661, -0.49000000953674316, -0.578000009059906, -0.6150000095367432, -0.531000018119812]}\n",
      "{\"emotion_correct\": 0, \"valence_loss\": 0.9552889466285706, \"arousal_loss\": 1.2779784202575684, \"emotion_loss\": NaN, \"time_take\": 8.11076045036316, \"pred_valence\": [-0.6380000114440918, -0.460999995470047, -0.656000018119812, -0.44999998807907104, -0.8519999980926514, -0.43799999356269836, -0.4869999885559082, -0.5920000076293945], \"pred_arousal\": [-0.4869999885559082, -0.34599998593330383, -0.6510000228881836, -0.3869999945163727, -0.7080000042915344, -0.45399999618530273, -0.4009999930858612, -0.3230000138282776]}\n",
      "{\"emotion_correct\": 0, \"valence_loss\": 0.8270291090011597, \"arousal_loss\": 0.6858739256858826, \"emotion_loss\": NaN, \"time_take\": 8.190016984939575, \"pred_valence\": [-0.7929999828338623, -0.5149999856948853, -0.7599999904632568, -0.5839999914169312, -0.5320000052452087, -0.44999998807907104, -0.7160000205039978, -0.5379999876022339], \"pred_arousal\": [-0.5440000295639038, -0.5360000133514404, -0.656000018119812, -0.6570000052452087, -0.4449999928474426, -0.4729999899864197, -0.671999990940094, -0.42800000309944153]}\n",
      "{\"emotion_correct\": 0, \"valence_loss\": 0.78184574842453, \"arousal_loss\": 0.7043957710266113, \"emotion_loss\": NaN, \"time_take\": 8.259810447692871, \"pred_valence\": [-0.39899998903274536, -0.46399998664855957, -0.6129999756813049, -0.42100000381469727, -0.6850000023841858, -0.40400001406669617, -0.45399999618530273, -0.5149999856948853], \"pred_arousal\": [-0.43799999356269836, -0.6050000190734863, -0.6830000281333923, -0.46399998664855957, -0.7710000276565552, -0.453000009059906, -0.4620000123977661, -0.421999990940094]}\n",
      "{\"emotion_correct\": 0, \"valence_loss\": 1.6966991424560547, \"arousal_loss\": 1.0923296213150024, \"emotion_loss\": NaN, \"time_take\": 8.349666118621826, \"pred_valence\": [-0.33799999952316284, -0.6539999842643738, -0.4560000002384186, -0.5009999871253967, -0.4309999942779541, -0.4350000023841858, -0.4650000035762787, -0.2460000067949295], \"pred_arousal\": [-0.33000001311302185, -0.6579999923706055, -0.5839999914169312, -0.6579999923706055, -0.45399999618530273, -0.4429999887943268, -0.5619999766349792, -0.35100001096725464]}\n",
      "{\"emotion_correct\": 0, \"valence_loss\": 1.0707324743270874, \"arousal_loss\": 1.0359774827957153, \"emotion_loss\": NaN, \"time_take\": 8.414737939834595, \"pred_valence\": [-0.421999990940094, -0.3659999966621399, -0.4129999876022339, -0.22200000286102295, -0.4399999976158142, -0.6460000276565552, -0.3400000035762787, -0.5509999990463257], \"pred_arousal\": [-0.45500001311302185, -0.4650000035762787, -0.36000001430511475, -0.33899998664855957, -0.6309999823570251, -0.699999988079071, -0.5, -0.6029999852180481]}\n",
      "{\"emotion_correct\": 1, \"valence_loss\": 0.9068072438240051, \"arousal_loss\": 1.0084984302520752, \"emotion_loss\": NaN, \"time_take\": 8.499544382095337, \"pred_valence\": [-0.5479999780654907, -0.2529999911785126, -0.2800000011920929, -0.37400001287460327, -0.2590000033378601, -0.20499999821186066, -0.49399998784065247, -0.3569999933242798], \"pred_arousal\": [-0.5910000205039978, -0.27799999713897705, -0.5649999976158142, -0.27300000190734863, -0.33399999141693115, -0.30799999833106995, -0.4790000021457672, -0.3889999985694885]}\n",
      "{\"emotion_correct\": 0, \"valence_loss\": 1.494457721710205, \"arousal_loss\": 0.8144662380218506, \"emotion_loss\": NaN, \"time_take\": 8.593470811843872, \"pred_valence\": [-0.375, -0.4320000112056732, -0.25200000405311584, -0.34200000762939453, -0.2680000066757202, -0.2720000147819519, -0.46700000762939453, -0.40700000524520874], \"pred_arousal\": [-0.5989999771118164, -0.5740000009536743, -0.5289999842643738, -0.39800000190734863, -0.3889999985694885, -0.33500000834465027, -0.46799999475479126, -0.5419999957084656]}\n",
      "{\"emotion_correct\": 1, \"valence_loss\": 0.9268850088119507, \"arousal_loss\": 0.828326940536499, \"emotion_loss\": NaN, \"time_take\": 8.662420749664307, \"pred_valence\": [-0.4189999997615814, -0.3499999940395355, -0.3240000009536743, -0.3190000057220459, -0.3330000042915344, -0.2879999876022339, -0.4480000138282776, -0.3889999985694885], \"pred_arousal\": [-0.43299999833106995, -0.6549999713897705, -0.29100000858306885, -0.33799999952316284, -0.3449999988079071, -0.3700000047683716, -0.5199999809265137, -0.5170000195503235]}\n",
      "{\"emotion_correct\": 0, \"valence_loss\": 1.4568774700164795, \"arousal_loss\": 1.2776484489440918, \"emotion_loss\": NaN, \"time_take\": 8.730719089508057, \"pred_valence\": [-0.25200000405311584, -0.3319999873638153, -0.27900001406669617, -0.40799999237060547, -0.20100000500679016, -0.3319999873638153, -0.36500000953674316, -0.7120000123977661], \"pred_arousal\": [-0.49300000071525574, -0.3089999854564667, -0.3199999928474426, -0.3319999873638153, -0.38600000739097595, -0.39500001072883606, -0.33399999141693115, -0.6850000023841858]}\n",
      "{\"emotion_correct\": 0, \"valence_loss\": 1.637434959411621, \"arousal_loss\": 1.132659912109375, \"emotion_loss\": NaN, \"time_take\": 8.810592412948608, \"pred_valence\": [-0.24199999868869781, -0.19900000095367432, -0.4099999964237213, -0.20600000023841858, -0.4580000042915344, -0.5320000052452087, -0.4880000054836273, -0.39899998903274536], \"pred_arousal\": [-0.41499999165534973, -0.30300000309944153, -0.4009999930858612, -0.29499998688697815, -0.5559999942779541, -0.44600000977516174, -0.6119999885559082, -0.4259999990463257]}\n",
      "{\"emotion_correct\": 0, \"valence_loss\": 1.2626652717590332, \"arousal_loss\": 1.1035709381103516, \"emotion_loss\": NaN, \"time_take\": 9.097791194915771, \"pred_valence\": [-0.43700000643730164, -0.44999998807907104, -0.41600000858306885, -0.33799999952316284, -0.21799999475479126, -0.29499998688697815, -0.3100000023841858, -0.25699999928474426], \"pred_arousal\": [-0.4950000047683716, -0.550000011920929, -0.3709999918937683, -0.32600000500679016, -0.4000000059604645, -0.35899999737739563, -0.1459999978542328, -0.4059999883174896]}\n",
      "{\"emotion_correct\": 0, \"valence_loss\": 0.8584038019180298, \"arousal_loss\": 0.6420352458953857, \"emotion_loss\": NaN, \"time_take\": 9.165806531906128, \"pred_valence\": [-0.33899998664855957, -0.46799999475479126, -0.2529999911785126, -0.19599999487400055, -0.41999998688697815, -0.43299999833106995, -0.24899999797344208, -0.2930000126361847], \"pred_arousal\": [-0.26600000262260437, -0.7860000133514404, -0.3869999945163727, -0.42100000381469727, -0.39800000190734863, -0.593999981880188, -0.46799999475479126, -0.3050000071525574]}\n",
      "{\"emotion_correct\": 0, \"valence_loss\": 0.9469122886657715, \"arousal_loss\": 0.7890393733978271, \"emotion_loss\": NaN, \"time_take\": 9.243940591812134, \"pred_valence\": [-0.48899999260902405, -0.34299999475479126, -0.25999999046325684, -0.42399999499320984, -0.28200000524520874, -0.16200000047683716, -0.2460000067949295, -0.328000009059906], \"pred_arousal\": [-0.4650000035762787, -0.2709999978542328, -0.49300000071525574, -0.6759999990463257, -0.48500001430511475, -0.3400000035762787, -0.37700000405311584, -0.5410000085830688]}\n",
      "{\"emotion_correct\": 1, \"valence_loss\": 1.1423640251159668, \"arousal_loss\": 0.7034726142883301, \"emotion_loss\": NaN, \"time_take\": 9.341716051101685, \"pred_valence\": [-0.4779999852180481, -0.23800000548362732, -0.2770000100135803, -0.25600001215934753, -0.460999995470047, -0.3240000009536743, -0.328000009059906, -0.3970000147819519], \"pred_arousal\": [-0.4860000014305115, -0.6179999709129333, -0.5180000066757202, -0.5799999833106995, -0.6010000109672546, -0.4569999873638153, -0.5580000281333923, -0.4230000078678131]}\n",
      "{\"emotion_correct\": 1, \"valence_loss\": 1.5005203485488892, \"arousal_loss\": 1.29768705368042, \"emotion_loss\": NaN, \"time_take\": 9.408231496810913, \"pred_valence\": [-0.27900001406669617, -0.36000001430511475, -0.17100000381469727, -0.16099999845027924, -0.21699999272823334, -0.2669999897480011, -0.2669999897480011, -0.23399999737739563], \"pred_arousal\": [-0.45899999141693115, -0.41200000047683716, -0.36399999260902405, -0.5059999823570251, -0.35100001096725464, -0.5320000052452087, -0.2919999957084656, -0.48500001430511475]}\n",
      "{\"emotion_correct\": 0, \"valence_loss\": 1.4263516664505005, \"arousal_loss\": 1.1723220348358154, \"emotion_loss\": NaN, \"time_take\": 9.47786569595337, \"pred_valence\": [-0.460999995470047, -0.2930000126361847, -0.17599999904632568, -0.3050000071525574, -0.21299999952316284, -0.27399998903274536, -0.17900000512599945, -0.3160000145435333], \"pred_arousal\": [-0.3959999978542328, -0.48100000619888306, -0.45100000500679016, -0.37299999594688416, -0.3240000009536743, -0.6230000257492065, -0.38100001215934753, -0.3540000021457672]}\n"
     ]
    },
    {
     "name": "stdout",
     "output_type": "stream",
     "text": [
      "{\"emotion_correct\": 0, \"valence_loss\": 1.4869097471237183, \"arousal_loss\": 1.5962200164794922, \"emotion_loss\": NaN, \"time_take\": 9.561068296432495, \"pred_valence\": [-0.3619999885559082, -0.22599999606609344, -0.47600001096725464, -0.33899998664855957, -0.453000009059906, -0.2849999964237213, -0.24199999868869781, -0.27300000190734863], \"pred_arousal\": [-0.44200000166893005, -0.4959999918937683, -0.6830000281333923, -0.6110000014305115, -0.6840000152587891, -0.5770000219345093, -0.4129999876022339, -0.43299999833106995]}\n",
      "{\"emotion_correct\": 0, \"valence_loss\": 0.6769661903381348, \"arousal_loss\": 0.34974178671836853, \"emotion_loss\": NaN, \"time_take\": 9.653671503067017, \"pred_valence\": [-0.32199999690055847, -0.3840000033378601, -0.2409999966621399, -0.3959999978542328, -0.21299999952316284, -0.2619999945163727, -0.4000000059604645, -0.3529999852180481], \"pred_arousal\": [-0.5059999823570251, -0.4779999852180481, -0.5989999771118164, -0.6380000114440918, -0.46399998664855957, -0.6169999837875366, -0.5249999761581421, -0.5199999809265137]}\n",
      "{\"emotion_correct\": 1, \"valence_loss\": 1.0259971618652344, \"arousal_loss\": 1.0416514873504639, \"emotion_loss\": NaN, \"time_take\": 9.731965780258179, \"pred_valence\": [-0.3479999899864197, -0.3919999897480011, -0.23499999940395355, -0.3009999990463257, -0.33899998664855957, -0.2770000100135803, -0.4659999907016754, -0.29100000858306885], \"pred_arousal\": [-0.5249999761581421, -0.3240000009536743, -0.3919999897480011, -0.42500001192092896, -0.49300000071525574, -0.32899999618530273, -0.6190000176429749, -0.3109999895095825]}\n",
      "{\"emotion_correct\": 0, \"valence_loss\": 0.8203926086425781, \"arousal_loss\": 0.6010478138923645, \"emotion_loss\": NaN, \"time_take\": 9.843195676803589, \"pred_valence\": [-0.2849999964237213, -0.3479999899864197, -0.29100000858306885, -0.17100000381469727, -0.31200000643730164, -0.30799999833106995, -0.3100000023841858, -0.4050000011920929], \"pred_arousal\": [-0.296999990940094, -0.5479999780654907, -0.515999972820282, -0.4309999942779541, -0.4099999964237213, -0.574999988079071, -0.296999990940094, -0.43799999356269836]}\n",
      "{\"emotion_correct\": 0, \"valence_loss\": 1.4785648584365845, \"arousal_loss\": 1.0454680919647217, \"emotion_loss\": NaN, \"time_take\": 9.921030759811401, \"pred_valence\": [-0.30300000309944153, -0.24199999868869781, -0.25699999928474426, -0.5009999871253967, -0.10400000214576721, -0.20000000298023224, -0.4480000138282776, -0.4169999957084656], \"pred_arousal\": [-0.27399998903274536, -0.5099999904632568, -0.3269999921321869, -0.7590000033378601, -0.40299999713897705, -0.49900001287460327, -0.5609999895095825, -0.45500001311302185]}\n",
      "{\"emotion_correct\": 0, \"valence_loss\": 0.7607185244560242, \"arousal_loss\": 0.7994928956031799, \"emotion_loss\": NaN, \"time_take\": 9.986164569854736, \"pred_valence\": [-0.2150000035762787, -0.5820000171661377, -0.14399999380111694, -0.2619999945163727, -0.23999999463558197, -0.1509999930858612, -0.21799999475479126, -0.10100000351667404], \"pred_arousal\": [-0.3799999952316284, -0.8399999737739563, -0.3199999928474426, -0.5490000247955322, -0.27799999713897705, -0.35899999737739563, -0.4410000145435333, -0.4659999907016754]}\n",
      "{\"emotion_correct\": 0, \"valence_loss\": 0.8081923723220825, \"arousal_loss\": 0.5202621221542358, \"emotion_loss\": NaN, \"time_take\": 10.080625772476196, \"pred_valence\": [-0.19099999964237213, -0.30399999022483826, -0.22599999606609344, -0.15800000727176666, -0.1899999976158142, -0.2460000067949295, -0.20100000500679016, -0.27399998903274536], \"pred_arousal\": [-0.35100001096725464, -0.4569999873638153, -0.2930000126361847, -0.4059999883174896, -0.33899998664855957, -0.3930000066757202, -0.1979999989271164, -0.47200000286102295]}\n",
      "{\"emotion_correct\": 0, \"valence_loss\": 0.9503650665283203, \"arousal_loss\": 0.6137589812278748, \"emotion_loss\": NaN, \"time_take\": 10.172851085662842, \"pred_valence\": [-0.14300000667572021, -0.47600001096725464, -0.8790000081062317, -0.5400000214576721, -0.31200000643730164, -0.29600000381469727, -0.3370000123977661, -0.2809999883174896], \"pred_arousal\": [-0.2619999945163727, -0.36800000071525574, -0.8489999771118164, -0.7110000252723694, -0.2709999978542328, -0.36899998784065247, -0.41999998688697815, -0.40799999237060547]}\n",
      "{\"emotion_correct\": 1, \"valence_loss\": 0.7742091417312622, \"arousal_loss\": 0.735266387462616, \"emotion_loss\": NaN, \"time_take\": 10.256752252578735, \"pred_valence\": [-0.18000000715255737, -0.4099999964237213, -0.23600000143051147, -0.5849999785423279, -0.3140000104904175, -0.27399998903274536, -0.18199999630451202, -0.2529999911785126], \"pred_arousal\": [-0.3440000116825104, -0.4959999918937683, -0.2639999985694885, -0.609000027179718, -0.3140000104904175, -0.3100000023841858, -0.42899999022483826, -0.46799999475479126]}\n",
      "{\"emotion_correct\": 0, \"valence_loss\": 1.3180930614471436, \"arousal_loss\": 1.2984857559204102, \"emotion_loss\": NaN, \"time_take\": 10.354088544845581, \"pred_valence\": [-0.460999995470047, -0.3059999942779541, -0.6470000147819519, -0.382999986410141, -0.20200000703334808, -0.1850000023841858, -0.3050000071525574, -0.05299999937415123], \"pred_arousal\": [-0.4880000054836273, -0.42800000309944153, -0.460999995470047, -0.3930000066757202, -0.3720000088214874, -0.289000004529953, -0.4480000138282776, -0.367000013589859]}\n",
      "{\"emotion_correct\": 1, \"valence_loss\": 0.7091687321662903, \"arousal_loss\": 0.6171852350234985, \"emotion_loss\": NaN, \"time_take\": 10.43714451789856, \"pred_valence\": [-0.21699999272823334, -0.14499999582767487, -0.23899999260902405, -0.23399999737739563, -0.09099999815225601, -0.27399998903274536, -0.15199999511241913, -0.15600000321865082], \"pred_arousal\": [-0.29100000858306885, -0.2809999883174896, -0.4350000023841858, -0.44600000977516174, -0.47699999809265137, -0.3160000145435333, -0.34599998593330383, -0.17599999904632568]}\n",
      "{\"emotion_correct\": 0, \"valence_loss\": 0.5617532730102539, \"arousal_loss\": 0.49973177909851074, \"emotion_loss\": NaN, \"time_take\": 10.513393878936768, \"pred_valence\": [-0.28600001335144043, -0.164000004529953, -0.36000001430511475, 0.013000000268220901, -0.11100000143051147, -0.14900000393390656, -0.29600000381469727, -0.5849999785423279], \"pred_arousal\": [-0.40799999237060547, -0.1679999977350235, -0.44999998807907104, -0.2879999876022339, -0.2590000033378601, -0.3230000138282776, -0.31200000643730164, -0.3190000057220459]}\n",
      "{\"emotion_correct\": 0, \"valence_loss\": 0.5641599893569946, \"arousal_loss\": 0.19820073246955872, \"emotion_loss\": 7.776561260223389, \"time_take\": 10.590405225753784, \"pred_valence\": [-0.004999999888241291, -0.03500000014901161, -0.23100000619888306, -0.0020000000949949026, -0.382999986410141, 0.012000000104308128, -0.45100000500679016, -0.22200000286102295], \"pred_arousal\": [-0.36399999260902405, -0.2630000114440918, -0.2540000081062317, -0.41200000047683716, -0.3330000042915344, -0.19300000369548798, -0.42100000381469727, -0.18700000643730164]}\n",
      "{\"emotion_correct\": 0, \"valence_loss\": 1.1857357025146484, \"arousal_loss\": 0.8838030099868774, \"emotion_loss\": NaN, \"time_take\": 10.651091575622559, \"pred_valence\": [-0.24400000274181366, 0.1550000011920929, -0.16899999976158142, -0.22699999809265137, -0.26499998569488525, -0.12300000339746475, -0.10400000214576721, -0.026000000536441803], \"pred_arousal\": [-0.19099999964237213, -0.1599999964237213, -0.1889999955892563, -0.36899998784065247, -0.3930000066757202, -0.14300000667572021, -0.11999999731779099, -0.15000000596046448]}\n",
      "{\"emotion_correct\": 0, \"valence_loss\": 1.6403682231903076, \"arousal_loss\": 1.2212153673171997, \"emotion_loss\": NaN, \"time_take\": 10.732903003692627, \"pred_valence\": [-0.07100000232458115, -0.10499999672174454, -0.18400000035762787, -0.18000000715255737, -0.2529999911785126, -0.2680000066757202, 0.12399999797344208, -0.24799999594688416], \"pred_arousal\": [-0.21299999952316284, -0.02800000086426735, -0.24899999797344208, -0.39500001072883606, -0.2070000022649765, -0.4300000071525574, -0.14000000059604645, -0.24500000476837158]}\n",
      "{\"emotion_correct\": 1, \"valence_loss\": 1.437382459640503, \"arousal_loss\": 1.430298089981079, \"emotion_loss\": NaN, \"time_take\": 10.795938968658447, \"pred_valence\": [-0.1599999964237213, -0.050999999046325684, 0.10000000149011612, -0.11900000274181366, -0.1979999989271164, -0.050999999046325684, -0.05400000140070915, -0.21400000154972076], \"pred_arousal\": [-0.15199999511241913, -0.3840000033378601, -0.1509999930858612, -0.14499999582767487, -0.0949999988079071, -0.14499999582767487, -0.09399999678134918, -0.15700000524520874]}\n",
      "{\"emotion_correct\": 0, \"valence_loss\": 1.2411999702453613, \"arousal_loss\": 0.8737583160400391, \"emotion_loss\": NaN, \"time_take\": 10.908066749572754, \"pred_valence\": [-0.01899999938905239, -0.1599999964237213, -0.3529999852180481, 0.21899999678134918, -0.125, -0.10499999672174454, -0.07800000160932541, -0.19499999284744263], \"pred_arousal\": [-0.18700000643730164, -0.19900000095367432, -0.32199999690055847, -0.19099999964237213, -0.1120000034570694, -0.14900000393390656, -0.1940000057220459, -0.22699999809265137]}\n",
      "{\"emotion_correct\": 0, \"valence_loss\": 0.39868810772895813, \"arousal_loss\": 0.26105567812919617, \"emotion_loss\": NaN, \"time_take\": 10.986491203308105, \"pred_valence\": [-0.13300000131130219, 0.008999999612569809, -0.23100000619888306, 0.08500000089406967, -0.11900000274181366, -0.16300000250339508, 0.04800000041723251, -0.02500000037252903], \"pred_arousal\": [-0.13500000536441803, -0.1550000011920929, -0.22599999606609344, -0.125, -0.2150000035762787, -0.023000000044703484, -0.10300000011920929, -0.13099999725818634]}\n"
     ]
    },
    {
     "name": "stdout",
     "output_type": "stream",
     "text": [
      "{\"emotion_correct\": 0, \"valence_loss\": 1.208004355430603, \"arousal_loss\": 0.9793088436126709, \"emotion_loss\": NaN, \"time_take\": 11.076772212982178, \"pred_valence\": [0.1509999930858612, -0.07199999690055847, -0.04399999976158142, -0.2590000033378601, -0.328000009059906, -0.11500000208616257, 0.05299999937415123, -0.1340000033378601], \"pred_arousal\": [-0.14000000059604645, -0.21199999749660492, -0.2409999966621399, -0.06800000369548798, -0.2750000059604645, -0.08699999749660492, -0.10599999874830246, -0.2529999911785126]}\n",
      "{\"emotion_correct\": 1, \"valence_loss\": 1.2676990032196045, \"arousal_loss\": 1.1512739658355713, \"emotion_loss\": NaN, \"time_take\": 11.147669315338135, \"pred_valence\": [0.024000000208616257, -0.30399999022483826, -0.22200000286102295, -0.0989999994635582, -0.061000000685453415, -0.32100000977516174, -0.0729999989271164, 0.20200000703334808], \"pred_arousal\": [-0.050999999046325684, -0.34599998593330383, -0.26499998569488525, -0.15399999916553497, -0.07900000363588333, -0.24199999868869781, -0.20499999821186066, -0.14499999582767487]}\n",
      "{\"emotion_correct\": 1, \"valence_loss\": 1.0224542617797852, \"arousal_loss\": 0.8877962231636047, \"emotion_loss\": NaN, \"time_take\": 11.217968225479126, \"pred_valence\": [-0.12099999934434891, -0.14499999582767487, -0.20999999344348907, -0.08500000089406967, -0.23999999463558197, -0.12399999797344208, 0.008999999612569809, -0.10999999940395355], \"pred_arousal\": [-0.14300000667572021, -0.09700000286102295, -0.18400000035762787, -0.13199999928474426, -0.2680000066757202, -0.14800000190734863, -0.04899999871850014, -0.08699999749660492]}\n",
      "{\"emotion_correct\": 0, \"valence_loss\": 1.1819889545440674, \"arousal_loss\": 0.9411444664001465, \"emotion_loss\": NaN, \"time_take\": 11.275058031082153, \"pred_valence\": [-0.07000000029802322, 0.024000000208616257, 0.05900000035762787, 0.18000000715255737, -0.2370000034570694, -0.12700000405311584, -0.14900000393390656, 0.003000000026077032], \"pred_arousal\": [-0.20200000703334808, -0.07699999958276749, -0.0860000029206276, -0.1720000058412552, -0.18299999833106995, -0.19099999964237213, -0.2770000100135803, -0.11299999803304672]}\n",
      "{\"emotion_correct\": 0, \"valence_loss\": 1.072594404220581, \"arousal_loss\": 1.057724952697754, \"emotion_loss\": NaN, \"time_take\": 11.34323525428772, \"pred_valence\": [-0.09200000017881393, -0.2329999953508377, -0.3919999897480011, -0.08399999886751175, 0.07599999755620956, -0.06599999964237213, -0.1720000058412552, -0.0989999994635582], \"pred_arousal\": [-0.23899999260902405, -0.17599999904632568, -0.3109999895095825, -0.06300000101327896, -0.1469999998807907, -0.2619999945163727, -0.19200000166893005, -0.24799999594688416]}\n",
      "{\"emotion_correct\": 0, \"valence_loss\": 2.010843276977539, \"arousal_loss\": 1.6538426876068115, \"emotion_loss\": NaN, \"time_take\": 11.437494277954102, \"pred_valence\": [-0.20200000703334808, -0.0989999994635582, -0.14399999380111694, -0.06800000369548798, -0.24899999797344208, -0.14900000393390656, -0.1809999942779541, -0.4189999997615814], \"pred_arousal\": [-0.30300000309944153, -0.11699999868869781, -0.17800000309944153, -0.15000000596046448, -0.3160000145435333, -0.1770000010728836, -0.10000000149011612, -0.3720000088214874]}\n",
      "{\"emotion_correct\": 0, \"valence_loss\": 1.6014832258224487, \"arousal_loss\": 1.243370532989502, \"emotion_loss\": NaN, \"time_take\": 11.51813292503357, \"pred_valence\": [-0.34599998593330383, -0.23000000417232513, -0.09600000083446503, -0.09099999815225601, -0.17299999296665192, -0.1379999965429306, -0.057999998331069946, -0.09700000286102295], \"pred_arousal\": [-0.30000001192092896, -0.3580000102519989, -0.1469999998807907, -0.19499999284744263, -0.23600000143051147, -0.13699999451637268, -0.29899999499320984, -0.210999995470047]}\n",
      "{\"emotion_correct\": 0, \"valence_loss\": 0.8442187905311584, \"arousal_loss\": 0.7147921323776245, \"emotion_loss\": NaN, \"time_take\": 11.598167181015015, \"pred_valence\": [-0.17800000309944153, -0.1469999998807907, -0.21899999678134918, -0.32199999690055847, -0.20399999618530273, -0.19900000095367432, -0.20399999618530273, -0.38600000739097595], \"pred_arousal\": [-0.1940000057220459, -0.26600000262260437, -0.32600000500679016, -0.30000001192092896, -0.17100000381469727, -0.2759999930858612, -0.2160000056028366, -0.35199999809265137]}\n",
      "{\"emotion_correct\": 2, \"valence_loss\": 0.44424062967300415, \"arousal_loss\": 0.4050952196121216, \"emotion_loss\": NaN, \"time_take\": 11.70376992225647, \"pred_valence\": [-0.3479999899864197, -0.21400000154972076, -0.4970000088214874, -0.42500001192092896, -0.2290000021457672, -0.16200000047683716, -0.057999998331069946, -0.20399999618530273], \"pred_arousal\": [-0.29899999499320984, -0.30300000309944153, -0.41200000047683716, -0.2980000078678131, -0.23399999737739563, -0.14000000059604645, -0.2980000078678131, -0.14800000190734863]}\n",
      "{\"emotion_correct\": 1, \"valence_loss\": 1.109747052192688, \"arousal_loss\": 0.7943018674850464, \"emotion_loss\": NaN, \"time_take\": 11.771390676498413, \"pred_valence\": [-0.32199999690055847, -0.25699999928474426, -0.2540000081062317, -0.32199999690055847, -0.28299999237060547, -0.3330000042915344, -0.20399999618530273, -0.27399998903274536], \"pred_arousal\": [-0.32100000977516174, -0.4440000057220459, -0.2849999964237213, -0.24799999594688416, -0.2980000078678131, -0.32600000500679016, -0.40299999713897705, -0.27799999713897705]}\n",
      "{\"emotion_correct\": 0, \"valence_loss\": 1.408586025238037, \"arousal_loss\": 1.1607182025909424, \"emotion_loss\": NaN, \"time_take\": 11.859269618988037, \"pred_valence\": [-0.2809999883174896, -0.3479999899864197, -0.2720000147819519, -0.2809999883174896, -0.4880000054836273, -0.2800000011920929, -0.24699999392032623, -0.35899999737739563], \"pred_arousal\": [-0.1850000023841858, -0.32199999690055847, -0.29600000381469727, -0.2160000056028366, -0.5830000042915344, -0.23800000548362732, -0.23399999737739563, -0.41999998688697815]}\n",
      "{\"emotion_correct\": 1, \"valence_loss\": 1.4683541059494019, \"arousal_loss\": 1.3520584106445312, \"emotion_loss\": NaN, \"time_take\": 11.923828125, \"pred_valence\": [-0.22599999606609344, -0.2919999957084656, -0.2669999897480011, -0.47699999809265137, -0.23600000143051147, -0.2980000078678131, -0.32100000977516174, -0.18799999356269836], \"pred_arousal\": [-0.25, -0.33399999141693115, -0.14100000262260437, -0.49000000953674316, -0.25699999928474426, -0.3100000023841858, -0.2460000067949295, -0.38100001215934753]}\n",
      "{\"emotion_correct\": 1, \"valence_loss\": 1.2493515014648438, \"arousal_loss\": 1.1387531757354736, \"emotion_loss\": NaN, \"time_take\": 12.003037452697754, \"pred_valence\": [-0.4519999921321869, -0.34700000286102295, -0.46000000834465027, -0.4050000011920929, -0.21699999272823334, -0.30000001192092896, -0.2809999883174896, -0.2639999985694885], \"pred_arousal\": [-0.36399999260902405, -0.37299999594688416, -0.5410000085830688, -0.382999986410141, -0.2619999945163727, -0.492000013589859, -0.36899998784065247, -0.5559999942779541]}\n",
      "{\"emotion_correct\": 0, \"valence_loss\": 0.9787546396255493, \"arousal_loss\": 0.5846390724182129, \"emotion_loss\": NaN, \"time_take\": 12.093831539154053, \"pred_valence\": [-0.3409999907016754, -0.33399999141693115, -0.335999995470047, -0.26499998569488525, -0.335999995470047, -0.45399999618530273, -0.37700000405311584, -0.3799999952316284], \"pred_arousal\": [-0.3499999940395355, -0.36500000953674316, -0.38600000739097595, -0.38999998569488525, -0.5130000114440918, -0.3140000104904175, -0.32100000977516174, -0.24699999392032623]}\n",
      "{\"emotion_correct\": 0, \"valence_loss\": 0.8092921376228333, \"arousal_loss\": 0.27261215448379517, \"emotion_loss\": NaN, \"time_take\": 12.159902572631836, \"pred_valence\": [-0.41499999165534973, -0.3499999940395355, -0.45500001311302185, -0.4020000100135803, -0.16899999976158142, -0.32199999690055847, -0.4880000054836273, -0.40799999237060547], \"pred_arousal\": [-0.4830000102519989, -0.28200000524520874, -0.6190000176429749, -0.30000001192092896, -0.24199999868869781, -0.5230000019073486, -0.5389999747276306, -0.5889999866485596]}\n",
      "{\"emotion_correct\": 0, \"valence_loss\": 1.0365623235702515, \"arousal_loss\": 0.8932877779006958, \"emotion_loss\": NaN, \"time_take\": 12.223912000656128, \"pred_valence\": [-0.33000001311302185, -0.47600001096725464, -0.7200000286102295, -0.46000000834465027, -0.29100000858306885, -0.34200000762939453, -0.3659999966621399, -0.2800000011920929], \"pred_arousal\": [-0.5, -0.42100000381469727, -0.8429999947547913, -0.6890000104904175, -0.4860000014305115, -0.4749999940395355, -0.5149999856948853, -0.3100000023841858]}\n"
     ]
    },
    {
     "name": "stdout",
     "output_type": "stream",
     "text": [
      "{\"emotion_correct\": 0, \"valence_loss\": 1.6017353534698486, \"arousal_loss\": 1.1177160739898682, \"emotion_loss\": NaN, \"time_take\": 12.328140497207642, \"pred_valence\": [-0.3089999854564667, -0.3580000102519989, -0.2280000001192093, -0.39100000262260437, -0.4169999957084656, -0.5130000114440918, -0.2619999945163727, -0.2290000021457672], \"pred_arousal\": [-0.30799999833106995, -0.5009999871253967, -0.3160000145435333, -0.7039999961853027, -0.515999972820282, -0.4490000009536743, -0.335999995470047, -0.27900001406669617]}\n",
      "{\"emotion_correct\": 0, \"valence_loss\": 1.1348987817764282, \"arousal_loss\": 1.07601797580719, \"emotion_loss\": NaN, \"time_take\": 12.407004356384277, \"pred_valence\": [-0.32899999618530273, -0.27000001072883606, -0.5070000290870667, -0.28999999165534973, -0.15700000524520874, -0.30799999833106995, -0.3089999854564667, -0.20399999618530273], \"pred_arousal\": [-0.43299999833106995, -0.39500001072883606, -0.949999988079071, -0.40799999237060547, -0.3569999933242798, -0.5640000104904175, -0.5199999809265137, -0.4729999899864197]}\n",
      "{\"emotion_correct\": 0, \"valence_loss\": 0.5931059122085571, \"arousal_loss\": 0.493874728679657, \"emotion_loss\": NaN, \"time_take\": 12.506864070892334, \"pred_valence\": [-0.3449999988079071, -0.4129999876022339, -0.35899999737739563, -0.5019999742507935, -0.28999999165534973, -0.4180000126361847, -0.24699999392032623, -0.3070000112056732], \"pred_arousal\": [-0.5270000100135803, -0.49300000071525574, -0.4020000100135803, -0.39500001072883606, -0.4620000123977661, -0.3709999918937683, -0.382999986410141, -0.5149999856948853]}\n",
      "{\"emotion_correct\": 0, \"valence_loss\": 0.7963701486587524, \"arousal_loss\": 0.46737658977508545, \"emotion_loss\": NaN, \"time_take\": 12.573750019073486, \"pred_valence\": [-0.2529999911785126, -0.328000009059906, -0.3479999899864197, -0.3269999921321869, -0.28200000524520874, -0.47200000286102295, -0.2879999876022339, -0.421999990940094], \"pred_arousal\": [-0.2639999985694885, -0.593999981880188, -0.47099998593330383, -0.39399999380111694, -0.49900001287460327, -0.6480000019073486, -0.33000001311302185, -0.5609999895095825]}\n",
      "{\"emotion_correct\": 0, \"valence_loss\": 0.986810564994812, \"arousal_loss\": 0.8688483238220215, \"emotion_loss\": NaN, \"time_take\": 12.634987115859985, \"pred_valence\": [-0.2680000066757202, -0.34700000286102295, -0.39399999380111694, -0.38199999928474426, -0.28700000047683716, -0.23199999332427979, -0.4099999964237213, -0.5210000276565552], \"pred_arousal\": [-0.40799999237060547, -0.515999972820282, -0.38499999046325684, -0.6299999952316284, -0.4580000042915344, -0.367000013589859, -0.6970000267028809, -0.7310000061988831]}\n",
      "{\"emotion_correct\": 0, \"valence_loss\": 0.5162041187286377, \"arousal_loss\": 0.989165186882019, \"emotion_loss\": NaN, \"time_take\": 12.706833362579346, \"pred_valence\": [-0.5289999842643738, -0.16300000250339508, -0.4480000138282776, -0.38600000739097595, -0.37599998712539673, -0.33899998664855957, -0.33500000834465027, -0.3709999918937683], \"pred_arousal\": [-0.6539999842643738, -0.43700000643730164, -0.5519999861717224, -0.7450000047683716, -0.46399998664855957, -0.5419999957084656, -0.5899999737739563, -0.7670000195503235]}\n",
      "{\"emotion_correct\": 0, \"valence_loss\": 0.7539513111114502, \"arousal_loss\": 0.7244964838027954, \"emotion_loss\": NaN, \"time_take\": 12.768515825271606, \"pred_valence\": [-0.3179999887943268, -0.2980000078678131, -0.4269999861717224, -0.29899999499320984, -0.3569999933242798, -0.2800000011920929, -0.15700000524520874, -0.5299999713897705], \"pred_arousal\": [-0.5360000133514404, -0.48100000619888306, -0.4580000042915344, -0.43799999356269836, -0.43299999833106995, -0.35100001096725464, -0.4690000116825104, -0.5659999847412109]}\n",
      "{\"emotion_correct\": 1, \"valence_loss\": 0.9500136375427246, \"arousal_loss\": 0.18654358386993408, \"emotion_loss\": NaN, \"time_take\": 12.848647356033325, \"pred_valence\": [-0.2630000114440918, -0.2290000021457672, -0.328000009059906, -0.35499998927116394, -0.30799999833106995, -0.3059999942779541, -0.38199999928474426, -0.2919999957084656], \"pred_arousal\": [-0.335999995470047, -0.38499999046325684, -0.41200000047683716, -0.5019999742507935, -0.4659999907016754, -0.3059999942779541, -0.5059999823570251, -0.32499998807907104]}\n",
      "{\"emotion_correct\": 0, \"valence_loss\": 1.0939306020736694, \"arousal_loss\": 0.8134430050849915, \"emotion_loss\": NaN, \"time_take\": 12.924222230911255, \"pred_valence\": [-0.2809999883174896, -0.257999986410141, -0.335999995470047, -0.2980000078678131, -0.35199999809265137, -0.33899998664855957, -0.19300000369548798, -0.2709999978542328], \"pred_arousal\": [-0.3569999933242798, -0.38199999928474426, -0.36800000071525574, -0.42100000381469727, -0.5659999847412109, -0.5730000138282776, -0.5360000133514404, -0.4339999854564667]}\n",
      "{\"emotion_correct\": 0, \"valence_loss\": 0.3393174409866333, \"arousal_loss\": 0.3664577901363373, \"emotion_loss\": 4.621693134307861, \"time_take\": 13.051192283630371, \"pred_valence\": [-0.23600000143051147, -0.3089999854564667, -0.31299999356269836, -0.20399999618530273, -0.5249999761581421, -0.37599998712539673, -0.27399998903274536, -0.2840000092983246], \"pred_arousal\": [-0.36500000953674316, -0.4050000011920929, -0.36800000071525574, -0.23899999260902405, -0.5370000004768372, -0.3019999861717224, -0.4950000047683716, -0.36500000953674316]}\n",
      "{\"emotion_correct\": 1, \"valence_loss\": 0.9297229051589966, \"arousal_loss\": 1.042500376701355, \"emotion_loss\": NaN, \"time_take\": 13.114675045013428, \"pred_valence\": [-0.30300000309944153, -0.21699999272823334, -0.22100000083446503, -0.34299999475479126, -0.30000001192092896, -0.25, -0.15399999916553497, -0.23899999260902405], \"pred_arousal\": [-0.2639999985694885, -0.22300000488758087, -0.21799999475479126, -0.2759999930858612, -0.3970000147819519, -0.3659999966621399, -0.28700000047683716, -0.3019999861717224]}\n",
      "{\"emotion_correct\": 1, \"valence_loss\": 1.7783188819885254, \"arousal_loss\": 1.6062347888946533, \"emotion_loss\": NaN, \"time_take\": 13.184198141098022, \"pred_valence\": [-0.22699999809265137, -0.6399999856948853, -0.14300000667572021, -0.24500000476837158, -0.004999999888241291, -0.4300000071525574, -0.3799999952316284, -0.2669999897480011], \"pred_arousal\": [-0.27399998903274536, -0.656000018119812, -0.15700000524520874, -0.2980000078678131, -0.3479999899864197, -0.3840000033378601, -0.4009999930858612, -0.25200000405311584]}\n",
      "{\"emotion_correct\": 0, \"valence_loss\": 1.2881425619125366, \"arousal_loss\": 1.2601231336593628, \"emotion_loss\": NaN, \"time_take\": 13.284535646438599, \"pred_valence\": [-0.22200000286102295, -0.21899999678134918, -0.210999995470047, -0.2840000092983246, -0.21799999475479126, -0.2460000067949295, -0.3889999985694885, -0.15600000321865082], \"pred_arousal\": [-0.2409999966621399, -0.29499998688697815, -0.30000001192092896, -0.33500000834465027, -0.27799999713897705, -0.2540000081062317, -0.3240000009536743, -0.164000004529953]}\n",
      "{\"emotion_correct\": 0, \"valence_loss\": 1.531440019607544, \"arousal_loss\": 1.220099925994873, \"emotion_loss\": NaN, \"time_take\": 13.371517896652222, \"pred_valence\": [-0.4259999990463257, -0.16200000047683716, -0.22599999606609344, -0.12200000137090683, -0.23999999463558197, -0.24199999868869781, -0.125, -0.12099999934434891], \"pred_arousal\": [-0.45500001311302185, -0.19200000166893005, -0.3160000145435333, -0.22599999606609344, -0.2590000033378601, -0.28299999237060547, -0.1379999965429306, -0.11500000208616257]}\n",
      "{\"emotion_correct\": 0, \"valence_loss\": 0.743240475654602, \"arousal_loss\": 0.45710766315460205, \"emotion_loss\": NaN, \"time_take\": 13.43735957145691, \"pred_valence\": [-0.05999999865889549, -0.20900000631809235, -0.3449999988079071, -0.26100000739097595, -0.2800000011920929, -0.2160000056028366, -0.5289999842643738, -0.23499999940395355], \"pred_arousal\": [-0.18199999630451202, -0.3490000069141388, -0.2919999957084656, -0.3400000035762787, -0.18700000643730164, -0.3109999895095825, -0.503000020980835, -0.2460000067949295]}\n",
      "{\"emotion_correct\": 1, \"valence_loss\": 0.6415486335754395, \"arousal_loss\": 0.7247844338417053, \"emotion_loss\": NaN, \"time_take\": 13.508301973342896, \"pred_valence\": [-0.30399999022483826, -0.32899999618530273, -0.2029999941587448, -0.21299999952316284, -0.2529999911785126, -0.5519999861717224, -0.21899999678134918, -0.39800000190734863], \"pred_arousal\": [-0.4490000009536743, -0.382999986410141, -0.32199999690055847, -0.29499998688697815, -0.32199999690055847, -0.503000020980835, -0.3619999885559082, -0.43700000643730164]}\n",
      "{\"emotion_correct\": 0, \"valence_loss\": 0.9048014283180237, \"arousal_loss\": 0.8405335545539856, \"emotion_loss\": NaN, \"time_take\": 13.584364414215088, \"pred_valence\": [-0.21400000154972076, -0.25600001215934753, -0.32600000500679016, -0.32199999690055847, -0.382999986410141, -0.2540000081062317, -0.2549999952316284, -0.20600000023841858], \"pred_arousal\": [-0.34200000762939453, -0.3400000035762787, -0.48399999737739563, -0.48500001430511475, -0.46299999952316284, -0.30300000309944153, -0.23899999260902405, -0.3059999942779541]}\n",
      "{\"emotion_correct\": 2, \"valence_loss\": 0.6166677474975586, \"arousal_loss\": 0.6759726405143738, \"emotion_loss\": NaN, \"time_take\": 13.65948748588562, \"pred_valence\": [-0.15000000596046448, -0.26600000262260437, -0.2329999953508377, -0.052000001072883606, -0.2630000114440918, -0.1420000046491623, -0.28600001335144043, -0.1720000058412552], \"pred_arousal\": [-0.23100000619888306, -0.4569999873638153, -0.3019999861717224, -0.25, -0.3720000088214874, -0.17299999296665192, -0.4490000009536743, -0.1420000046491623]}\n"
     ]
    },
    {
     "name": "stdout",
     "output_type": "stream",
     "text": [
      "{\"emotion_correct\": 0, \"valence_loss\": 0.5791620016098022, \"arousal_loss\": 0.6781256198883057, \"emotion_loss\": NaN, \"time_take\": 13.741801977157593, \"pred_valence\": [-0.24400000274181366, -0.21799999475479126, -0.32899999618530273, -0.30399999022483826, -0.25999999046325684, -0.2800000011920929, -0.22100000083446503, -0.24400000274181366], \"pred_arousal\": [-0.31299999356269836, -0.2669999897480011, -0.2759999930858612, -0.3529999852180481, -0.460999995470047, -0.3190000057220459, -0.34599998593330383, -0.2770000100135803]}\n",
      "{\"emotion_correct\": 0, \"valence_loss\": 1.488377332687378, \"arousal_loss\": 1.3528826236724854, \"emotion_loss\": NaN, \"time_take\": 13.818182229995728, \"pred_valence\": [-0.16899999976158142, -0.3160000145435333, -0.19200000166893005, -0.2879999876022339, -0.0989999994635582, -0.3499999940395355, -0.03999999910593033, -0.27000001072883606], \"pred_arousal\": [-0.1550000011920929, -0.33799999952316284, -0.2160000056028366, -0.1940000057220459, -0.2029999941587448, -0.3199999928474426, -0.38100001215934753, -0.26899999380111694]}\n",
      "{\"emotion_correct\": 0, \"valence_loss\": 1.1776094436645508, \"arousal_loss\": 0.7834939956665039, \"emotion_loss\": NaN, \"time_take\": 13.901766777038574, \"pred_valence\": [-0.12300000339746475, -0.3310000002384186, -0.20200000703334808, -0.2409999966621399, -0.3310000002384186, -0.12800000607967377, -0.3889999985694885, -0.23899999260902405], \"pred_arousal\": [-0.28600001335144043, -0.421999990940094, -0.3199999928474426, -0.2540000081062317, -0.2879999876022339, -0.3930000066757202, -0.46399998664855957, -0.29499998688697815]}\n",
      "{\"emotion_correct\": 0, \"valence_loss\": 2.044532299041748, \"arousal_loss\": 1.8288828134536743, \"emotion_loss\": NaN, \"time_take\": 13.996466159820557, \"pred_valence\": [-0.28299999237060547, -0.22599999606609344, -0.23199999332427979, -0.40400001406669617, -0.31200000643730164, -0.27799999713897705, -0.1979999989271164, -0.35199999809265137], \"pred_arousal\": [-0.25600001215934753, -0.20399999618530273, -0.26899999380111694, -0.4099999964237213, -0.33399999141693115, -0.24199999868869781, -0.2240000069141388, -0.4440000057220459]}\n",
      "{\"emotion_correct\": 2, \"valence_loss\": 0.3388630151748657, \"arousal_loss\": 0.15216395258903503, \"emotion_loss\": NaN, \"time_take\": 14.126161336898804, \"pred_valence\": [-0.1899999976158142, -0.25600001215934753, -0.27300000190734863, -0.47999998927116394, -0.25600001215934753, -0.4269999861717224, -0.5759999752044678, -0.20499999821186066], \"pred_arousal\": [-0.15299999713897705, -0.28999999165534973, -0.28600001335144043, -0.6439999938011169, -0.3240000009536743, -0.5569999814033508, -0.5519999861717224, -0.27000001072883606]}\n",
      "{\"emotion_correct\": 0, \"valence_loss\": 1.131184458732605, \"arousal_loss\": 0.8345784544944763, \"emotion_loss\": NaN, \"time_take\": 14.301917314529419, \"pred_valence\": [-0.19200000166893005, -0.15700000524520874, -0.29600000381469727, -0.30399999022483826, -0.22599999606609344, -0.1889999955892563, -0.4830000102519989, -0.27799999713897705], \"pred_arousal\": [-0.3370000123977661, -0.22300000488758087, -0.27900001406669617, -0.32600000500679016, -0.164000004529953, -0.3240000009536743, -0.5, -0.3190000057220459]}\n",
      "{\"emotion_correct\": 0, \"valence_loss\": 1.4321167469024658, \"arousal_loss\": 1.293877363204956, \"emotion_loss\": NaN, \"time_take\": 14.370869398117065, \"pred_valence\": [-0.5709999799728394, -0.44699999690055847, -0.3930000066757202, -0.4869999885559082, -0.45500001311302185, -0.3179999887943268, -0.3790000081062317, -0.3149999976158142], \"pred_arousal\": [-0.6230000257492065, -0.5109999775886536, -0.3109999895095825, -0.3779999911785126, -0.5410000085830688, -0.37700000405311584, -0.4740000069141388, -0.40299999713897705]}\n",
      "{\"emotion_correct\": 0, \"valence_loss\": 0.7180449962615967, \"arousal_loss\": 0.2100255936384201, \"emotion_loss\": NaN, \"time_take\": 14.440388202667236, \"pred_valence\": [-0.25099998712539673, -0.2770000100135803, -0.34200000762939453, -0.15399999916553497, -0.20000000298023224, -0.7620000243186951, -0.35199999809265137, -0.24199999868869781], \"pred_arousal\": [-0.33000001311302185, -0.37299999594688416, -0.3619999885559082, -0.39100000262260437, -0.23399999737739563, -0.6039999723434448, -0.33799999952316284, -0.45899999141693115]}\n",
      "{\"emotion_correct\": 0, \"valence_loss\": 0.9865158796310425, \"arousal_loss\": 0.8470346927642822, \"emotion_loss\": NaN, \"time_take\": 14.519601345062256, \"pred_valence\": [-0.3569999933242798, -0.3449999988079071, -0.36399999260902405, -0.41600000858306885, -0.36800000071525574, -0.41200000047683716, -0.35199999809265137, -0.3310000002384186], \"pred_arousal\": [-0.3409999907016754, -0.4690000116825104, -0.3240000009536743, -0.45500001311302185, -0.3610000014305115, -0.4620000123977661, -0.28999999165534973, -0.3050000071525574]}\n",
      "{\"emotion_correct\": 0, \"valence_loss\": 0.9296795129776001, \"arousal_loss\": 0.6172950267791748, \"emotion_loss\": NaN, \"time_take\": 14.67848801612854, \"pred_valence\": [-0.27300000190734863, -0.32499998807907104, -0.6389999985694885, -0.4169999957084656, -0.4269999861717224, -0.36500000953674316, -0.33500000834465027, -0.3330000042915344], \"pred_arousal\": [-0.4620000123977661, -0.4129999876022339, -0.46000000834465027, -0.3490000069141388, -0.45500001311302185, -0.49000000953674316, -0.5320000052452087, -0.47600001096725464]}\n",
      "{\"emotion_correct\": 1, \"valence_loss\": 0.8768137693405151, \"arousal_loss\": 0.758709192276001, \"emotion_loss\": NaN, \"time_take\": 14.747586011886597, \"pred_valence\": [-0.4320000112056732, -0.4410000145435333, -0.39399999380111694, -0.3540000021457672, -0.35499998927116394, -0.4959999918937683, -0.4740000069141388, -0.39800000190734863], \"pred_arousal\": [-0.5410000085830688, -0.753000020980835, -0.3779999911785126, -0.45500001311302185, -0.5049999952316284, -0.5910000205039978, -0.3499999940395355, -0.3490000069141388]}\n",
      "{\"emotion_correct\": 0, \"valence_loss\": 1.6171481609344482, \"arousal_loss\": 1.4960963726043701, \"emotion_loss\": NaN, \"time_take\": 14.823122501373291, \"pred_valence\": [-0.30799999833106995, -0.3540000021457672, -0.382999986410141, -0.35499998927116394, -0.31700000166893005, -0.4099999964237213, -0.2709999978542328, -0.3569999933242798], \"pred_arousal\": [-0.43700000643730164, -0.39800000190734863, -0.32100000977516174, -0.4490000009536743, -0.5360000133514404, -0.4009999930858612, -0.3009999990463257, -0.621999979019165]}\n",
      "{\"emotion_correct\": 0, \"valence_loss\": 0.9167705774307251, \"arousal_loss\": 0.8794964551925659, \"emotion_loss\": NaN, \"time_take\": 14.90393614768982, \"pred_valence\": [-0.37599998712539673, -0.4269999861717224, -0.46700000762939453, -0.36399999260902405, -0.5609999895095825, -0.3790000081062317, -0.3269999921321869, -0.3959999978542328], \"pred_arousal\": [-0.4429999887943268, -0.6200000047683716, -0.4950000047683716, -0.3240000009536743, -0.5389999747276306, -0.3370000123977661, -0.3449999988079071, -0.6480000019073486]}\n",
      "{\"emotion_correct\": 0, \"valence_loss\": 1.6306393146514893, \"arousal_loss\": 1.382671594619751, \"emotion_loss\": NaN, \"time_take\": 14.978053569793701, \"pred_valence\": [-0.36800000071525574, -0.3330000042915344, -0.375, -0.31299999356269836, -0.34599998593330383, -0.30000001192092896, -0.47099998593330383, -0.24899999797344208], \"pred_arousal\": [-0.3869999945163727, -0.5580000281333923, -0.5360000133514404, -0.41200000047683716, -0.3050000071525574, -0.3199999928474426, -0.5849999785423279, -0.2630000114440918]}\n",
      "{\"emotion_correct\": 0, \"valence_loss\": 0.7623643279075623, \"arousal_loss\": 0.7131836414337158, \"emotion_loss\": NaN, \"time_take\": 15.106483936309814, \"pred_valence\": [-0.4749999940395355, -0.367000013589859, -0.42899999022483826, -0.3840000033378601, -0.26100000739097595, -0.42899999022483826, -0.6320000290870667, -0.3100000023841858], \"pred_arousal\": [-0.6909999847412109, -0.5249999761581421, -0.17499999701976776, -0.5230000019073486, -0.625, -0.5559999942779541, -0.7409999966621399, -0.42500001192092896]}\n",
      "{\"emotion_correct\": 0, \"valence_loss\": 0.6649425029754639, \"arousal_loss\": 0.7102688550949097, \"emotion_loss\": NaN, \"time_take\": 15.177945852279663, \"pred_valence\": [-0.6159999966621399, -0.2879999876022339, -0.3009999990463257, -0.3440000116825104, -0.3880000114440918, -0.33000001311302185, -0.2720000147819519, -0.20999999344348907], \"pred_arousal\": [-0.5329999923706055, -0.43299999833106995, -0.36899998784065247, -0.3050000071525574, -0.4749999940395355, -0.40700000524520874, -0.43299999833106995, -0.28999999165534973]}\n"
     ]
    },
    {
     "name": "stdout",
     "output_type": "stream",
     "text": [
      "{\"emotion_correct\": 0, \"valence_loss\": 1.1876866817474365, \"arousal_loss\": 0.5194448232650757, \"emotion_loss\": NaN, \"time_take\": 15.274280548095703, \"pred_valence\": [-0.33000001311302185, -0.46000000834465027, -0.3499999940395355, -0.3149999976158142, -0.3499999940395355, -0.39500001072883606, -0.328000009059906, -0.30300000309944153], \"pred_arousal\": [-0.38199999928474426, -0.6740000247955322, -0.48899999260902405, -0.3779999911785126, -0.382999986410141, -0.640999972820282, -0.46299999952316284, -0.31700000166893005]}\n",
      "{\"emotion_correct\": 0, \"valence_loss\": 1.2429431676864624, \"arousal_loss\": 1.2614719867706299, \"emotion_loss\": NaN, \"time_take\": 15.381113767623901, \"pred_valence\": [-0.5090000033378601, -0.335999995470047, -0.30300000309944153, -0.43799999356269836, -0.49300000071525574, -0.2800000011920929, -0.3050000071525574, -0.35499998927116394], \"pred_arousal\": [-0.6669999957084656, -0.44999998807907104, -0.3700000047683716, -0.5419999957084656, -0.5950000286102295, -0.414000004529953, -0.4970000088214874, -0.49300000071525574]}\n",
      "{\"emotion_correct\": 0, \"valence_loss\": 0.5918903350830078, \"arousal_loss\": 0.8345361948013306, \"emotion_loss\": NaN, \"time_take\": 15.455563068389893, \"pred_valence\": [-0.4449999928474426, -0.33899998664855957, -0.48399999737739563, -0.3330000042915344, -0.28999999165534973, -0.2619999945163727, -0.30300000309944153, -0.30799999833106995], \"pred_arousal\": [-0.7229999899864197, -0.6380000114440918, -0.7329999804496765, -0.40799999237060547, -0.28200000524520874, -0.3630000054836273, -0.41200000047683716, -0.4189999997615814]}\n",
      "{\"emotion_correct\": 1, \"valence_loss\": 1.1449671983718872, \"arousal_loss\": 0.7959030866622925, \"emotion_loss\": NaN, \"time_take\": 15.529829025268555, \"pred_valence\": [-0.3580000102519989, -0.2160000056028366, -0.3700000047683716, -0.42899999022483826, -0.31200000643730164, -0.210999995470047, -0.38499999046325684, -0.36899998784065247], \"pred_arousal\": [-0.38499999046325684, -0.3370000123977661, -0.5529999732971191, -0.5199999809265137, -0.38100001215934753, -0.2160000056028366, -0.460999995470047, -0.37599998712539673]}\n",
      "{\"emotion_correct\": 1, \"valence_loss\": 0.8201439380645752, \"arousal_loss\": 0.6004210710525513, \"emotion_loss\": NaN, \"time_take\": 15.662803888320923, \"pred_valence\": [-0.4690000116825104, -0.44200000166893005, -0.4560000002384186, -0.3659999966621399, -0.48899999260902405, -0.30399999022483826, -0.382999986410141, -0.24699999392032623], \"pred_arousal\": [-0.46799999475479126, -0.47600001096725464, -0.37700000405311584, -0.5329999923706055, -0.6449999809265137, -0.4440000057220459, -0.27300000190734863, -0.3449999988079071]}\n",
      "{\"emotion_correct\": 0, \"valence_loss\": 1.2248566150665283, \"arousal_loss\": 1.0985236167907715, \"emotion_loss\": NaN, \"time_take\": 15.759182453155518, \"pred_valence\": [-0.2720000147819519, -0.3540000021457672, -0.3310000002384186, -0.4350000023841858, -0.40799999237060547, -0.43799999356269836, -0.4059999883174896, -0.4180000126361847], \"pred_arousal\": [-0.4350000023841858, -0.36500000953674316, -0.4020000100135803, -0.5120000243186951, -0.34700000286102295, -0.4300000071525574, -0.18799999356269836, -0.3499999940395355]}\n",
      "{\"emotion_correct\": 1, \"valence_loss\": 0.7346261143684387, \"arousal_loss\": 0.6317663788795471, \"emotion_loss\": NaN, \"time_take\": 15.861847639083862, \"pred_valence\": [-0.49300000071525574, -0.2809999883174896, -0.2980000078678131, -0.4580000042915344, -0.19300000369548798, -0.3790000081062317, -0.453000009059906, -0.36399999260902405], \"pred_arousal\": [-0.43799999356269836, -0.3869999945163727, -0.2980000078678131, -0.4429999887943268, -0.18000000715255737, -0.37599998712539673, -0.44600000977516174, -0.2759999930858612]}\n",
      "{\"emotion_correct\": 0, \"valence_loss\": 0.5473434925079346, \"arousal_loss\": 0.5896908640861511, \"emotion_loss\": NaN, \"time_take\": 15.946633577346802, \"pred_valence\": [-0.3580000102519989, -0.42800000309944153, -0.42899999022483826, -0.38999998569488525, -0.5130000114440918, -0.40299999713897705, -0.40299999713897705, -0.33500000834465027], \"pred_arousal\": [-0.3619999885559082, -0.5720000267028809, -0.5910000205039978, -0.3720000088214874, -0.5460000038146973, -0.3569999933242798, -0.5, -0.4410000145435333]}\n",
      "{\"emotion_correct\": 0, \"valence_loss\": 1.5643553733825684, \"arousal_loss\": 1.2870750427246094, \"emotion_loss\": NaN, \"time_take\": 16.014835596084595, \"pred_valence\": [-0.4440000057220459, -0.2549999952316284, -0.36800000071525574, -0.3630000054836273, -0.3479999899864197, -0.46799999475479126, -0.3779999911785126, -0.3140000104904175], \"pred_arousal\": [-0.2630000114440918, -0.21199999749660492, -0.3610000014305115, -0.32499998807907104, -0.3869999945163727, -0.37400001287460327, -0.44200000166893005, -0.32199999690055847]}\n",
      "{\"emotion_correct\": 0, \"valence_loss\": 0.8828768134117126, \"arousal_loss\": 0.8504043221473694, \"emotion_loss\": NaN, \"time_take\": 16.081809520721436, \"pred_valence\": [-0.34200000762939453, -0.35199999809265137, -0.25200000405311584, -0.49000000953674316, -0.5339999794960022, -0.39399999380111694, -0.46799999475479126, -0.4269999861717224], \"pred_arousal\": [-0.2939999997615814, -0.4580000042915344, -0.30300000309944153, -0.4909999966621399, -0.41999998688697815, -0.32600000500679016, -0.4620000123977661, -0.593999981880188]}\n",
      "{\"emotion_correct\": 0, \"valence_loss\": 1.0369659662246704, \"arousal_loss\": 0.9431669116020203, \"emotion_loss\": NaN, \"time_take\": 16.173747539520264, \"pred_valence\": [-0.3269999921321869, -0.5019999742507935, -0.4059999883174896, -0.4359999895095825, -0.44200000166893005, -0.32199999690055847, -0.4860000014305115, -0.5709999799728394], \"pred_arousal\": [-0.20000000298023224, -0.421999990940094, -0.421999990940094, -0.38999998569488525, -0.35600000619888306, -0.2639999985694885, -0.46000000834465027, -0.4189999997615814]}\n",
      "{\"emotion_correct\": 2, \"valence_loss\": 0.6385738253593445, \"arousal_loss\": 0.4788985252380371, \"emotion_loss\": NaN, \"time_take\": 16.25653076171875, \"pred_valence\": [-0.40400001406669617, -0.3019999861717224, -0.3240000009536743, -0.34700000286102295, -0.4749999940395355, -0.45500001311302185, -0.4189999997615814, -0.26899999380111694], \"pred_arousal\": [-0.5490000247955322, -0.3140000104904175, -0.3720000088214874, -0.460999995470047, -0.5429999828338623, -0.3659999966621399, -0.40299999713897705, -0.25699999928474426]}\n",
      "{\"emotion_correct\": 2, \"valence_loss\": 0.907461404800415, \"arousal_loss\": 0.6859822273254395, \"emotion_loss\": NaN, \"time_take\": 16.329796314239502, \"pred_valence\": [-0.43700000643730164, -0.6209999918937683, -0.33799999952316284, -0.25, -0.23899999260902405, -0.3709999918937683, -0.2529999911785126, -0.34599998593330383], \"pred_arousal\": [-0.28600001335144043, -0.3580000102519989, -0.2720000147819519, -0.20499999821186066, -0.19499999284744263, -0.22599999606609344, -0.32600000500679016, -0.23800000548362732]}\n",
      "{\"emotion_correct\": 0, \"valence_loss\": 0.9130945205688477, \"arousal_loss\": 1.0684937238693237, \"emotion_loss\": NaN, \"time_take\": 16.44961166381836, \"pred_valence\": [-0.3659999966621399, -0.25999999046325684, -0.3869999945163727, -0.3199999928474426, -0.28600001335144043, -0.3070000112056732, -0.22499999403953552, -0.453000009059906], \"pred_arousal\": [-0.26600000262260437, -0.22200000286102295, -0.39899998903274536, -0.2800000011920929, -0.3050000071525574, -0.31299999356269836, -0.23499999940395355, -0.3720000088214874]}\n"
     ]
    }
   ],
   "source": [
    "from telegram_notifier import send_message\n",
    "import time\n",
    "start_time = time.time()\n",
    "\n",
    "\n",
    "for epoch in range(epochs):\n",
    "    total_loss = 0\n",
    "    total_step = 0\n",
    "    total_emotion_correct = 0\n",
    "    total_valence_loss = 0\n",
    "    total_arousal_loss = 0\n",
    "    total_emotion_loss = 0\n",
    "    total_process = 0\n",
    "    for step, row in enumerate(DataFrameBatchIterator(train_df, batch_size=batch_size)):\n",
    "\n",
    "        imgs = row.subDirectory_filePath.apply(lambda x: cv2.resize(\n",
    "            cv2.cvtColor(cv2.imread(x), cv2.COLOR_BGR2RGB), (224, 224)))\n",
    "        img_array = np.array(list(imgs))\n",
    "\n",
    "        y_valence = np.array(row.valence)\n",
    "        y_arousal = np.array(row.arousal)\n",
    "        y_emotion = np.array(row.expression)\n",
    "\n",
    "        with tf.GradientTape() as tape:\n",
    "            logits = model(img_array, training=True)\n",
    "\n",
    "            pred_valence = logits[0]\n",
    "            pred_arousal = logits[1]\n",
    "            pred_emotion = logits[2]\n",
    "\n",
    "            valence_loss = MSE_loss(y_valence, pred_valence)\n",
    "            arousal_loss = MSE_loss(y_arousal, pred_arousal)\n",
    "            emotion_loss = SCC_loss(y_emotion, pred_emotion)\n",
    "            \n",
    "            loss = valence_loss + arousal_loss # + emotion_loss\n",
    "\n",
    "            grads = tape.gradient(loss, model.trainable_weights)\n",
    "\n",
    "            optimizer.apply_gradients(zip(grads, model.trainable_weights))\n",
    "        total_loss += float((loss))\n",
    "        total_step += 1\n",
    "        \n",
    "        total_process += len(row)\n",
    "\n",
    "        valence_loss = float((valence_loss))\n",
    "        arousal_loss = float((arousal_loss))\n",
    "        emotion_loss = float((emotion_loss))\n",
    "        \n",
    "        total_valence_loss += valence_loss\n",
    "        total_arousal_loss += arousal_loss\n",
    "        total_emotion_loss += emotion_loss\n",
    "        \n",
    "        emotion_correct = int(sum(pred_emotion.numpy().argmax(axis = 1) == y_emotion))\n",
    "        total_emotion_correct += emotion_correct\n",
    "        \n",
    "        log = {\n",
    "            'emotion_correct': emotion_correct,\n",
    "            'valence_loss': valence_loss,\n",
    "            'arousal_loss': arousal_loss,\n",
    "            'emotion_loss': emotion_loss,\n",
    "            'time_take': time.time() - start_time,\n",
    "            'pred_valence': list(map(lambda x: float(x), np.around(np.array(pred_valence).reshape(-1), 3))),\n",
    "            'pred_arousal': list(map(lambda x: float(x), np.around(np.array(pred_arousal).reshape(-1), 3))),\n",
    "        }\n",
    "        log = json.dumps(log)\n",
    "        lprint(log)\n",
    "    save_model_path = f\"models/{now_time_string}_{description}_epoch{epoch}_batch_{batch_size}\"\n",
    "    model.save(save_model_path)\n",
    "    lprint(f\"Save {save_model_path}\")\n",
    "    send_message(f\"Save {save_model_path}\\nepoch {epoch} is finish\")\n",
    "    log = {\n",
    "        'model_path': save_model_path,\n",
    "        'total_emotion_correct': total_emotion_correct,\n",
    "        'total_loss': total_loss,\n",
    "        'total_valence_loss': total_valence_loss,\n",
    "        'total_arousal_loss': total_arousal_loss,\n",
    "        'total_emotion_loss': total_emotion_loss,\n",
    "        'total_process': total_process,\n",
    "        'time_take': time.time() - start_time,\n",
    "    }\n",
    "    log = json.dumps(log)\n",
    "    lprint(log)"
   ]
  },
  {
   "cell_type": "code",
   "execution_count": null,
   "metadata": {
    "ExecuteTime": {
     "start_time": "2022-01-22T15:41:39.850Z"
    }
   },
   "outputs": [],
   "source": [
    "json.dumps(log)"
   ]
  },
  {
   "cell_type": "code",
   "execution_count": null,
   "metadata": {},
   "outputs": [],
   "source": []
  }
 ],
 "metadata": {
  "kernelspec": {
   "display_name": "tf27",
   "language": "python",
   "name": "tf27"
  },
  "language_info": {
   "codemirror_mode": {
    "name": "ipython",
    "version": 3
   },
   "file_extension": ".py",
   "mimetype": "text/x-python",
   "name": "python",
   "nbconvert_exporter": "python",
   "pygments_lexer": "ipython3",
   "version": "3.9.7"
  },
  "varInspector": {
   "cols": {
    "lenName": 16,
    "lenType": 16,
    "lenVar": 40
   },
   "kernels_config": {
    "python": {
     "delete_cmd_postfix": "",
     "delete_cmd_prefix": "del ",
     "library": "var_list.py",
     "varRefreshCmd": "print(var_dic_list())"
    },
    "r": {
     "delete_cmd_postfix": ") ",
     "delete_cmd_prefix": "rm(",
     "library": "var_list.r",
     "varRefreshCmd": "cat(var_dic_list()) "
    }
   },
   "types_to_exclude": [
    "module",
    "function",
    "builtin_function_or_method",
    "instance",
    "_Feature"
   ],
   "window_display": false
  }
 },
 "nbformat": 4,
 "nbformat_minor": 4
}
