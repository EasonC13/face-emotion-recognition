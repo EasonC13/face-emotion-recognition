{
 "cells": [
  {
   "cell_type": "markdown",
   "metadata": {},
   "source": [
    "# 01/20"
   ]
  },
  {
   "cell_type": "markdown",
   "metadata": {
    "ExecuteTime": {
     "end_time": "2022-01-18T12:50:25.876212Z",
     "start_time": "2022-01-18T12:50:25.870149Z"
    }
   },
   "source": [
    "%matplotlib inline"
   ]
  },
  {
   "cell_type": "code",
   "execution_count": 1,
   "metadata": {
    "ExecuteTime": {
     "end_time": "2022-01-22T15:58:47.083687Z",
     "start_time": "2022-01-22T15:58:47.054650Z"
    }
   },
   "outputs": [],
   "source": [
    "description = 'train_mobilenet_from_pretrain_v3_norm_val_aro'"
   ]
  },
  {
   "cell_type": "code",
   "execution_count": 2,
   "metadata": {
    "ExecuteTime": {
     "end_time": "2022-01-22T15:58:49.276470Z",
     "start_time": "2022-01-22T15:58:47.086578Z"
    }
   },
   "outputs": [],
   "source": [
    "\n",
    "import os\n",
    "import numpy as np\n",
    "from sklearn.preprocessing import LabelEncoder\n",
    "import matplotlib.pyplot as plt\n",
    "import cv2\n",
    "from PIL import Image\n",
    "from random import shuffle\n",
    "import math\n",
    "\n",
    "import pandas as pd\n",
    "\n",
    "import pickle\n",
    "\n",
    "from sklearn.svm import SVC,LinearSVC\n",
    "from sklearn.ensemble import RandomForestClassifier, BaggingClassifier,ExtraTreesClassifier\n",
    "from sklearn.neural_network import MLPClassifier\n",
    "from sklearn import preprocessing\n",
    "\n",
    "#from scipy.misc import imread, imresize\n",
    "\n"
   ]
  },
  {
   "cell_type": "code",
   "execution_count": 3,
   "metadata": {
    "ExecuteTime": {
     "end_time": "2022-01-22T15:58:49.288429Z",
     "start_time": "2022-01-22T15:58:49.278214Z"
    }
   },
   "outputs": [],
   "source": [
    "import tqdm\n",
    "import json"
   ]
  },
  {
   "cell_type": "code",
   "execution_count": 4,
   "metadata": {
    "ExecuteTime": {
     "end_time": "2022-01-22T15:58:55.013935Z",
     "start_time": "2022-01-22T15:58:49.290997Z"
    }
   },
   "outputs": [],
   "source": [
    "train_df = pd.read_csv('../../data/Manually_Annotated_file_lists/training_face_mesh_crop.csv')\n",
    "train_df.subDirectory_filePath = '../../data/Manually_Annotated_Images_FaceMesh_Cropped/' + train_df.subDirectory_filePath\n",
    "\n",
    "#train_df_2 = pd.read_csv('../../data/Automatically_annotated_file_list/automatically_annotated_face_mesh_crop.csv')\n",
    "#train_df_2.subDirectory_filePath = '../../data/Automatically_Annotated_Images_FaceMesh_Cropped/' + train_df_2.subDirectory_filePath\n",
    "#train_df = train_df.append(train_df_2)\n",
    "#del train_df_2\n",
    "\n",
    "train_df = train_df[train_df['have_facemesh']]"
   ]
  },
  {
   "cell_type": "code",
   "execution_count": 5,
   "metadata": {
    "ExecuteTime": {
     "end_time": "2022-01-22T15:58:55.023713Z",
     "start_time": "2022-01-22T15:58:55.019518Z"
    }
   },
   "outputs": [],
   "source": [
    "def scale(x):\n",
    "    if x > -1 and x < 1:\n",
    "        return x\n",
    "    elif x <= -1:\n",
    "        return -1\n",
    "    else:\n",
    "        return 1"
   ]
  },
  {
   "cell_type": "code",
   "execution_count": 6,
   "metadata": {
    "ExecuteTime": {
     "end_time": "2022-01-22T15:58:55.661971Z",
     "start_time": "2022-01-22T15:58:55.029004Z"
    }
   },
   "outputs": [],
   "source": [
    "train_df.valence = train_df.valence.apply(scale)\n",
    "train_df.arousal = train_df.arousal.apply(scale)"
   ]
  },
  {
   "cell_type": "code",
   "execution_count": null,
   "metadata": {},
   "outputs": [],
   "source": []
  },
  {
   "cell_type": "code",
   "execution_count": 7,
   "metadata": {
    "ExecuteTime": {
     "end_time": "2022-01-22T15:58:55.670671Z",
     "start_time": "2022-01-22T15:58:55.665316Z"
    }
   },
   "outputs": [
    {
     "name": "stdout",
     "output_type": "stream",
     "text": [
      "log_file_name='01_22_23:58:55.log'\n"
     ]
    }
   ],
   "source": [
    "from eason_utils import DataFrameBatchIterator\n",
    "from eason_utils import lprint, now_time_string, log_file_name, change_log_file_name\n",
    "\n",
    "change_log_file_name(f'''{log_file_name.replace('.log', '')}_{description}.log''')"
   ]
  },
  {
   "cell_type": "code",
   "execution_count": null,
   "metadata": {
    "ExecuteTime": {
     "end_time": "2022-01-19T13:57:18.682279Z",
     "start_time": "2022-01-19T13:57:18.670590Z"
    }
   },
   "outputs": [],
   "source": []
  },
  {
   "cell_type": "code",
   "execution_count": 8,
   "metadata": {
    "ExecuteTime": {
     "end_time": "2022-01-22T15:58:58.993075Z",
     "start_time": "2022-01-22T15:58:55.672242Z"
    }
   },
   "outputs": [],
   "source": [
    "os.environ['TF_CPP_MIN_LOG_LEVEL'] = '2'\n",
    "import tensorflow as tf\n",
    "config = tf.compat.v1.ConfigProto(gpu_options = tf.compat.v1.GPUOptions(allow_growth = True))\n",
    "sess = tf.compat.v1.Session(config = config)"
   ]
  },
  {
   "cell_type": "code",
   "execution_count": 9,
   "metadata": {
    "ExecuteTime": {
     "end_time": "2022-01-22T15:59:00.098280Z",
     "start_time": "2022-01-22T15:58:58.994629Z"
    }
   },
   "outputs": [
    {
     "name": "stdout",
     "output_type": "stream",
     "text": [
      "WARNING:tensorflow:No training configuration found in the save file, so the model was *not* compiled. Compile it manually.\n"
     ]
    }
   ],
   "source": [
    "mobilenet_pretrained = tf.keras.models.load_model('../models/affectnet_emotions/mobilenet_7.h5')"
   ]
  },
  {
   "cell_type": "code",
   "execution_count": 10,
   "metadata": {
    "ExecuteTime": {
     "end_time": "2022-01-22T15:59:00.123240Z",
     "start_time": "2022-01-22T15:59:00.105674Z"
    }
   },
   "outputs": [],
   "source": [
    "mobilenet_output = mobilenet_pretrained.get_layer(\"global_pooling\").output"
   ]
  },
  {
   "cell_type": "code",
   "execution_count": 11,
   "metadata": {
    "ExecuteTime": {
     "end_time": "2022-01-22T15:59:00.130025Z",
     "start_time": "2022-01-22T15:59:00.125252Z"
    }
   },
   "outputs": [],
   "source": [
    "hidden_layers = [256]"
   ]
  },
  {
   "cell_type": "code",
   "execution_count": 12,
   "metadata": {
    "ExecuteTime": {
     "end_time": "2022-01-22T15:59:00.228575Z",
     "start_time": "2022-01-22T15:59:00.139259Z"
    }
   },
   "outputs": [],
   "source": [
    "valaence_feat = mobilenet_output\n",
    "for size in hidden_layers:\n",
    "    valence_feat = tf.keras.layers.Dense(size, activation = 'relu', name = f'feat_valence')(valaence_feat)\n",
    "outputs_valence = (tf.keras.layers.Dense(1, activation = 'sigmoid', name = 'outputs_valence')(valence_feat) * 2) - 1\n",
    "\n",
    "arousal_feat = mobilenet_output\n",
    "for size in hidden_layers:\n",
    "    arousal_feat = tf.keras.layers.Dense(size, activation = 'relu', name = f'feat_arousal')(arousal_feat)\n",
    "outputs_arousal = (tf.keras.layers.Dense(1, activation = 'sigmoid', name = 'outputs_arousal')(arousal_feat) * 2) - 1\n",
    "\n",
    "emotion_feat = mobilenet_output\n",
    "for size in hidden_layers:\n",
    "    emotion_feat = tf.keras.layers.Dense(size, activation = 'relu', name = f'feat_emotion')(emotion_feat)\n",
    "emotions_count = len(np.unique(train_df.expression))\n",
    "outputs_emotion = tf.keras.layers.Dense(emotions_count, activation = 'softmax', name = 'outputs_emotion')(emotion_feat)"
   ]
  },
  {
   "cell_type": "code",
   "execution_count": 13,
   "metadata": {
    "ExecuteTime": {
     "end_time": "2022-01-22T15:59:00.265055Z",
     "start_time": "2022-01-22T15:59:00.230265Z"
    }
   },
   "outputs": [],
   "source": [
    "model = tf.keras.Model(inputs=mobilenet_pretrained.input,\n",
    "                       outputs=(outputs_valence, outputs_arousal, outputs_emotion) , name=\"mobilenet_train\")"
   ]
  },
  {
   "cell_type": "code",
   "execution_count": 14,
   "metadata": {
    "ExecuteTime": {
     "end_time": "2022-01-22T15:59:00.356396Z",
     "start_time": "2022-01-22T15:59:00.289517Z"
    }
   },
   "outputs": [
    {
     "name": "stdout",
     "output_type": "stream",
     "text": [
      "Model: \"mobilenet_train\"\n",
      "__________________________________________________________________________________________________\n",
      " Layer (type)                   Output Shape         Param #     Connected to                     \n",
      "==================================================================================================\n",
      " input_1 (InputLayer)           [(None, 224, 224, 3  0           []                               \n",
      "                                )]                                                                \n",
      "                                                                                                  \n",
      " conv1_pad (ZeroPadding2D)      (None, 225, 225, 3)  0           ['input_1[0][0]']                \n",
      "                                                                                                  \n",
      " conv1 (Conv2D)                 (None, 112, 112, 32  864         ['conv1_pad[0][0]']              \n",
      "                                )                                                                 \n",
      "                                                                                                  \n",
      " conv1_bn (BatchNormalization)  (None, 112, 112, 32  128         ['conv1[0][0]']                  \n",
      "                                )                                                                 \n",
      "                                                                                                  \n",
      " conv1_relu (ReLU)              (None, 112, 112, 32  0           ['conv1_bn[0][0]']               \n",
      "                                )                                                                 \n",
      "                                                                                                  \n",
      " conv_dw_1 (DepthwiseConv2D)    (None, 112, 112, 32  288         ['conv1_relu[0][0]']             \n",
      "                                )                                                                 \n",
      "                                                                                                  \n",
      " conv_dw_1_bn (BatchNormalizati  (None, 112, 112, 32  128        ['conv_dw_1[0][0]']              \n",
      " on)                            )                                                                 \n",
      "                                                                                                  \n",
      " conv_dw_1_relu (ReLU)          (None, 112, 112, 32  0           ['conv_dw_1_bn[0][0]']           \n",
      "                                )                                                                 \n",
      "                                                                                                  \n",
      " conv_pw_1 (Conv2D)             (None, 112, 112, 64  2048        ['conv_dw_1_relu[0][0]']         \n",
      "                                )                                                                 \n",
      "                                                                                                  \n",
      " conv_pw_1_bn (BatchNormalizati  (None, 112, 112, 64  256        ['conv_pw_1[0][0]']              \n",
      " on)                            )                                                                 \n",
      "                                                                                                  \n",
      " conv_pw_1_relu (ReLU)          (None, 112, 112, 64  0           ['conv_pw_1_bn[0][0]']           \n",
      "                                )                                                                 \n",
      "                                                                                                  \n",
      " conv_pad_2 (ZeroPadding2D)     (None, 113, 113, 64  0           ['conv_pw_1_relu[0][0]']         \n",
      "                                )                                                                 \n",
      "                                                                                                  \n",
      " conv_dw_2 (DepthwiseConv2D)    (None, 56, 56, 64)   576         ['conv_pad_2[0][0]']             \n",
      "                                                                                                  \n",
      " conv_dw_2_bn (BatchNormalizati  (None, 56, 56, 64)  256         ['conv_dw_2[0][0]']              \n",
      " on)                                                                                              \n",
      "                                                                                                  \n",
      " conv_dw_2_relu (ReLU)          (None, 56, 56, 64)   0           ['conv_dw_2_bn[0][0]']           \n",
      "                                                                                                  \n",
      " conv_pw_2 (Conv2D)             (None, 56, 56, 128)  8192        ['conv_dw_2_relu[0][0]']         \n",
      "                                                                                                  \n",
      " conv_pw_2_bn (BatchNormalizati  (None, 56, 56, 128)  512        ['conv_pw_2[0][0]']              \n",
      " on)                                                                                              \n",
      "                                                                                                  \n",
      " conv_pw_2_relu (ReLU)          (None, 56, 56, 128)  0           ['conv_pw_2_bn[0][0]']           \n",
      "                                                                                                  \n",
      " conv_dw_3 (DepthwiseConv2D)    (None, 56, 56, 128)  1152        ['conv_pw_2_relu[0][0]']         \n",
      "                                                                                                  \n",
      " conv_dw_3_bn (BatchNormalizati  (None, 56, 56, 128)  512        ['conv_dw_3[0][0]']              \n",
      " on)                                                                                              \n",
      "                                                                                                  \n",
      " conv_dw_3_relu (ReLU)          (None, 56, 56, 128)  0           ['conv_dw_3_bn[0][0]']           \n",
      "                                                                                                  \n",
      " conv_pw_3 (Conv2D)             (None, 56, 56, 128)  16384       ['conv_dw_3_relu[0][0]']         \n",
      "                                                                                                  \n",
      " conv_pw_3_bn (BatchNormalizati  (None, 56, 56, 128)  512        ['conv_pw_3[0][0]']              \n",
      " on)                                                                                              \n",
      "                                                                                                  \n",
      " conv_pw_3_relu (ReLU)          (None, 56, 56, 128)  0           ['conv_pw_3_bn[0][0]']           \n",
      "                                                                                                  \n",
      " conv_pad_4 (ZeroPadding2D)     (None, 57, 57, 128)  0           ['conv_pw_3_relu[0][0]']         \n",
      "                                                                                                  \n",
      " conv_dw_4 (DepthwiseConv2D)    (None, 28, 28, 128)  1152        ['conv_pad_4[0][0]']             \n",
      "                                                                                                  \n",
      " conv_dw_4_bn (BatchNormalizati  (None, 28, 28, 128)  512        ['conv_dw_4[0][0]']              \n",
      " on)                                                                                              \n",
      "                                                                                                  \n",
      " conv_dw_4_relu (ReLU)          (None, 28, 28, 128)  0           ['conv_dw_4_bn[0][0]']           \n",
      "                                                                                                  \n",
      " conv_pw_4 (Conv2D)             (None, 28, 28, 256)  32768       ['conv_dw_4_relu[0][0]']         \n",
      "                                                                                                  \n",
      " conv_pw_4_bn (BatchNormalizati  (None, 28, 28, 256)  1024       ['conv_pw_4[0][0]']              \n",
      " on)                                                                                              \n",
      "                                                                                                  \n",
      " conv_pw_4_relu (ReLU)          (None, 28, 28, 256)  0           ['conv_pw_4_bn[0][0]']           \n",
      "                                                                                                  \n",
      " conv_dw_5 (DepthwiseConv2D)    (None, 28, 28, 256)  2304        ['conv_pw_4_relu[0][0]']         \n",
      "                                                                                                  \n",
      " conv_dw_5_bn (BatchNormalizati  (None, 28, 28, 256)  1024       ['conv_dw_5[0][0]']              \n",
      " on)                                                                                              \n",
      "                                                                                                  \n",
      " conv_dw_5_relu (ReLU)          (None, 28, 28, 256)  0           ['conv_dw_5_bn[0][0]']           \n",
      "                                                                                                  \n",
      " conv_pw_5 (Conv2D)             (None, 28, 28, 256)  65536       ['conv_dw_5_relu[0][0]']         \n",
      "                                                                                                  \n",
      " conv_pw_5_bn (BatchNormalizati  (None, 28, 28, 256)  1024       ['conv_pw_5[0][0]']              \n",
      " on)                                                                                              \n",
      "                                                                                                  \n",
      " conv_pw_5_relu (ReLU)          (None, 28, 28, 256)  0           ['conv_pw_5_bn[0][0]']           \n",
      "                                                                                                  \n",
      " conv_pad_6 (ZeroPadding2D)     (None, 29, 29, 256)  0           ['conv_pw_5_relu[0][0]']         \n",
      "                                                                                                  \n",
      " conv_dw_6 (DepthwiseConv2D)    (None, 14, 14, 256)  2304        ['conv_pad_6[0][0]']             \n",
      "                                                                                                  \n",
      " conv_dw_6_bn (BatchNormalizati  (None, 14, 14, 256)  1024       ['conv_dw_6[0][0]']              \n",
      " on)                                                                                              \n",
      "                                                                                                  \n",
      " conv_dw_6_relu (ReLU)          (None, 14, 14, 256)  0           ['conv_dw_6_bn[0][0]']           \n",
      "                                                                                                  \n",
      " conv_pw_6 (Conv2D)             (None, 14, 14, 512)  131072      ['conv_dw_6_relu[0][0]']         \n",
      "                                                                                                  \n",
      " conv_pw_6_bn (BatchNormalizati  (None, 14, 14, 512)  2048       ['conv_pw_6[0][0]']              \n",
      " on)                                                                                              \n",
      "                                                                                                  \n",
      " conv_pw_6_relu (ReLU)          (None, 14, 14, 512)  0           ['conv_pw_6_bn[0][0]']           \n",
      "                                                                                                  \n",
      " conv_dw_7 (DepthwiseConv2D)    (None, 14, 14, 512)  4608        ['conv_pw_6_relu[0][0]']         \n",
      "                                                                                                  \n",
      " conv_dw_7_bn (BatchNormalizati  (None, 14, 14, 512)  2048       ['conv_dw_7[0][0]']              \n",
      " on)                                                                                              \n",
      "                                                                                                  \n",
      " conv_dw_7_relu (ReLU)          (None, 14, 14, 512)  0           ['conv_dw_7_bn[0][0]']           \n",
      "                                                                                                  \n",
      " conv_pw_7 (Conv2D)             (None, 14, 14, 512)  262144      ['conv_dw_7_relu[0][0]']         \n",
      "                                                                                                  \n",
      " conv_pw_7_bn (BatchNormalizati  (None, 14, 14, 512)  2048       ['conv_pw_7[0][0]']              \n",
      " on)                                                                                              \n",
      "                                                                                                  \n",
      " conv_pw_7_relu (ReLU)          (None, 14, 14, 512)  0           ['conv_pw_7_bn[0][0]']           \n",
      "                                                                                                  \n",
      " conv_dw_8 (DepthwiseConv2D)    (None, 14, 14, 512)  4608        ['conv_pw_7_relu[0][0]']         \n",
      "                                                                                                  \n",
      " conv_dw_8_bn (BatchNormalizati  (None, 14, 14, 512)  2048       ['conv_dw_8[0][0]']              \n",
      " on)                                                                                              \n",
      "                                                                                                  \n",
      " conv_dw_8_relu (ReLU)          (None, 14, 14, 512)  0           ['conv_dw_8_bn[0][0]']           \n",
      "                                                                                                  \n",
      " conv_pw_8 (Conv2D)             (None, 14, 14, 512)  262144      ['conv_dw_8_relu[0][0]']         \n",
      "                                                                                                  \n",
      " conv_pw_8_bn (BatchNormalizati  (None, 14, 14, 512)  2048       ['conv_pw_8[0][0]']              \n",
      " on)                                                                                              \n",
      "                                                                                                  \n",
      " conv_pw_8_relu (ReLU)          (None, 14, 14, 512)  0           ['conv_pw_8_bn[0][0]']           \n",
      "                                                                                                  \n",
      " conv_dw_9 (DepthwiseConv2D)    (None, 14, 14, 512)  4608        ['conv_pw_8_relu[0][0]']         \n",
      "                                                                                                  \n",
      " conv_dw_9_bn (BatchNormalizati  (None, 14, 14, 512)  2048       ['conv_dw_9[0][0]']              \n",
      " on)                                                                                              \n",
      "                                                                                                  \n",
      " conv_dw_9_relu (ReLU)          (None, 14, 14, 512)  0           ['conv_dw_9_bn[0][0]']           \n",
      "                                                                                                  \n",
      " conv_pw_9 (Conv2D)             (None, 14, 14, 512)  262144      ['conv_dw_9_relu[0][0]']         \n",
      "                                                                                                  \n",
      " conv_pw_9_bn (BatchNormalizati  (None, 14, 14, 512)  2048       ['conv_pw_9[0][0]']              \n",
      " on)                                                                                              \n",
      "                                                                                                  \n",
      " conv_pw_9_relu (ReLU)          (None, 14, 14, 512)  0           ['conv_pw_9_bn[0][0]']           \n",
      "                                                                                                  \n",
      " conv_dw_10 (DepthwiseConv2D)   (None, 14, 14, 512)  4608        ['conv_pw_9_relu[0][0]']         \n",
      "                                                                                                  \n",
      " conv_dw_10_bn (BatchNormalizat  (None, 14, 14, 512)  2048       ['conv_dw_10[0][0]']             \n",
      " ion)                                                                                             \n",
      "                                                                                                  \n",
      " conv_dw_10_relu (ReLU)         (None, 14, 14, 512)  0           ['conv_dw_10_bn[0][0]']          \n",
      "                                                                                                  \n",
      " conv_pw_10 (Conv2D)            (None, 14, 14, 512)  262144      ['conv_dw_10_relu[0][0]']        \n",
      "                                                                                                  \n",
      " conv_pw_10_bn (BatchNormalizat  (None, 14, 14, 512)  2048       ['conv_pw_10[0][0]']             \n",
      " ion)                                                                                             \n",
      "                                                                                                  \n",
      " conv_pw_10_relu (ReLU)         (None, 14, 14, 512)  0           ['conv_pw_10_bn[0][0]']          \n",
      "                                                                                                  \n",
      " conv_dw_11 (DepthwiseConv2D)   (None, 14, 14, 512)  4608        ['conv_pw_10_relu[0][0]']        \n",
      "                                                                                                  \n",
      " conv_dw_11_bn (BatchNormalizat  (None, 14, 14, 512)  2048       ['conv_dw_11[0][0]']             \n",
      " ion)                                                                                             \n",
      "                                                                                                  \n",
      " conv_dw_11_relu (ReLU)         (None, 14, 14, 512)  0           ['conv_dw_11_bn[0][0]']          \n",
      "                                                                                                  \n",
      " conv_pw_11 (Conv2D)            (None, 14, 14, 512)  262144      ['conv_dw_11_relu[0][0]']        \n",
      "                                                                                                  \n",
      " conv_pw_11_bn (BatchNormalizat  (None, 14, 14, 512)  2048       ['conv_pw_11[0][0]']             \n",
      " ion)                                                                                             \n",
      "                                                                                                  \n",
      " conv_pw_11_relu (ReLU)         (None, 14, 14, 512)  0           ['conv_pw_11_bn[0][0]']          \n",
      "                                                                                                  \n",
      " conv_pad_12 (ZeroPadding2D)    (None, 15, 15, 512)  0           ['conv_pw_11_relu[0][0]']        \n",
      "                                                                                                  \n",
      " conv_dw_12 (DepthwiseConv2D)   (None, 7, 7, 512)    4608        ['conv_pad_12[0][0]']            \n",
      "                                                                                                  \n",
      " conv_dw_12_bn (BatchNormalizat  (None, 7, 7, 512)   2048        ['conv_dw_12[0][0]']             \n",
      " ion)                                                                                             \n",
      "                                                                                                  \n",
      " conv_dw_12_relu (ReLU)         (None, 7, 7, 512)    0           ['conv_dw_12_bn[0][0]']          \n",
      "                                                                                                  \n",
      " conv_pw_12 (Conv2D)            (None, 7, 7, 1024)   524288      ['conv_dw_12_relu[0][0]']        \n",
      "                                                                                                  \n",
      " conv_pw_12_bn (BatchNormalizat  (None, 7, 7, 1024)  4096        ['conv_pw_12[0][0]']             \n",
      " ion)                                                                                             \n",
      "                                                                                                  \n",
      " conv_pw_12_relu (ReLU)         (None, 7, 7, 1024)   0           ['conv_pw_12_bn[0][0]']          \n",
      "                                                                                                  \n",
      " conv_dw_13 (DepthwiseConv2D)   (None, 7, 7, 1024)   9216        ['conv_pw_12_relu[0][0]']        \n",
      "                                                                                                  \n",
      " conv_dw_13_bn (BatchNormalizat  (None, 7, 7, 1024)  4096        ['conv_dw_13[0][0]']             \n",
      " ion)                                                                                             \n",
      "                                                                                                  \n",
      " conv_dw_13_relu (ReLU)         (None, 7, 7, 1024)   0           ['conv_dw_13_bn[0][0]']          \n",
      "                                                                                                  \n",
      " conv_pw_13 (Conv2D)            (None, 7, 7, 1024)   1048576     ['conv_dw_13_relu[0][0]']        \n",
      "                                                                                                  \n",
      " conv_pw_13_bn (BatchNormalizat  (None, 7, 7, 1024)  4096        ['conv_pw_13[0][0]']             \n",
      " ion)                                                                                             \n",
      "                                                                                                  \n",
      " conv_pw_13_relu (ReLU)         (None, 7, 7, 1024)   0           ['conv_pw_13_bn[0][0]']          \n",
      "                                                                                                  \n",
      " global_pooling (GlobalAverageP  (None, 1024)        0           ['conv_pw_13_relu[0][0]']        \n",
      " ooling2D)                                                                                        \n",
      "                                                                                                  \n",
      " feat_valence (Dense)           (None, 256)          262400      ['global_pooling[0][0]']         \n",
      "                                                                                                  \n",
      " feat_arousal (Dense)           (None, 256)          262400      ['global_pooling[0][0]']         \n",
      "                                                                                                  \n",
      " outputs_valence (Dense)        (None, 1)            257         ['feat_valence[0][0]']           \n",
      "                                                                                                  \n",
      " outputs_arousal (Dense)        (None, 1)            257         ['feat_arousal[0][0]']           \n",
      "                                                                                                  \n",
      " tf.math.multiply (TFOpLambda)  (None, 1)            0           ['outputs_valence[0][0]']        \n",
      "                                                                                                  \n",
      " tf.math.multiply_1 (TFOpLambda  (None, 1)           0           ['outputs_arousal[0][0]']        \n",
      " )                                                                                                \n",
      "                                                                                                  \n",
      " feat_emotion (Dense)           (None, 256)          262400      ['global_pooling[0][0]']         \n",
      "                                                                                                  \n",
      " tf.math.subtract (TFOpLambda)  (None, 1)            0           ['tf.math.multiply[0][0]']       \n",
      "                                                                                                  \n",
      " tf.math.subtract_1 (TFOpLambda  (None, 1)           0           ['tf.math.multiply_1[0][0]']     \n",
      " )                                                                                                \n",
      "                                                                                                  \n",
      " outputs_emotion (Dense)        (None, 11)           2827        ['feat_emotion[0][0]']           \n",
      "                                                                                                  \n",
      "==================================================================================================\n",
      "Total params: 4,019,405\n",
      "Trainable params: 3,997,517\n",
      "Non-trainable params: 21,888\n",
      "__________________________________________________________________________________________________\n"
     ]
    }
   ],
   "source": [
    "model.summary()"
   ]
  },
  {
   "cell_type": "code",
   "execution_count": 15,
   "metadata": {
    "ExecuteTime": {
     "end_time": "2022-01-22T15:59:00.362671Z",
     "start_time": "2022-01-22T15:59:00.357734Z"
    }
   },
   "outputs": [],
   "source": [
    "# Instantiate an optimizer.\n",
    "optimizer = tf.keras.optimizers.Adam()\n",
    "# Instantiate a loss function.\n",
    "MSE_loss = tf.keras.losses.MeanSquaredError()\n",
    "SCC_loss = tf.keras.losses.SparseCategoricalCrossentropy()"
   ]
  },
  {
   "cell_type": "code",
   "execution_count": 16,
   "metadata": {
    "ExecuteTime": {
     "end_time": "2022-01-22T15:59:00.369179Z",
     "start_time": "2022-01-22T15:59:00.364422Z"
    }
   },
   "outputs": [],
   "source": [
    "batch_size = 32\n",
    "epochs = 16\n",
    "\n",
    "logs = []"
   ]
  },
  {
   "cell_type": "code",
   "execution_count": null,
   "metadata": {
    "ExecuteTime": {
     "start_time": "2022-01-22T15:58:43.607Z"
    }
   },
   "outputs": [
    {
     "name": "stdout",
     "output_type": "stream",
     "text": [
      "{\"emotion_correct\": 6, \"valence_loss\": 0.6175317764282227, \"arousal_loss\": 0.502682089805603, \"emotion_loss\": 2.4452576637268066, \"time_take\": 5.170595645904541}\n",
      "{\"emotion_correct\": 10, \"valence_loss\": 0.6623479127883911, \"arousal_loss\": 0.5841599702835083, \"emotion_loss\": 2.0520167350769043, \"time_take\": 5.710772752761841}\n",
      "{\"emotion_correct\": 15, \"valence_loss\": 0.7335364818572998, \"arousal_loss\": 0.529263973236084, \"emotion_loss\": 1.6975122690200806, \"time_take\": 6.031900644302368}\n",
      "{\"emotion_correct\": 16, \"valence_loss\": 0.6080062389373779, \"arousal_loss\": 0.45989662408828735, \"emotion_loss\": 1.6861851215362549, \"time_take\": 6.608748435974121}\n",
      "{\"emotion_correct\": 17, \"valence_loss\": 0.4788080155849457, \"arousal_loss\": 0.24722829461097717, \"emotion_loss\": 1.4941673278808594, \"time_take\": 7.150410175323486}\n",
      "{\"emotion_correct\": 18, \"valence_loss\": 0.4297572672367096, \"arousal_loss\": 0.323874831199646, \"emotion_loss\": 1.4582022428512573, \"time_take\": 7.657580852508545}\n",
      "{\"emotion_correct\": 17, \"valence_loss\": 0.541091799736023, \"arousal_loss\": 0.3421080410480499, \"emotion_loss\": 1.5509908199310303, \"time_take\": 8.272001266479492}\n",
      "{\"emotion_correct\": 20, \"valence_loss\": 0.6146279573440552, \"arousal_loss\": 0.42100492119789124, \"emotion_loss\": 1.1881648302078247, \"time_take\": 8.854510068893433}\n",
      "{\"emotion_correct\": 18, \"valence_loss\": 0.5478003621101379, \"arousal_loss\": 0.2846006751060486, \"emotion_loss\": 1.3914690017700195, \"time_take\": 9.276253938674927}\n",
      "{\"emotion_correct\": 14, \"valence_loss\": 0.503753125667572, \"arousal_loss\": 0.42072978615760803, \"emotion_loss\": 1.5665967464447021, \"time_take\": 9.53021764755249}\n",
      "{\"emotion_correct\": 22, \"valence_loss\": 0.35628390312194824, \"arousal_loss\": 0.20054015517234802, \"emotion_loss\": 0.9340707659721375, \"time_take\": 10.107354402542114}\n",
      "{\"emotion_correct\": 9, \"valence_loss\": 0.4111911654472351, \"arousal_loss\": 0.24695292115211487, \"emotion_loss\": 2.0123348236083984, \"time_take\": 10.366370439529419}\n",
      "{\"emotion_correct\": 12, \"valence_loss\": 0.33270400762557983, \"arousal_loss\": 0.14738915860652924, \"emotion_loss\": 1.8890252113342285, \"time_take\": 10.725183248519897}\n",
      "{\"emotion_correct\": 19, \"valence_loss\": 0.5043657422065735, \"arousal_loss\": 0.3467333912849426, \"emotion_loss\": 1.358514428138733, \"time_take\": 11.089151620864868}\n",
      "{\"emotion_correct\": 16, \"valence_loss\": 0.43984752893447876, \"arousal_loss\": 0.35908645391464233, \"emotion_loss\": 1.4605275392532349, \"time_take\": 11.43889307975769}\n",
      "{\"emotion_correct\": 16, \"valence_loss\": 0.4524376690387726, \"arousal_loss\": 0.3001366853713989, \"emotion_loss\": 1.6917155981063843, \"time_take\": 11.733474016189575}\n",
      "{\"emotion_correct\": 17, \"valence_loss\": 0.48533159494400024, \"arousal_loss\": 0.33910298347473145, \"emotion_loss\": 1.3025988340377808, \"time_take\": 12.070478200912476}\n",
      "{\"emotion_correct\": 15, \"valence_loss\": 0.3746112287044525, \"arousal_loss\": 0.28152912855148315, \"emotion_loss\": 1.620884656906128, \"time_take\": 12.390033960342407}\n",
      "{\"emotion_correct\": 19, \"valence_loss\": 0.4474480152130127, \"arousal_loss\": 0.3427169620990753, \"emotion_loss\": 1.4682648181915283, \"time_take\": 12.611732482910156}\n",
      "{\"emotion_correct\": 20, \"valence_loss\": 0.6078064441680908, \"arousal_loss\": 0.30592969059944153, \"emotion_loss\": 1.1524105072021484, \"time_take\": 12.905829429626465}\n",
      "{\"emotion_correct\": 19, \"valence_loss\": 0.5023941397666931, \"arousal_loss\": 0.27825796604156494, \"emotion_loss\": 1.3924939632415771, \"time_take\": 13.592533349990845}\n",
      "{\"emotion_correct\": 20, \"valence_loss\": 0.4989682137966156, \"arousal_loss\": 0.3752652108669281, \"emotion_loss\": 1.2652182579040527, \"time_take\": 13.951028108596802}\n",
      "{\"emotion_correct\": 23, \"valence_loss\": 0.46771642565727234, \"arousal_loss\": 0.31339558959007263, \"emotion_loss\": 1.1660900115966797, \"time_take\": 14.431659698486328}\n",
      "{\"emotion_correct\": 20, \"valence_loss\": 0.4394732713699341, \"arousal_loss\": 0.29327720403671265, \"emotion_loss\": 1.17350172996521, \"time_take\": 14.970115900039673}\n",
      "{\"emotion_correct\": 17, \"valence_loss\": 0.4669148921966553, \"arousal_loss\": 0.2507718503475189, \"emotion_loss\": 1.4314255714416504, \"time_take\": 15.263891458511353}\n",
      "{\"emotion_correct\": 16, \"valence_loss\": 0.4875270128250122, \"arousal_loss\": 0.30765509605407715, \"emotion_loss\": 1.79059898853302, \"time_take\": 15.64028263092041}\n",
      "{\"emotion_correct\": 22, \"valence_loss\": 0.45329225063323975, \"arousal_loss\": 0.3171583116054535, \"emotion_loss\": 1.0768390893936157, \"time_take\": 15.948009014129639}\n",
      "{\"emotion_correct\": 15, \"valence_loss\": 0.537725031375885, \"arousal_loss\": 0.3803142309188843, \"emotion_loss\": 1.8541460037231445, \"time_take\": 16.353296518325806}\n",
      "{\"emotion_correct\": 16, \"valence_loss\": 0.45752760767936707, \"arousal_loss\": 0.32541170716285706, \"emotion_loss\": 1.3051373958587646, \"time_take\": 16.767171621322632}\n",
      "{\"emotion_correct\": 18, \"valence_loss\": 0.4542655944824219, \"arousal_loss\": 0.24993813037872314, \"emotion_loss\": 1.293501615524292, \"time_take\": 17.082982301712036}\n",
      "{\"emotion_correct\": 18, \"valence_loss\": 0.45451533794403076, \"arousal_loss\": 0.27578461170196533, \"emotion_loss\": 1.4885368347167969, \"time_take\": 17.57224726676941}\n",
      "{\"emotion_correct\": 17, \"valence_loss\": 0.3806926906108856, \"arousal_loss\": 0.2421714961528778, \"emotion_loss\": 1.5166735649108887, \"time_take\": 17.849512577056885}\n",
      "{\"emotion_correct\": 18, \"valence_loss\": 0.412354975938797, \"arousal_loss\": 0.3438211977481842, \"emotion_loss\": 1.493582844734192, \"time_take\": 18.19336438179016}\n",
      "{\"emotion_correct\": 19, \"valence_loss\": 0.40816283226013184, \"arousal_loss\": 0.2859756350517273, \"emotion_loss\": 1.6455787420272827, \"time_take\": 18.49372124671936}\n",
      "{\"emotion_correct\": 17, \"valence_loss\": 0.3613486886024475, \"arousal_loss\": 0.32762742042541504, \"emotion_loss\": 1.3953502178192139, \"time_take\": 18.761924982070923}\n",
      "{\"emotion_correct\": 20, \"valence_loss\": 0.5208356380462646, \"arousal_loss\": 0.2638015151023865, \"emotion_loss\": 1.5922954082489014, \"time_take\": 19.3005051612854}\n",
      "{\"emotion_correct\": 20, \"valence_loss\": 0.4332212209701538, \"arousal_loss\": 0.2548532783985138, \"emotion_loss\": 1.4953229427337646, \"time_take\": 19.759068727493286}\n",
      "{\"emotion_correct\": 14, \"valence_loss\": 0.5605002045631409, \"arousal_loss\": 0.36708274483680725, \"emotion_loss\": 1.6168138980865479, \"time_take\": 20.06699514389038}\n",
      "{\"emotion_correct\": 18, \"valence_loss\": 0.39840996265411377, \"arousal_loss\": 0.2831788659095764, \"emotion_loss\": 1.652444839477539, \"time_take\": 20.50962209701538}\n",
      "{\"emotion_correct\": 21, \"valence_loss\": 0.44864147901535034, \"arousal_loss\": 0.2642024755477905, \"emotion_loss\": 1.179276943206787, \"time_take\": 20.904746532440186}\n",
      "{\"emotion_correct\": 17, \"valence_loss\": 0.3972681164741516, \"arousal_loss\": 0.305626779794693, \"emotion_loss\": 1.5712194442749023, \"time_take\": 21.201722621917725}\n",
      "{\"emotion_correct\": 20, \"valence_loss\": 0.36901578307151794, \"arousal_loss\": 0.30262377858161926, \"emotion_loss\": 1.4148976802825928, \"time_take\": 21.57030177116394}\n",
      "{\"emotion_correct\": 19, \"valence_loss\": 0.3678967356681824, \"arousal_loss\": 0.2702900171279907, \"emotion_loss\": 1.388998031616211, \"time_take\": 21.858832836151123}\n",
      "{\"emotion_correct\": 20, \"valence_loss\": 0.5209158658981323, \"arousal_loss\": 0.24727950990200043, \"emotion_loss\": 1.1711161136627197, \"time_take\": 22.28713870048523}\n",
      "{\"emotion_correct\": 19, \"valence_loss\": 0.36635684967041016, \"arousal_loss\": 0.2037782073020935, \"emotion_loss\": 1.2025567293167114, \"time_take\": 22.76114773750305}\n",
      "{\"emotion_correct\": 20, \"valence_loss\": 0.4992252588272095, \"arousal_loss\": 0.2617835998535156, \"emotion_loss\": 1.2251566648483276, \"time_take\": 23.15097188949585}\n",
      "{\"emotion_correct\": 16, \"valence_loss\": 0.32216930389404297, \"arousal_loss\": 0.27531325817108154, \"emotion_loss\": 1.5538419485092163, \"time_take\": 23.56169104576111}\n",
      "{\"emotion_correct\": 19, \"valence_loss\": 0.42373234033584595, \"arousal_loss\": 0.2057543694972992, \"emotion_loss\": 1.1562154293060303, \"time_take\": 24.002620935440063}\n",
      "{\"emotion_correct\": 16, \"valence_loss\": 0.4817335903644562, \"arousal_loss\": 0.2880746126174927, \"emotion_loss\": 2.0563817024230957, \"time_take\": 24.30836009979248}\n",
      "{\"emotion_correct\": 20, \"valence_loss\": 0.42863357067108154, \"arousal_loss\": 0.303189218044281, \"emotion_loss\": 1.2499864101409912, \"time_take\": 24.763410568237305}\n"
     ]
    },
    {
     "name": "stdout",
     "output_type": "stream",
     "text": [
      "{\"emotion_correct\": 18, \"valence_loss\": 0.4493337869644165, \"arousal_loss\": 0.3531090021133423, \"emotion_loss\": 1.4479446411132812, \"time_take\": 25.052214860916138}\n",
      "{\"emotion_correct\": 15, \"valence_loss\": 0.42381536960601807, \"arousal_loss\": 0.36100974678993225, \"emotion_loss\": 1.3806114196777344, \"time_take\": 25.364317893981934}\n",
      "{\"emotion_correct\": 22, \"valence_loss\": 0.4188275933265686, \"arousal_loss\": 0.24419096112251282, \"emotion_loss\": 1.0305546522140503, \"time_take\": 25.748653411865234}\n",
      "{\"emotion_correct\": 16, \"valence_loss\": 0.4198974370956421, \"arousal_loss\": 0.22820638120174408, \"emotion_loss\": 1.5567190647125244, \"time_take\": 26.014540910720825}\n",
      "{\"emotion_correct\": 19, \"valence_loss\": 0.3952842056751251, \"arousal_loss\": 0.2494400143623352, \"emotion_loss\": 1.0072712898254395, \"time_take\": 26.336581468582153}\n",
      "{\"emotion_correct\": 13, \"valence_loss\": 0.4106682538986206, \"arousal_loss\": 0.258670836687088, \"emotion_loss\": 1.5673863887786865, \"time_take\": 26.674412727355957}\n",
      "{\"emotion_correct\": 19, \"valence_loss\": 0.5316749811172485, \"arousal_loss\": 0.2983189821243286, \"emotion_loss\": 1.3703453540802002, \"time_take\": 26.988704681396484}\n",
      "{\"emotion_correct\": 21, \"valence_loss\": 0.41422414779663086, \"arousal_loss\": 0.35143446922302246, \"emotion_loss\": 1.209388256072998, \"time_take\": 27.359782695770264}\n",
      "{\"emotion_correct\": 14, \"valence_loss\": 0.4425380229949951, \"arousal_loss\": 0.4069078266620636, \"emotion_loss\": 1.491787075996399, \"time_take\": 27.732855558395386}\n",
      "{\"emotion_correct\": 16, \"valence_loss\": 0.40293341875076294, \"arousal_loss\": 0.31702592968940735, \"emotion_loss\": 1.434143304824829, \"time_take\": 28.02974247932434}\n",
      "{\"emotion_correct\": 19, \"valence_loss\": 0.3694956302642822, \"arousal_loss\": 0.3094353675842285, \"emotion_loss\": 1.106926441192627, \"time_take\": 28.41640567779541}\n",
      "{\"emotion_correct\": 18, \"valence_loss\": 0.4131075143814087, \"arousal_loss\": 0.26953113079071045, \"emotion_loss\": 1.3572157621383667, \"time_take\": 28.856698989868164}\n",
      "{\"emotion_correct\": 22, \"valence_loss\": 0.49560317397117615, \"arousal_loss\": 0.2509041428565979, \"emotion_loss\": 1.0160245895385742, \"time_take\": 29.30532217025757}\n",
      "{\"emotion_correct\": 20, \"valence_loss\": 0.4246681034564972, \"arousal_loss\": 0.3242371678352356, \"emotion_loss\": 1.1771894693374634, \"time_take\": 29.595813751220703}\n",
      "{\"emotion_correct\": 14, \"valence_loss\": 0.42804279923439026, \"arousal_loss\": 0.3046060800552368, \"emotion_loss\": 1.6069121360778809, \"time_take\": 29.919883012771606}\n",
      "{\"emotion_correct\": 16, \"valence_loss\": 0.4647095501422882, \"arousal_loss\": 0.3399055302143097, \"emotion_loss\": 1.3074641227722168, \"time_take\": 30.180843591690063}\n",
      "{\"emotion_correct\": 20, \"valence_loss\": 0.42750540375709534, \"arousal_loss\": 0.199864462018013, \"emotion_loss\": 1.1088351011276245, \"time_take\": 30.486281871795654}\n",
      "{\"emotion_correct\": 23, \"valence_loss\": 0.40631043910980225, \"arousal_loss\": 0.24077053368091583, \"emotion_loss\": 1.0542227029800415, \"time_take\": 30.81954526901245}\n",
      "{\"emotion_correct\": 17, \"valence_loss\": 0.46190786361694336, \"arousal_loss\": 0.30145037174224854, \"emotion_loss\": 1.2272839546203613, \"time_take\": 31.183149099349976}\n",
      "{\"emotion_correct\": 19, \"valence_loss\": 0.4383297264575958, \"arousal_loss\": 0.3592211604118347, \"emotion_loss\": 1.4796314239501953, \"time_take\": 31.463098526000977}\n",
      "{\"emotion_correct\": 25, \"valence_loss\": 0.40933528542518616, \"arousal_loss\": 0.16050222516059875, \"emotion_loss\": 0.8553187251091003, \"time_take\": 31.72112798690796}\n",
      "{\"emotion_correct\": 16, \"valence_loss\": 0.5216220617294312, \"arousal_loss\": 0.35897618532180786, \"emotion_loss\": 1.654883861541748, \"time_take\": 32.07257628440857}\n",
      "{\"emotion_correct\": 23, \"valence_loss\": 0.5086996555328369, \"arousal_loss\": 0.3116301894187927, \"emotion_loss\": 1.0839097499847412, \"time_take\": 32.46188402175903}\n",
      "{\"emotion_correct\": 20, \"valence_loss\": 0.4475735127925873, \"arousal_loss\": 0.2541247010231018, \"emotion_loss\": 1.3694405555725098, \"time_take\": 32.807194232940674}\n",
      "{\"emotion_correct\": 22, \"valence_loss\": 0.31505662202835083, \"arousal_loss\": 0.1658935248851776, \"emotion_loss\": 0.9324328303337097, \"time_take\": 33.32102108001709}\n",
      "{\"emotion_correct\": 21, \"valence_loss\": 0.401694655418396, \"arousal_loss\": 0.21087996661663055, \"emotion_loss\": 1.0490444898605347, \"time_take\": 33.648252964019775}\n",
      "{\"emotion_correct\": 18, \"valence_loss\": 0.5421411395072937, \"arousal_loss\": 0.36444807052612305, \"emotion_loss\": 1.4317785501480103, \"time_take\": 34.02725839614868}\n",
      "{\"emotion_correct\": 16, \"valence_loss\": 0.39729630947113037, \"arousal_loss\": 0.2787042260169983, \"emotion_loss\": 1.5894532203674316, \"time_take\": 34.23074793815613}\n",
      "{\"emotion_correct\": 22, \"valence_loss\": 0.37718820571899414, \"arousal_loss\": 0.29229724407196045, \"emotion_loss\": 1.238966941833496, \"time_take\": 34.627625703811646}\n",
      "{\"emotion_correct\": 17, \"valence_loss\": 0.5461119413375854, \"arousal_loss\": 0.41735023260116577, \"emotion_loss\": 1.269163727760315, \"time_take\": 34.940500020980835}\n",
      "{\"emotion_correct\": 19, \"valence_loss\": 0.5857887268066406, \"arousal_loss\": 0.4460224509239197, \"emotion_loss\": 1.1047041416168213, \"time_take\": 35.26772689819336}\n",
      "{\"emotion_correct\": 20, \"valence_loss\": 0.41097116470336914, \"arousal_loss\": 0.3079633116722107, \"emotion_loss\": 1.2315235137939453, \"time_take\": 35.554659605026245}\n",
      "{\"emotion_correct\": 16, \"valence_loss\": 0.32337650656700134, \"arousal_loss\": 0.21243023872375488, \"emotion_loss\": 1.180772066116333, \"time_take\": 35.92043995857239}\n",
      "{\"emotion_correct\": 21, \"valence_loss\": 0.40835607051849365, \"arousal_loss\": 0.2819964289665222, \"emotion_loss\": 1.0415360927581787, \"time_take\": 36.26274013519287}\n",
      "{\"emotion_correct\": 21, \"valence_loss\": 0.5996979475021362, \"arousal_loss\": 0.3260130286216736, \"emotion_loss\": 1.1405963897705078, \"time_take\": 36.611602544784546}\n",
      "{\"emotion_correct\": 23, \"valence_loss\": 0.3892543911933899, \"arousal_loss\": 0.23048120737075806, \"emotion_loss\": 0.939110279083252, \"time_take\": 36.92559742927551}\n",
      "{\"emotion_correct\": 21, \"valence_loss\": 0.39422479271888733, \"arousal_loss\": 0.30340319871902466, \"emotion_loss\": 1.0589702129364014, \"time_take\": 37.24604368209839}\n",
      "{\"emotion_correct\": 12, \"valence_loss\": 0.35730820894241333, \"arousal_loss\": 0.3169269263744354, \"emotion_loss\": 1.859492301940918, \"time_take\": 37.531452655792236}\n",
      "{\"emotion_correct\": 12, \"valence_loss\": 0.42382144927978516, \"arousal_loss\": 0.24971430003643036, \"emotion_loss\": 1.4036314487457275, \"time_take\": 37.87989592552185}\n",
      "{\"emotion_correct\": 18, \"valence_loss\": 0.37990570068359375, \"arousal_loss\": 0.23342980444431305, \"emotion_loss\": 1.5293829441070557, \"time_take\": 38.173866271972656}\n",
      "{\"emotion_correct\": 22, \"valence_loss\": 0.4663994610309601, \"arousal_loss\": 0.2825077176094055, \"emotion_loss\": 1.0240085124969482, \"time_take\": 38.43742632865906}\n",
      "{\"emotion_correct\": 20, \"valence_loss\": 0.4294520616531372, \"arousal_loss\": 0.3551810383796692, \"emotion_loss\": 1.1781071424484253, \"time_take\": 38.77609896659851}\n",
      "{\"emotion_correct\": 17, \"valence_loss\": 0.33150291442871094, \"arousal_loss\": 0.2966548800468445, \"emotion_loss\": 1.7957063913345337, \"time_take\": 39.10676336288452}\n",
      "{\"emotion_correct\": 20, \"valence_loss\": 0.39362040162086487, \"arousal_loss\": 0.3187507688999176, \"emotion_loss\": 1.4164423942565918, \"time_take\": 39.367146015167236}\n",
      "{\"emotion_correct\": 15, \"valence_loss\": 0.4563162922859192, \"arousal_loss\": 0.35114794969558716, \"emotion_loss\": 1.3582608699798584, \"time_take\": 39.78873133659363}\n",
      "{\"emotion_correct\": 20, \"valence_loss\": 0.5851436853408813, \"arousal_loss\": 0.3424971103668213, \"emotion_loss\": 1.1864114999771118, \"time_take\": 40.0719690322876}\n",
      "{\"emotion_correct\": 17, \"valence_loss\": 0.38311702013015747, \"arousal_loss\": 0.31197839975357056, \"emotion_loss\": 1.349226713180542, \"time_take\": 40.405357122421265}\n",
      "{\"emotion_correct\": 17, \"valence_loss\": 0.3841061592102051, \"arousal_loss\": 0.2949705123901367, \"emotion_loss\": 1.2008800506591797, \"time_take\": 40.81567096710205}\n",
      "{\"emotion_correct\": 14, \"valence_loss\": 0.4646540880203247, \"arousal_loss\": 0.2600800395011902, \"emotion_loss\": 1.5813117027282715, \"time_take\": 41.2034375667572}\n",
      "{\"emotion_correct\": 17, \"valence_loss\": 0.46484267711639404, \"arousal_loss\": 0.2954268753528595, \"emotion_loss\": 1.2345802783966064, \"time_take\": 41.5720112323761}\n"
     ]
    },
    {
     "name": "stdout",
     "output_type": "stream",
     "text": [
      "{\"emotion_correct\": 19, \"valence_loss\": 0.3145832419395447, \"arousal_loss\": 0.1985020637512207, \"emotion_loss\": 1.3720393180847168, \"time_take\": 41.89852952957153}\n",
      "{\"emotion_correct\": 15, \"valence_loss\": 0.4633387625217438, \"arousal_loss\": 0.2880898714065552, \"emotion_loss\": 1.5521538257598877, \"time_take\": 42.30435252189636}\n",
      "{\"emotion_correct\": 16, \"valence_loss\": 0.3970843255519867, \"arousal_loss\": 0.2858850955963135, \"emotion_loss\": 1.5226973295211792, \"time_take\": 42.652233362197876}\n",
      "{\"emotion_correct\": 21, \"valence_loss\": 0.44568607211112976, \"arousal_loss\": 0.27560845017433167, \"emotion_loss\": 1.0719122886657715, \"time_take\": 43.01363396644592}\n",
      "{\"emotion_correct\": 14, \"valence_loss\": 0.39333105087280273, \"arousal_loss\": 0.25674688816070557, \"emotion_loss\": 1.6449885368347168, \"time_take\": 43.44976043701172}\n",
      "{\"emotion_correct\": 14, \"valence_loss\": 0.3417212665081024, \"arousal_loss\": 0.2686462998390198, \"emotion_loss\": 1.6770306825637817, \"time_take\": 43.80929183959961}\n",
      "{\"emotion_correct\": 20, \"valence_loss\": 0.4192318320274353, \"arousal_loss\": 0.20798933506011963, \"emotion_loss\": 1.123754858970642, \"time_take\": 44.2279417514801}\n",
      "{\"emotion_correct\": 12, \"valence_loss\": 0.3706668019294739, \"arousal_loss\": 0.37655118107795715, \"emotion_loss\": 1.7247775793075562, \"time_take\": 44.68921947479248}\n",
      "{\"emotion_correct\": 19, \"valence_loss\": 0.459669291973114, \"arousal_loss\": 0.31221383810043335, \"emotion_loss\": 1.4701838493347168, \"time_take\": 44.96322298049927}\n",
      "{\"emotion_correct\": 18, \"valence_loss\": 0.4858858585357666, \"arousal_loss\": 0.2884945869445801, \"emotion_loss\": 1.1628962755203247, \"time_take\": 45.42000937461853}\n",
      "{\"emotion_correct\": 18, \"valence_loss\": 0.4929918944835663, \"arousal_loss\": 0.3386894762516022, \"emotion_loss\": 1.36388099193573, \"time_take\": 45.8433952331543}\n",
      "{\"emotion_correct\": 15, \"valence_loss\": 0.44699347019195557, \"arousal_loss\": 0.30010467767715454, \"emotion_loss\": 1.5516713857650757, \"time_take\": 46.14621710777283}\n",
      "{\"emotion_correct\": 17, \"valence_loss\": 0.40166014432907104, \"arousal_loss\": 0.27890050411224365, \"emotion_loss\": 1.290630578994751, \"time_take\": 46.54359149932861}\n",
      "{\"emotion_correct\": 19, \"valence_loss\": 0.4913724362850189, \"arousal_loss\": 0.22488218545913696, \"emotion_loss\": 1.2146127223968506, \"time_take\": 46.90539526939392}\n",
      "{\"emotion_correct\": 17, \"valence_loss\": 0.43953937292099, \"arousal_loss\": 0.3300807476043701, \"emotion_loss\": 1.4030630588531494, \"time_take\": 47.16358780860901}\n",
      "{\"emotion_correct\": 12, \"valence_loss\": 0.2952687740325928, \"arousal_loss\": 0.2569538950920105, \"emotion_loss\": 1.8518092632293701, \"time_take\": 47.59628248214722}\n",
      "{\"emotion_correct\": 19, \"valence_loss\": 0.4524535536766052, \"arousal_loss\": 0.284440815448761, \"emotion_loss\": 1.3997652530670166, \"time_take\": 48.1210732460022}\n",
      "{\"emotion_correct\": 20, \"valence_loss\": 0.34395793080329895, \"arousal_loss\": 0.3424551486968994, \"emotion_loss\": 1.2776641845703125, \"time_take\": 48.69866991043091}\n",
      "{\"emotion_correct\": 18, \"valence_loss\": 0.4646919369697571, \"arousal_loss\": 0.2840699255466461, \"emotion_loss\": 1.2902681827545166, \"time_take\": 49.17158055305481}\n",
      "{\"emotion_correct\": 18, \"valence_loss\": 0.4322549104690552, \"arousal_loss\": 0.2996046841144562, \"emotion_loss\": 1.1973671913146973, \"time_take\": 49.65408778190613}\n",
      "{\"emotion_correct\": 15, \"valence_loss\": 0.391576886177063, \"arousal_loss\": 0.30217331647872925, \"emotion_loss\": 1.6338458061218262, \"time_take\": 49.960846185684204}\n",
      "{\"emotion_correct\": 17, \"valence_loss\": 0.4275113344192505, \"arousal_loss\": 0.24237918853759766, \"emotion_loss\": 1.267540454864502, \"time_take\": 50.27160906791687}\n",
      "{\"emotion_correct\": 16, \"valence_loss\": 0.4290834665298462, \"arousal_loss\": 0.23438353836536407, \"emotion_loss\": 1.3643056154251099, \"time_take\": 50.612271547317505}\n",
      "{\"emotion_correct\": 20, \"valence_loss\": 0.478033185005188, \"arousal_loss\": 0.31644898653030396, \"emotion_loss\": 1.1504857540130615, \"time_take\": 51.13896870613098}\n",
      "{\"emotion_correct\": 19, \"valence_loss\": 0.33314135670661926, \"arousal_loss\": 0.3063996136188507, \"emotion_loss\": 1.3409044742584229, \"time_take\": 51.57995939254761}\n",
      "{\"emotion_correct\": 21, \"valence_loss\": 0.5243776440620422, \"arousal_loss\": 0.31731659173965454, \"emotion_loss\": 1.0710868835449219, \"time_take\": 51.92794394493103}\n",
      "{\"emotion_correct\": 15, \"valence_loss\": 0.44080138206481934, \"arousal_loss\": 0.28113996982574463, \"emotion_loss\": 1.5332571268081665, \"time_take\": 52.22229743003845}\n",
      "{\"emotion_correct\": 21, \"valence_loss\": 0.39196062088012695, \"arousal_loss\": 0.2400970458984375, \"emotion_loss\": 1.3106498718261719, \"time_take\": 52.75145387649536}\n",
      "{\"emotion_correct\": 19, \"valence_loss\": 0.4126276969909668, \"arousal_loss\": 0.2979355752468109, \"emotion_loss\": 1.9020023345947266, \"time_take\": 52.994754791259766}\n",
      "{\"emotion_correct\": 18, \"valence_loss\": 0.5360549688339233, \"arousal_loss\": 0.3466087579727173, \"emotion_loss\": 1.072662591934204, \"time_take\": 53.44224214553833}\n",
      "{\"emotion_correct\": 16, \"valence_loss\": 0.44143959879875183, \"arousal_loss\": 0.17405858635902405, \"emotion_loss\": 1.3080646991729736, \"time_take\": 53.823150873184204}\n",
      "{\"emotion_correct\": 13, \"valence_loss\": 0.5035140514373779, \"arousal_loss\": 0.37885475158691406, \"emotion_loss\": 1.3999757766723633, \"time_take\": 54.12672805786133}\n",
      "{\"emotion_correct\": 22, \"valence_loss\": 0.37478676438331604, \"arousal_loss\": 0.23089785873889923, \"emotion_loss\": 1.0185505151748657, \"time_take\": 54.67954897880554}\n",
      "{\"emotion_correct\": 21, \"valence_loss\": 0.4851176142692566, \"arousal_loss\": 0.2635638415813446, \"emotion_loss\": 1.1265043020248413, \"time_take\": 55.199686765670776}\n",
      "{\"emotion_correct\": 15, \"valence_loss\": 0.4310591220855713, \"arousal_loss\": 0.32411110401153564, \"emotion_loss\": 1.5686687231063843, \"time_take\": 55.58453822135925}\n",
      "{\"emotion_correct\": 18, \"valence_loss\": 0.4304870367050171, \"arousal_loss\": 0.31230735778808594, \"emotion_loss\": 1.3938027620315552, \"time_take\": 56.022738218307495}\n",
      "{\"emotion_correct\": 19, \"valence_loss\": 0.49533405900001526, \"arousal_loss\": 0.3453323245048523, \"emotion_loss\": 1.3466001749038696, \"time_take\": 56.44330358505249}\n",
      "{\"emotion_correct\": 21, \"valence_loss\": 0.4808216691017151, \"arousal_loss\": 0.35510939359664917, \"emotion_loss\": 1.1659483909606934, \"time_take\": 57.062654972076416}\n",
      "{\"emotion_correct\": 23, \"valence_loss\": 0.46232059597969055, \"arousal_loss\": 0.3464135229587555, \"emotion_loss\": 0.9746217727661133, \"time_take\": 57.48336386680603}\n",
      "{\"emotion_correct\": 17, \"valence_loss\": 0.29422032833099365, \"arousal_loss\": 0.2048524022102356, \"emotion_loss\": 1.1910343170166016, \"time_take\": 57.91632056236267}\n",
      "{\"emotion_correct\": 21, \"valence_loss\": 0.4745926856994629, \"arousal_loss\": 0.36277851462364197, \"emotion_loss\": 1.1109492778778076, \"time_take\": 58.368030309677124}\n",
      "{\"emotion_correct\": 15, \"valence_loss\": 0.37008076906204224, \"arousal_loss\": 0.3549266457557678, \"emotion_loss\": 1.7265663146972656, \"time_take\": 58.89298057556152}\n",
      "{\"emotion_correct\": 20, \"valence_loss\": 0.5087683200836182, \"arousal_loss\": 0.2297702133655548, \"emotion_loss\": 1.1759957075119019, \"time_take\": 59.29863739013672}\n",
      "{\"emotion_correct\": 23, \"valence_loss\": 0.35828524827957153, \"arousal_loss\": 0.2605065703392029, \"emotion_loss\": 1.161026954650879, \"time_take\": 59.74424481391907}\n",
      "{\"emotion_correct\": 21, \"valence_loss\": 0.4777529537677765, \"arousal_loss\": 0.2557688355445862, \"emotion_loss\": 1.5240094661712646, \"time_take\": 60.15037250518799}\n",
      "{\"emotion_correct\": 15, \"valence_loss\": 0.3430067002773285, \"arousal_loss\": 0.23636837303638458, \"emotion_loss\": 1.2841334342956543, \"time_take\": 60.66527438163757}\n",
      "{\"emotion_correct\": 19, \"valence_loss\": 0.4717157483100891, \"arousal_loss\": 0.30723753571510315, \"emotion_loss\": 1.3368690013885498, \"time_take\": 61.10705757141113}\n",
      "{\"emotion_correct\": 19, \"valence_loss\": 0.4190734028816223, \"arousal_loss\": 0.2791951596736908, \"emotion_loss\": 1.1493076086044312, \"time_take\": 61.487985134124756}\n",
      "{\"emotion_correct\": 18, \"valence_loss\": 0.384677529335022, \"arousal_loss\": 0.24394652247428894, \"emotion_loss\": 1.4034849405288696, \"time_take\": 61.85334300994873}\n",
      "{\"emotion_correct\": 14, \"valence_loss\": 0.4720757007598877, \"arousal_loss\": 0.3305831551551819, \"emotion_loss\": 1.4856069087982178, \"time_take\": 62.19511604309082}\n"
     ]
    },
    {
     "name": "stdout",
     "output_type": "stream",
     "text": [
      "{\"emotion_correct\": 22, \"valence_loss\": 0.3687835931777954, \"arousal_loss\": 0.2428264021873474, \"emotion_loss\": 1.2218945026397705, \"time_take\": 62.5468053817749}\n",
      "{\"emotion_correct\": 15, \"valence_loss\": 0.40004050731658936, \"arousal_loss\": 0.3103489279747009, \"emotion_loss\": 1.729948878288269, \"time_take\": 62.92239689826965}\n",
      "{\"emotion_correct\": 21, \"valence_loss\": 0.4928288161754608, \"arousal_loss\": 0.3469313979148865, \"emotion_loss\": 1.214195728302002, \"time_take\": 63.32677865028381}\n",
      "{\"emotion_correct\": 24, \"valence_loss\": 0.4174107313156128, \"arousal_loss\": 0.20820626616477966, \"emotion_loss\": 0.974003255367279, \"time_take\": 63.76195549964905}\n",
      "{\"emotion_correct\": 22, \"valence_loss\": 0.5472427010536194, \"arousal_loss\": 0.24946391582489014, \"emotion_loss\": 1.0345938205718994, \"time_take\": 64.2902147769928}\n",
      "{\"emotion_correct\": 20, \"valence_loss\": 0.4022284150123596, \"arousal_loss\": 0.24529996514320374, \"emotion_loss\": 1.1204383373260498, \"time_take\": 64.61559414863586}\n",
      "{\"emotion_correct\": 22, \"valence_loss\": 0.47735559940338135, \"arousal_loss\": 0.28543180227279663, \"emotion_loss\": 1.1100696325302124, \"time_take\": 64.9886474609375}\n",
      "{\"emotion_correct\": 16, \"valence_loss\": 0.4210195541381836, \"arousal_loss\": 0.3092402517795563, \"emotion_loss\": 1.4479105472564697, \"time_take\": 65.30374240875244}\n",
      "{\"emotion_correct\": 22, \"valence_loss\": 0.5389759540557861, \"arousal_loss\": 0.2547489404678345, \"emotion_loss\": 1.1146876811981201, \"time_take\": 65.74356007575989}\n",
      "{\"emotion_correct\": 22, \"valence_loss\": 0.4348965883255005, \"arousal_loss\": 0.3225513696670532, \"emotion_loss\": 0.9232762455940247, \"time_take\": 66.17036128044128}\n",
      "{\"emotion_correct\": 19, \"valence_loss\": 0.45357751846313477, \"arousal_loss\": 0.3455759286880493, \"emotion_loss\": 1.2887403964996338, \"time_take\": 66.67276310920715}\n"
     ]
    }
   ],
   "source": [
    "from telegram_notifier import send_message\n",
    "import time\n",
    "start_time = time.time()\n",
    "\n",
    "\n",
    "for epoch in range(epochs):\n",
    "    total_loss = 0\n",
    "    total_step = 0\n",
    "    total_emotion_correct = 0\n",
    "    total_valence_loss = 0\n",
    "    total_arousal_loss = 0\n",
    "    total_emotion_loss = 0\n",
    "    total_process = 0\n",
    "    for step, row in enumerate(DataFrameBatchIterator(train_df, batch_size=batch_size)):\n",
    "\n",
    "        imgs = row.subDirectory_filePath.apply(lambda x: cv2.resize(\n",
    "            cv2.cvtColor(cv2.imread(x), cv2.COLOR_BGR2RGB), (224, 224)))\n",
    "        img_array = np.array(list(imgs))\n",
    "\n",
    "        y_valence = np.array(row.valence)\n",
    "        y_arousal = np.array(row.arousal)\n",
    "        y_emotion = np.array(row.expression)\n",
    "\n",
    "        with tf.GradientTape() as tape:\n",
    "            logits = model(img_array, training=True)\n",
    "\n",
    "            pred_valence = logits[0]\n",
    "            pred_arousal = logits[1]\n",
    "            pred_emotion = logits[2]\n",
    "\n",
    "            valence_loss = MSE_loss(y_valence, pred_valence)\n",
    "            arousal_loss = MSE_loss(y_arousal, pred_arousal)\n",
    "            emotion_loss = SCC_loss(y_emotion, pred_emotion)\n",
    "\n",
    "            loss = valence_loss + arousal_loss + emotion_loss\n",
    "\n",
    "            grads = tape.gradient(loss, model.trainable_weights)\n",
    "\n",
    "            optimizer.apply_gradients(zip(grads, model.trainable_weights))\n",
    "        total_loss += float(loss)\n",
    "        total_step += 1\n",
    "        \n",
    "        total_process += len(row)\n",
    "\n",
    "        valence_loss = float(valence_loss)\n",
    "        arousal_loss = float(arousal_loss)\n",
    "        emotion_loss = float(emotion_loss)\n",
    "        \n",
    "        total_valence_loss += valence_loss\n",
    "        total_arousal_loss += arousal_loss\n",
    "        total_emotion_loss += emotion_loss\n",
    "        \n",
    "        emotion_correct = int(sum(pred_emotion.numpy().argmax(axis = 1) == y_emotion))\n",
    "        total_emotion_correct += emotion_correct\n",
    "        \n",
    "        log = {\n",
    "            'emotion_correct': emotion_correct,\n",
    "            'valence_loss': valence_loss,\n",
    "            'arousal_loss': arousal_loss,\n",
    "            'emotion_loss': emotion_loss,\n",
    "            'time_take': time.time() - start_time\n",
    "        }\n",
    "        log = json.dumps(log)\n",
    "        lprint(log)\n",
    "    save_model_path = f\"models/{now_time_string}_{description}_epoch{epoch}_batch_{batch_size}\"\n",
    "    model.save(save_model_path)\n",
    "    lprint(f\"Save {save_model_path}\")\n",
    "    send_message(f\"Save {save_model_path}\\nepoch {epoch} is finish\")\n",
    "    log = {\n",
    "        'model_path': save_model_path,\n",
    "        'total_emotion_correct': total_emotion_correct,\n",
    "        'total_loss': total_loss,\n",
    "        'total_valence_loss': total_valence_loss,\n",
    "        'total_arousal_loss': total_arousal_loss,\n",
    "        'total_emotion_loss': total_emotion_loss,\n",
    "        'total_process': total_process,\n",
    "        'time_take': time.time() - start_time\n",
    "    }\n",
    "    log = json.dumps(log)\n",
    "    lprint(log)"
   ]
  },
  {
   "cell_type": "code",
   "execution_count": null,
   "metadata": {},
   "outputs": [],
   "source": []
  }
 ],
 "metadata": {
  "kernelspec": {
   "display_name": "tf27",
   "language": "python",
   "name": "tf27"
  },
  "language_info": {
   "codemirror_mode": {
    "name": "ipython",
    "version": 3
   },
   "file_extension": ".py",
   "mimetype": "text/x-python",
   "name": "python",
   "nbconvert_exporter": "python",
   "pygments_lexer": "ipython3",
   "version": "3.9.7"
  },
  "varInspector": {
   "cols": {
    "lenName": 16,
    "lenType": 16,
    "lenVar": 40
   },
   "kernels_config": {
    "python": {
     "delete_cmd_postfix": "",
     "delete_cmd_prefix": "del ",
     "library": "var_list.py",
     "varRefreshCmd": "print(var_dic_list())"
    },
    "r": {
     "delete_cmd_postfix": ") ",
     "delete_cmd_prefix": "rm(",
     "library": "var_list.r",
     "varRefreshCmd": "cat(var_dic_list()) "
    }
   },
   "types_to_exclude": [
    "module",
    "function",
    "builtin_function_or_method",
    "instance",
    "_Feature"
   ],
   "window_display": false
  }
 },
 "nbformat": 4,
 "nbformat_minor": 4
}
