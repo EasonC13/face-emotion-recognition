{
 "cells": [
  {
   "cell_type": "markdown",
   "metadata": {
    "ExecuteTime": {
     "end_time": "2022-01-18T12:50:25.876212Z",
     "start_time": "2022-01-18T12:50:25.870149Z"
    }
   },
   "source": [
    "%matplotlib inline"
   ]
  },
  {
   "cell_type": "code",
   "execution_count": 1,
   "metadata": {
    "ExecuteTime": {
     "end_time": "2022-01-19T14:57:14.285961Z",
     "start_time": "2022-01-19T14:57:12.789678Z"
    }
   },
   "outputs": [],
   "source": [
    "\n",
    "import os\n",
    "import numpy as np\n",
    "from sklearn.preprocessing import LabelEncoder\n",
    "import matplotlib.pyplot as plt\n",
    "import cv2\n",
    "from PIL import Image\n",
    "from random import shuffle\n",
    "import math\n",
    "\n",
    "import pandas as pd\n",
    "\n",
    "import pickle\n",
    "\n",
    "from sklearn.svm import SVC,LinearSVC\n",
    "from sklearn.ensemble import RandomForestClassifier, BaggingClassifier,ExtraTreesClassifier\n",
    "from sklearn.neural_network import MLPClassifier\n",
    "from sklearn import preprocessing\n",
    "\n",
    "#from scipy.misc import imread, imresize\n",
    "\n"
   ]
  },
  {
   "cell_type": "code",
   "execution_count": null,
   "metadata": {},
   "outputs": [],
   "source": []
  },
  {
   "cell_type": "code",
   "execution_count": 2,
   "metadata": {
    "ExecuteTime": {
     "end_time": "2022-01-19T14:57:18.196588Z",
     "start_time": "2022-01-19T14:57:14.287637Z"
    }
   },
   "outputs": [],
   "source": [
    "train_df = pd.read_csv('../../data/Manually_Annotated_file_lists/training_face_mesh_crop.csv')\n",
    "train_df.subDirectory_filePath = '../../data/Manually_Annotated_Images_FaceMesh_Cropped/' + train_df.subDirectory_filePath\n",
    "\n",
    "#train_df_2 = pd.read_csv('../../data/Automatically_annotated_file_list/automatically_annotated_face_mesh_crop.csv')\n",
    "#train_df_2.subDirectory_filePath = '../../data/Automatically_Annotated_Images_FaceMesh_Cropped/' + train_df_2.subDirectory_filePath\n",
    "#train_df = train_df.append(train_df_2)\n",
    "#del train_df_2\n",
    "\n",
    "train_df = train_df[train_df['have_facemesh']]"
   ]
  },
  {
   "cell_type": "markdown",
   "metadata": {
    "ExecuteTime": {
     "end_time": "2022-01-19T14:57:18.202962Z",
     "start_time": "2022-01-19T14:57:18.198038Z"
    }
   },
   "source": [
    "class DataFrameBatchIterator:\n",
    "    def __init__(self, dataframe, batch_size):\n",
    "        self.df = dataframe\n",
    "        self.index = 0\n",
    "        self.batch_size = batch_size\n",
    "\n",
    "    def __iter__(self):\n",
    "        return self\n",
    "        \n",
    "    def __next__(self):\n",
    "        if self.index < len(self.df):\n",
    "            self.index += self.batch_size\n",
    "            return self.df[self.index - self.batch_size: self.index].copy()\n",
    "        else:\n",
    "            raise StopIteration"
   ]
  },
  {
   "cell_type": "code",
   "execution_count": null,
   "metadata": {
    "ExecuteTime": {
     "end_time": "2022-01-19T13:57:18.682279Z",
     "start_time": "2022-01-19T13:57:18.670590Z"
    }
   },
   "outputs": [],
   "source": [
    "from eason_utils import DataFrameBatchIterator"
   ]
  },
  {
   "cell_type": "code",
   "execution_count": 4,
   "metadata": {
    "ExecuteTime": {
     "end_time": "2022-01-19T14:57:20.229243Z",
     "start_time": "2022-01-19T14:57:18.204895Z"
    }
   },
   "outputs": [],
   "source": [
    "os.environ['TF_CPP_MIN_LOG_LEVEL'] = '2'\n",
    "import tensorflow as tf\n",
    "config = tf.compat.v1.ConfigProto(gpu_options = tf.compat.v1.GPUOptions(allow_growth = True))\n",
    "sess = tf.compat.v1.Session(config = config)"
   ]
  },
  {
   "cell_type": "code",
   "execution_count": 5,
   "metadata": {
    "ExecuteTime": {
     "end_time": "2022-01-19T14:57:20.771813Z",
     "start_time": "2022-01-19T14:57:20.230542Z"
    }
   },
   "outputs": [
    {
     "name": "stdout",
     "output_type": "stream",
     "text": [
      "WARNING:tensorflow:No training configuration found in the save file, so the model was *not* compiled. Compile it manually.\n"
     ]
    }
   ],
   "source": [
    "mobilenet_pretrained = tf.keras.models.load_model('../models/affectnet_emotions/mobilenet_7.h5')"
   ]
  },
  {
   "cell_type": "code",
   "execution_count": 6,
   "metadata": {
    "ExecuteTime": {
     "end_time": "2022-01-19T14:57:20.775592Z",
     "start_time": "2022-01-19T14:57:20.773014Z"
    }
   },
   "outputs": [],
   "source": [
    "mobilenet_output = mobilenet_pretrained.get_layer(\"global_pooling\").output"
   ]
  },
  {
   "cell_type": "code",
   "execution_count": 7,
   "metadata": {
    "ExecuteTime": {
     "end_time": "2022-01-19T14:57:20.786240Z",
     "start_time": "2022-01-19T14:57:20.776906Z"
    }
   },
   "outputs": [],
   "source": [
    "x = (mobilenet_output)\n",
    "for size in [256]:\n",
    "    x = tf.keras.layers.Dense(size, activation = 'relu')(x)"
   ]
  },
  {
   "cell_type": "code",
   "execution_count": 8,
   "metadata": {
    "ExecuteTime": {
     "end_time": "2022-01-19T14:57:20.799942Z",
     "start_time": "2022-01-19T14:57:20.787670Z"
    }
   },
   "outputs": [],
   "source": [
    "outputs_valance = tf.keras.layers.Dense(1, activation = 'sigmoid', name = 'outputs_valance')(x)"
   ]
  },
  {
   "cell_type": "code",
   "execution_count": 9,
   "metadata": {
    "ExecuteTime": {
     "end_time": "2022-01-19T14:57:20.814415Z",
     "start_time": "2022-01-19T14:57:20.801588Z"
    }
   },
   "outputs": [],
   "source": [
    "outputs_arousal = tf.keras.layers.Dense(1, activation = 'sigmoid', name = 'outputs_arousal')(x)"
   ]
  },
  {
   "cell_type": "code",
   "execution_count": 10,
   "metadata": {
    "ExecuteTime": {
     "end_time": "2022-01-19T14:57:20.840823Z",
     "start_time": "2022-01-19T14:57:20.818177Z"
    }
   },
   "outputs": [],
   "source": [
    "emotions_count = len(np.unique(train_df.expression))\n",
    "outputs_emotion = tf.keras.layers.Dense(emotions_count, activation = 'softmax', name = 'outputs_emotion')(x)"
   ]
  },
  {
   "cell_type": "code",
   "execution_count": 11,
   "metadata": {
    "ExecuteTime": {
     "end_time": "2022-01-19T14:57:20.853787Z",
     "start_time": "2022-01-19T14:57:20.842422Z"
    }
   },
   "outputs": [],
   "source": [
    "model = tf.keras.Model(inputs=mobilenet_pretrained.input,\n",
    "                       outputs=(outputs_valance, outputs_arousal, outputs_emotion) , name=\"mobilenet_train\")"
   ]
  },
  {
   "cell_type": "code",
   "execution_count": 12,
   "metadata": {
    "ExecuteTime": {
     "end_time": "2022-01-19T14:57:20.894524Z",
     "start_time": "2022-01-19T14:57:20.855032Z"
    }
   },
   "outputs": [
    {
     "name": "stdout",
     "output_type": "stream",
     "text": [
      "Model: \"mobilenet_train\"\n",
      "__________________________________________________________________________________________________\n",
      " Layer (type)                   Output Shape         Param #     Connected to                     \n",
      "==================================================================================================\n",
      " input_1 (InputLayer)           [(None, 224, 224, 3  0           []                               \n",
      "                                )]                                                                \n",
      "                                                                                                  \n",
      " conv1_pad (ZeroPadding2D)      (None, 225, 225, 3)  0           ['input_1[0][0]']                \n",
      "                                                                                                  \n",
      " conv1 (Conv2D)                 (None, 112, 112, 32  864         ['conv1_pad[0][0]']              \n",
      "                                )                                                                 \n",
      "                                                                                                  \n",
      " conv1_bn (BatchNormalization)  (None, 112, 112, 32  128         ['conv1[0][0]']                  \n",
      "                                )                                                                 \n",
      "                                                                                                  \n",
      " conv1_relu (ReLU)              (None, 112, 112, 32  0           ['conv1_bn[0][0]']               \n",
      "                                )                                                                 \n",
      "                                                                                                  \n",
      " conv_dw_1 (DepthwiseConv2D)    (None, 112, 112, 32  288         ['conv1_relu[0][0]']             \n",
      "                                )                                                                 \n",
      "                                                                                                  \n",
      " conv_dw_1_bn (BatchNormalizati  (None, 112, 112, 32  128        ['conv_dw_1[0][0]']              \n",
      " on)                            )                                                                 \n",
      "                                                                                                  \n",
      " conv_dw_1_relu (ReLU)          (None, 112, 112, 32  0           ['conv_dw_1_bn[0][0]']           \n",
      "                                )                                                                 \n",
      "                                                                                                  \n",
      " conv_pw_1 (Conv2D)             (None, 112, 112, 64  2048        ['conv_dw_1_relu[0][0]']         \n",
      "                                )                                                                 \n",
      "                                                                                                  \n",
      " conv_pw_1_bn (BatchNormalizati  (None, 112, 112, 64  256        ['conv_pw_1[0][0]']              \n",
      " on)                            )                                                                 \n",
      "                                                                                                  \n",
      " conv_pw_1_relu (ReLU)          (None, 112, 112, 64  0           ['conv_pw_1_bn[0][0]']           \n",
      "                                )                                                                 \n",
      "                                                                                                  \n",
      " conv_pad_2 (ZeroPadding2D)     (None, 113, 113, 64  0           ['conv_pw_1_relu[0][0]']         \n",
      "                                )                                                                 \n",
      "                                                                                                  \n",
      " conv_dw_2 (DepthwiseConv2D)    (None, 56, 56, 64)   576         ['conv_pad_2[0][0]']             \n",
      "                                                                                                  \n",
      " conv_dw_2_bn (BatchNormalizati  (None, 56, 56, 64)  256         ['conv_dw_2[0][0]']              \n",
      " on)                                                                                              \n",
      "                                                                                                  \n",
      " conv_dw_2_relu (ReLU)          (None, 56, 56, 64)   0           ['conv_dw_2_bn[0][0]']           \n",
      "                                                                                                  \n",
      " conv_pw_2 (Conv2D)             (None, 56, 56, 128)  8192        ['conv_dw_2_relu[0][0]']         \n",
      "                                                                                                  \n",
      " conv_pw_2_bn (BatchNormalizati  (None, 56, 56, 128)  512        ['conv_pw_2[0][0]']              \n",
      " on)                                                                                              \n",
      "                                                                                                  \n",
      " conv_pw_2_relu (ReLU)          (None, 56, 56, 128)  0           ['conv_pw_2_bn[0][0]']           \n",
      "                                                                                                  \n",
      " conv_dw_3 (DepthwiseConv2D)    (None, 56, 56, 128)  1152        ['conv_pw_2_relu[0][0]']         \n",
      "                                                                                                  \n",
      " conv_dw_3_bn (BatchNormalizati  (None, 56, 56, 128)  512        ['conv_dw_3[0][0]']              \n",
      " on)                                                                                              \n",
      "                                                                                                  \n",
      " conv_dw_3_relu (ReLU)          (None, 56, 56, 128)  0           ['conv_dw_3_bn[0][0]']           \n",
      "                                                                                                  \n",
      " conv_pw_3 (Conv2D)             (None, 56, 56, 128)  16384       ['conv_dw_3_relu[0][0]']         \n",
      "                                                                                                  \n",
      " conv_pw_3_bn (BatchNormalizati  (None, 56, 56, 128)  512        ['conv_pw_3[0][0]']              \n",
      " on)                                                                                              \n",
      "                                                                                                  \n",
      " conv_pw_3_relu (ReLU)          (None, 56, 56, 128)  0           ['conv_pw_3_bn[0][0]']           \n",
      "                                                                                                  \n",
      " conv_pad_4 (ZeroPadding2D)     (None, 57, 57, 128)  0           ['conv_pw_3_relu[0][0]']         \n",
      "                                                                                                  \n",
      " conv_dw_4 (DepthwiseConv2D)    (None, 28, 28, 128)  1152        ['conv_pad_4[0][0]']             \n",
      "                                                                                                  \n",
      " conv_dw_4_bn (BatchNormalizati  (None, 28, 28, 128)  512        ['conv_dw_4[0][0]']              \n",
      " on)                                                                                              \n",
      "                                                                                                  \n",
      " conv_dw_4_relu (ReLU)          (None, 28, 28, 128)  0           ['conv_dw_4_bn[0][0]']           \n",
      "                                                                                                  \n",
      " conv_pw_4 (Conv2D)             (None, 28, 28, 256)  32768       ['conv_dw_4_relu[0][0]']         \n",
      "                                                                                                  \n",
      " conv_pw_4_bn (BatchNormalizati  (None, 28, 28, 256)  1024       ['conv_pw_4[0][0]']              \n",
      " on)                                                                                              \n",
      "                                                                                                  \n",
      " conv_pw_4_relu (ReLU)          (None, 28, 28, 256)  0           ['conv_pw_4_bn[0][0]']           \n",
      "                                                                                                  \n",
      " conv_dw_5 (DepthwiseConv2D)    (None, 28, 28, 256)  2304        ['conv_pw_4_relu[0][0]']         \n",
      "                                                                                                  \n",
      " conv_dw_5_bn (BatchNormalizati  (None, 28, 28, 256)  1024       ['conv_dw_5[0][0]']              \n",
      " on)                                                                                              \n",
      "                                                                                                  \n",
      " conv_dw_5_relu (ReLU)          (None, 28, 28, 256)  0           ['conv_dw_5_bn[0][0]']           \n",
      "                                                                                                  \n",
      " conv_pw_5 (Conv2D)             (None, 28, 28, 256)  65536       ['conv_dw_5_relu[0][0]']         \n",
      "                                                                                                  \n",
      " conv_pw_5_bn (BatchNormalizati  (None, 28, 28, 256)  1024       ['conv_pw_5[0][0]']              \n",
      " on)                                                                                              \n",
      "                                                                                                  \n",
      " conv_pw_5_relu (ReLU)          (None, 28, 28, 256)  0           ['conv_pw_5_bn[0][0]']           \n",
      "                                                                                                  \n",
      " conv_pad_6 (ZeroPadding2D)     (None, 29, 29, 256)  0           ['conv_pw_5_relu[0][0]']         \n",
      "                                                                                                  \n",
      " conv_dw_6 (DepthwiseConv2D)    (None, 14, 14, 256)  2304        ['conv_pad_6[0][0]']             \n",
      "                                                                                                  \n",
      " conv_dw_6_bn (BatchNormalizati  (None, 14, 14, 256)  1024       ['conv_dw_6[0][0]']              \n",
      " on)                                                                                              \n",
      "                                                                                                  \n",
      " conv_dw_6_relu (ReLU)          (None, 14, 14, 256)  0           ['conv_dw_6_bn[0][0]']           \n",
      "                                                                                                  \n",
      " conv_pw_6 (Conv2D)             (None, 14, 14, 512)  131072      ['conv_dw_6_relu[0][0]']         \n",
      "                                                                                                  \n",
      " conv_pw_6_bn (BatchNormalizati  (None, 14, 14, 512)  2048       ['conv_pw_6[0][0]']              \n",
      " on)                                                                                              \n",
      "                                                                                                  \n",
      " conv_pw_6_relu (ReLU)          (None, 14, 14, 512)  0           ['conv_pw_6_bn[0][0]']           \n",
      "                                                                                                  \n",
      " conv_dw_7 (DepthwiseConv2D)    (None, 14, 14, 512)  4608        ['conv_pw_6_relu[0][0]']         \n",
      "                                                                                                  \n",
      " conv_dw_7_bn (BatchNormalizati  (None, 14, 14, 512)  2048       ['conv_dw_7[0][0]']              \n",
      " on)                                                                                              \n",
      "                                                                                                  \n",
      " conv_dw_7_relu (ReLU)          (None, 14, 14, 512)  0           ['conv_dw_7_bn[0][0]']           \n",
      "                                                                                                  \n",
      " conv_pw_7 (Conv2D)             (None, 14, 14, 512)  262144      ['conv_dw_7_relu[0][0]']         \n",
      "                                                                                                  \n",
      " conv_pw_7_bn (BatchNormalizati  (None, 14, 14, 512)  2048       ['conv_pw_7[0][0]']              \n",
      " on)                                                                                              \n",
      "                                                                                                  \n",
      " conv_pw_7_relu (ReLU)          (None, 14, 14, 512)  0           ['conv_pw_7_bn[0][0]']           \n",
      "                                                                                                  \n",
      " conv_dw_8 (DepthwiseConv2D)    (None, 14, 14, 512)  4608        ['conv_pw_7_relu[0][0]']         \n",
      "                                                                                                  \n",
      " conv_dw_8_bn (BatchNormalizati  (None, 14, 14, 512)  2048       ['conv_dw_8[0][0]']              \n",
      " on)                                                                                              \n",
      "                                                                                                  \n",
      " conv_dw_8_relu (ReLU)          (None, 14, 14, 512)  0           ['conv_dw_8_bn[0][0]']           \n",
      "                                                                                                  \n",
      " conv_pw_8 (Conv2D)             (None, 14, 14, 512)  262144      ['conv_dw_8_relu[0][0]']         \n",
      "                                                                                                  \n",
      " conv_pw_8_bn (BatchNormalizati  (None, 14, 14, 512)  2048       ['conv_pw_8[0][0]']              \n",
      " on)                                                                                              \n",
      "                                                                                                  \n",
      " conv_pw_8_relu (ReLU)          (None, 14, 14, 512)  0           ['conv_pw_8_bn[0][0]']           \n",
      "                                                                                                  \n",
      " conv_dw_9 (DepthwiseConv2D)    (None, 14, 14, 512)  4608        ['conv_pw_8_relu[0][0]']         \n",
      "                                                                                                  \n",
      " conv_dw_9_bn (BatchNormalizati  (None, 14, 14, 512)  2048       ['conv_dw_9[0][0]']              \n",
      " on)                                                                                              \n",
      "                                                                                                  \n",
      " conv_dw_9_relu (ReLU)          (None, 14, 14, 512)  0           ['conv_dw_9_bn[0][0]']           \n",
      "                                                                                                  \n",
      " conv_pw_9 (Conv2D)             (None, 14, 14, 512)  262144      ['conv_dw_9_relu[0][0]']         \n",
      "                                                                                                  \n",
      " conv_pw_9_bn (BatchNormalizati  (None, 14, 14, 512)  2048       ['conv_pw_9[0][0]']              \n",
      " on)                                                                                              \n",
      "                                                                                                  \n",
      " conv_pw_9_relu (ReLU)          (None, 14, 14, 512)  0           ['conv_pw_9_bn[0][0]']           \n",
      "                                                                                                  \n",
      " conv_dw_10 (DepthwiseConv2D)   (None, 14, 14, 512)  4608        ['conv_pw_9_relu[0][0]']         \n",
      "                                                                                                  \n",
      " conv_dw_10_bn (BatchNormalizat  (None, 14, 14, 512)  2048       ['conv_dw_10[0][0]']             \n",
      " ion)                                                                                             \n",
      "                                                                                                  \n",
      " conv_dw_10_relu (ReLU)         (None, 14, 14, 512)  0           ['conv_dw_10_bn[0][0]']          \n",
      "                                                                                                  \n",
      " conv_pw_10 (Conv2D)            (None, 14, 14, 512)  262144      ['conv_dw_10_relu[0][0]']        \n",
      "                                                                                                  \n",
      " conv_pw_10_bn (BatchNormalizat  (None, 14, 14, 512)  2048       ['conv_pw_10[0][0]']             \n",
      " ion)                                                                                             \n",
      "                                                                                                  \n",
      " conv_pw_10_relu (ReLU)         (None, 14, 14, 512)  0           ['conv_pw_10_bn[0][0]']          \n",
      "                                                                                                  \n",
      " conv_dw_11 (DepthwiseConv2D)   (None, 14, 14, 512)  4608        ['conv_pw_10_relu[0][0]']        \n",
      "                                                                                                  \n",
      " conv_dw_11_bn (BatchNormalizat  (None, 14, 14, 512)  2048       ['conv_dw_11[0][0]']             \n",
      " ion)                                                                                             \n",
      "                                                                                                  \n",
      " conv_dw_11_relu (ReLU)         (None, 14, 14, 512)  0           ['conv_dw_11_bn[0][0]']          \n",
      "                                                                                                  \n",
      " conv_pw_11 (Conv2D)            (None, 14, 14, 512)  262144      ['conv_dw_11_relu[0][0]']        \n",
      "                                                                                                  \n",
      " conv_pw_11_bn (BatchNormalizat  (None, 14, 14, 512)  2048       ['conv_pw_11[0][0]']             \n",
      " ion)                                                                                             \n",
      "                                                                                                  \n",
      " conv_pw_11_relu (ReLU)         (None, 14, 14, 512)  0           ['conv_pw_11_bn[0][0]']          \n",
      "                                                                                                  \n",
      " conv_pad_12 (ZeroPadding2D)    (None, 15, 15, 512)  0           ['conv_pw_11_relu[0][0]']        \n",
      "                                                                                                  \n",
      " conv_dw_12 (DepthwiseConv2D)   (None, 7, 7, 512)    4608        ['conv_pad_12[0][0]']            \n",
      "                                                                                                  \n",
      " conv_dw_12_bn (BatchNormalizat  (None, 7, 7, 512)   2048        ['conv_dw_12[0][0]']             \n",
      " ion)                                                                                             \n",
      "                                                                                                  \n",
      " conv_dw_12_relu (ReLU)         (None, 7, 7, 512)    0           ['conv_dw_12_bn[0][0]']          \n",
      "                                                                                                  \n",
      " conv_pw_12 (Conv2D)            (None, 7, 7, 1024)   524288      ['conv_dw_12_relu[0][0]']        \n",
      "                                                                                                  \n",
      " conv_pw_12_bn (BatchNormalizat  (None, 7, 7, 1024)  4096        ['conv_pw_12[0][0]']             \n",
      " ion)                                                                                             \n",
      "                                                                                                  \n",
      " conv_pw_12_relu (ReLU)         (None, 7, 7, 1024)   0           ['conv_pw_12_bn[0][0]']          \n",
      "                                                                                                  \n",
      " conv_dw_13 (DepthwiseConv2D)   (None, 7, 7, 1024)   9216        ['conv_pw_12_relu[0][0]']        \n",
      "                                                                                                  \n",
      " conv_dw_13_bn (BatchNormalizat  (None, 7, 7, 1024)  4096        ['conv_dw_13[0][0]']             \n",
      " ion)                                                                                             \n",
      "                                                                                                  \n",
      " conv_dw_13_relu (ReLU)         (None, 7, 7, 1024)   0           ['conv_dw_13_bn[0][0]']          \n",
      "                                                                                                  \n",
      " conv_pw_13 (Conv2D)            (None, 7, 7, 1024)   1048576     ['conv_dw_13_relu[0][0]']        \n",
      "                                                                                                  \n",
      " conv_pw_13_bn (BatchNormalizat  (None, 7, 7, 1024)  4096        ['conv_pw_13[0][0]']             \n",
      " ion)                                                                                             \n",
      "                                                                                                  \n",
      " conv_pw_13_relu (ReLU)         (None, 7, 7, 1024)   0           ['conv_pw_13_bn[0][0]']          \n",
      "                                                                                                  \n",
      " global_pooling (GlobalAverageP  (None, 1024)        0           ['conv_pw_13_relu[0][0]']        \n",
      " ooling2D)                                                                                        \n",
      "                                                                                                  \n",
      " dense (Dense)                  (None, 256)          262400      ['global_pooling[0][0]']         \n",
      "                                                                                                  \n",
      " outputs_valance (Dense)        (None, 1)            257         ['dense[0][0]']                  \n",
      "                                                                                                  \n",
      " outputs_arousal (Dense)        (None, 1)            257         ['dense[0][0]']                  \n",
      "                                                                                                  \n",
      " outputs_emotion (Dense)        (None, 11)           2827        ['dense[0][0]']                  \n",
      "                                                                                                  \n",
      "==================================================================================================\n",
      "Total params: 3,494,605\n",
      "Trainable params: 3,472,717\n",
      "Non-trainable params: 21,888\n",
      "__________________________________________________________________________________________________\n"
     ]
    }
   ],
   "source": [
    "model.summary()"
   ]
  },
  {
   "cell_type": "code",
   "execution_count": 13,
   "metadata": {
    "ExecuteTime": {
     "end_time": "2022-01-19T14:57:20.898179Z",
     "start_time": "2022-01-19T14:57:20.895923Z"
    }
   },
   "outputs": [],
   "source": [
    "from uuid import uuid4"
   ]
  },
  {
   "cell_type": "code",
   "execution_count": 14,
   "metadata": {
    "ExecuteTime": {
     "end_time": "2022-01-19T14:57:20.901599Z",
     "start_time": "2022-01-19T14:57:20.899392Z"
    }
   },
   "outputs": [],
   "source": [
    "from datetime import datetime,tzinfo,timedelta"
   ]
  },
  {
   "cell_type": "code",
   "execution_count": 15,
   "metadata": {
    "ExecuteTime": {
     "end_time": "2022-01-19T14:57:20.908561Z",
     "start_time": "2022-01-19T14:57:20.903028Z"
    }
   },
   "outputs": [],
   "source": [
    "class Zone(tzinfo):\n",
    "    def __init__(self,offset,isdst,name):\n",
    "        self.offset = offset\n",
    "        self.isdst = isdst\n",
    "        self.name = name\n",
    "    def utcoffset(self, dt):\n",
    "        return timedelta(hours=self.offset) + self.dst(dt)\n",
    "    def dst(self, dt):\n",
    "            return timedelta(hours=1) if self.isdst else timedelta(0)\n",
    "    def tzname(self,dt):\n",
    "         return self.name"
   ]
  },
  {
   "cell_type": "code",
   "execution_count": null,
   "metadata": {
    "ExecuteTime": {
     "end_time": "2022-01-19T14:40:02.389903Z",
     "start_time": "2022-01-19T14:40:02.386818Z"
    }
   },
   "outputs": [],
   "source": []
  },
  {
   "cell_type": "code",
   "execution_count": 16,
   "metadata": {
    "ExecuteTime": {
     "end_time": "2022-01-19T14:57:20.917199Z",
     "start_time": "2022-01-19T14:57:20.910298Z"
    }
   },
   "outputs": [
    {
     "name": "stdout",
     "output_type": "stream",
     "text": [
      "log_file_name='01_19_22:57:20.log'\n"
     ]
    }
   ],
   "source": [
    "d = datetime.now(tz=Zone(8,False,'GMT'))\n",
    "now_time_string = d.strftime(\"%m_%d_%H:%M:%S\")\n",
    "log_file_name = f\"{now_time_string}.log\"\n",
    "print(f\"{log_file_name=}\")\n",
    "def lprint(text, *args, **kwargs):\n",
    "    texts = [text] + list(args)\n",
    "    texts = map(lambda x: str(x), texts)\n",
    "    text = ' '.join(texts)\n",
    "    print(text)\n",
    "    with open(log_file_name, 'a') as f:\n",
    "        f.write(datetime.now(tz=Zone(8,False,'GMT')).strftime(\"%m_%d_%H:%M:%S \") + text + \"\\n\")"
   ]
  },
  {
   "cell_type": "code",
   "execution_count": 17,
   "metadata": {
    "ExecuteTime": {
     "end_time": "2022-01-19T14:57:20.922210Z",
     "start_time": "2022-01-19T14:57:20.918976Z"
    }
   },
   "outputs": [
    {
     "name": "stdout",
     "output_type": "stream",
     "text": [
      "Hello\n"
     ]
    }
   ],
   "source": [
    "lprint(\"Hello\")"
   ]
  },
  {
   "cell_type": "code",
   "execution_count": 18,
   "metadata": {
    "ExecuteTime": {
     "end_time": "2022-01-19T14:57:20.926285Z",
     "start_time": "2022-01-19T14:57:20.923943Z"
    }
   },
   "outputs": [],
   "source": [
    "#model.layers[1].trainable = False"
   ]
  },
  {
   "cell_type": "code",
   "execution_count": 19,
   "metadata": {
    "ExecuteTime": {
     "end_time": "2022-01-19T14:57:20.930785Z",
     "start_time": "2022-01-19T14:57:20.927644Z"
    }
   },
   "outputs": [],
   "source": [
    "# Instantiate an optimizer.\n",
    "optimizer = tf.keras.optimizers.Adam()\n",
    "# Instantiate a loss function.\n",
    "MSE_loss = tf.keras.losses.MeanSquaredError()\n",
    "SCC_loss = tf.keras.losses.SparseCategoricalCrossentropy()"
   ]
  },
  {
   "cell_type": "code",
   "execution_count": 20,
   "metadata": {
    "ExecuteTime": {
     "end_time": "2022-01-19T14:57:20.934381Z",
     "start_time": "2022-01-19T14:57:20.932158Z"
    }
   },
   "outputs": [],
   "source": [
    "batch_size = 32\n",
    "epochs = 4"
   ]
  },
  {
   "cell_type": "code",
   "execution_count": null,
   "metadata": {
    "ExecuteTime": {
     "start_time": "2022-01-19T14:57:07.610Z"
    }
   },
   "outputs": [
    {
     "name": "stdout",
     "output_type": "stream",
     "text": [
      "Training loss at epoch 0 step 0: 8.087566375732422\n",
      " This round's valence_loss=2.7215681076049805, arousal_loss=2.8208649158477783, emotion_loss=2.545133113861084\n",
      "Seen so far: 32 samples\n",
      "--- 2.6277694702148438 seconds for iter 1 step, each step have 32, so the model train with 32 img this iter ---\n",
      "\n",
      "Training loss at epoch 0 step 10: 3.6479535579681395\n",
      " This round's valence_loss=0.7429653406143188, arousal_loss=0.5692674517631531, emotion_loss=0.9357542991638184\n",
      "Seen so far: 352 samples\n",
      "--- 2.347302198410034 seconds for iter 10 step, each step have 32, so the model train with 320 img this iter ---\n",
      "\n",
      "Training loss at epoch 0 step 20: 3.7847675561904905\n",
      " This round's valence_loss=1.137237310409546, arousal_loss=0.9827213287353516, emotion_loss=1.3837642669677734\n",
      "Seen so far: 672 samples\n",
      "--- 2.1026318073272705 seconds for iter 10 step, each step have 32, so the model train with 320 img this iter ---\n",
      "\n",
      "Training loss at epoch 0 step 30: 3.559966230392456\n",
      " This round's valence_loss=1.1112358570098877, arousal_loss=0.962652325630188, emotion_loss=1.4571177959442139\n",
      "Seen so far: 992 samples\n",
      "--- 2.027730941772461 seconds for iter 10 step, each step have 32, so the model train with 320 img this iter ---\n",
      "\n",
      "Training loss at epoch 0 step 40: 3.605144238471985\n",
      " This round's valence_loss=0.9650636315345764, arousal_loss=0.8533121943473816, emotion_loss=1.5421113967895508\n",
      "Seen so far: 1312 samples\n",
      "--- 2.1885528564453125 seconds for iter 10 step, each step have 32, so the model train with 320 img this iter ---\n",
      "\n",
      "Training loss at epoch 0 step 50: 3.2378413677215576\n",
      " This round's valence_loss=1.343108892440796, arousal_loss=1.2203395366668701, emotion_loss=1.4118895530700684\n",
      "Seen so far: 1632 samples\n",
      "--- 1.9736065864562988 seconds for iter 10 step, each step have 32, so the model train with 320 img this iter ---\n",
      "\n",
      "Training loss at epoch 0 step 60: 3.3942621469497682\n",
      " This round's valence_loss=0.9488053321838379, arousal_loss=0.8699268102645874, emotion_loss=1.139660358428955\n",
      "Seen so far: 1952 samples\n",
      "--- 2.0629007816314697 seconds for iter 10 step, each step have 32, so the model train with 320 img this iter ---\n",
      "\n",
      "Training loss at epoch 0 step 70: 2.9871278285980223\n",
      " This round's valence_loss=0.5894240140914917, arousal_loss=0.34761083126068115, emotion_loss=0.9487240314483643\n",
      "Seen so far: 2272 samples\n",
      "--- 1.982588291168213 seconds for iter 10 step, each step have 32, so the model train with 320 img this iter ---\n",
      "\n",
      "Training loss at epoch 0 step 80: 3.44778391122818\n",
      " This round's valence_loss=1.8049993515014648, arousal_loss=1.7222485542297363, emotion_loss=1.1974027156829834\n",
      "Seen so far: 2592 samples\n",
      "--- 1.9894287586212158 seconds for iter 10 step, each step have 32, so the model train with 320 img this iter ---\n",
      "\n",
      "Training loss at epoch 0 step 90: 3.1803644418716432\n",
      " This round's valence_loss=1.3217469453811646, arousal_loss=1.1781771183013916, emotion_loss=1.0100326538085938\n",
      "Seen so far: 2912 samples\n",
      "--- 1.8811063766479492 seconds for iter 10 step, each step have 32, so the model train with 320 img this iter ---\n",
      "\n",
      "Training loss at epoch 0 step 100: 3.3524526596069335\n",
      " This round's valence_loss=0.595697283744812, arousal_loss=0.4894208312034607, emotion_loss=1.3029413223266602\n",
      "Seen so far: 3232 samples\n",
      "--- 1.9817016124725342 seconds for iter 10 step, each step have 32, so the model train with 320 img this iter ---\n",
      "\n",
      "Training loss at epoch 0 step 110: 3.534974217414856\n",
      " This round's valence_loss=1.2486215829849243, arousal_loss=1.09438157081604, emotion_loss=1.3239243030548096\n",
      "Seen so far: 3552 samples\n",
      "--- 2.0937514305114746 seconds for iter 10 step, each step have 32, so the model train with 320 img this iter ---\n",
      "\n",
      "Training loss at epoch 0 step 120: 3.4369171380996706\n",
      " This round's valence_loss=1.0703883171081543, arousal_loss=0.9782328605651855, emotion_loss=1.7222354412078857\n",
      "Seen so far: 3872 samples\n",
      "--- 1.9621241092681885 seconds for iter 10 step, each step have 32, so the model train with 320 img this iter ---\n",
      "\n"
     ]
    }
   ],
   "source": [
    "from telegram_notifier import send_message\n",
    "import time\n",
    "start_time = time.time()\n",
    "\n",
    "total_loss = 0\n",
    "total_step = 0\n",
    "for epoch in range(epochs):\n",
    "    for step, row in enumerate(DataFrameBatchIterator(train_df, batch_size=batch_size)):\n",
    "\n",
    "        imgs = row.subDirectory_filePath.apply(lambda x: cv2.resize(\n",
    "            cv2.cvtColor(cv2.imread(x), cv2.COLOR_BGR2RGB), (224, 224)))\n",
    "        img_array = np.array(list(imgs))\n",
    "\n",
    "        y_valence = np.array(row.valence)\n",
    "        y_arousal = np.array(row.arousal)\n",
    "        y_emotion = np.array(row.expression)\n",
    "\n",
    "        with tf.GradientTape() as tape:\n",
    "            logits = model(img_array, training=True)\n",
    "\n",
    "            pred_valence = logits[0]\n",
    "            pred_arousal = logits[1]\n",
    "            pred_emotion = logits[2]\n",
    "\n",
    "            valence_loss = MSE_loss(y_valence, pred_valence)\n",
    "            arousal_loss = MSE_loss(y_arousal, pred_arousal)\n",
    "            emotion_loss = SCC_loss(y_emotion, pred_emotion)\n",
    "\n",
    "            loss = valence_loss + arousal_loss + emotion_loss\n",
    "\n",
    "            grads = tape.gradient(loss, model.trainable_weights)\n",
    "\n",
    "            optimizer.apply_gradients(zip(grads, model.trainable_weights))\n",
    "        total_loss += float(loss)\n",
    "        total_step += 1\n",
    "\n",
    "        valence_loss = float(valence_loss)\n",
    "        arousal_loss = float(arousal_loss)\n",
    "        emotion_loss = float(emotion_loss)\n",
    "        if step % 10 == 0:\n",
    "            lprint(\n",
    "                f\"Training loss at epoch {epoch} step {step}: {total_loss/total_step}\\n\",\n",
    "                f\"This round's {valence_loss=}, {arousal_loss=}, {emotion_loss=}\"\n",
    "            )\n",
    "            lprint(\"Seen so far: %s samples\" % ((step + 1) * batch_size))\n",
    "            lprint(f\"--- {time.time() - start_time} seconds for iter {total_step} step, each step have {batch_size}, so the model train with {total_step*batch_size} img this iter ---\\n\")\n",
    "            total_loss = 0\n",
    "            total_step = 0\n",
    "\n",
    "            start_time = time.time()\n",
    "    model.save(f\"models/{now_time_string}_epoch{epoch}_batch{batch_size}\")\n",
    "    send_message(f\"epoch {epoch} is finish\")"
   ]
  },
  {
   "cell_type": "code",
   "execution_count": 46,
   "metadata": {
    "ExecuteTime": {
     "end_time": "2022-01-20T03:23:33.045411Z",
     "start_time": "2022-01-20T03:23:32.959288Z"
    }
   },
   "outputs": [],
   "source": [
    "eval_df = pd.read_csv('../../data/Manually_Annotated_file_lists/validation_face_mesh_crop.csv')\n",
    "eval_df.subDirectory_filePath = '../../data/Manually_Annotated_Images_FaceMesh_Cropped/' + eval_df.subDirectory_filePath\n",
    "\n",
    "\n",
    "eval_df = eval_df[eval_df['have_facemesh']]"
   ]
  },
  {
   "cell_type": "code",
   "execution_count": null,
   "metadata": {},
   "outputs": [],
   "source": []
  },
  {
   "cell_type": "code",
   "execution_count": 49,
   "metadata": {
    "ExecuteTime": {
     "end_time": "2022-01-20T03:23:56.322531Z",
     "start_time": "2022-01-20T03:23:56.318685Z"
    }
   },
   "outputs": [],
   "source": [
    "import tqdm"
   ]
  },
  {
   "cell_type": "code",
   "execution_count": 60,
   "metadata": {
    "ExecuteTime": {
     "end_time": "2022-01-20T03:26:45.925859Z",
     "start_time": "2022-01-20T03:26:17.009512Z"
    }
   },
   "outputs": [
    {
     "name": "stderr",
     "output_type": "stream",
     "text": [
      "12710it [00:28, 439.72it/s]                                                     "
     ]
    },
    {
     "name": "stdout",
     "output_type": "stream",
     "text": [
      "--- 28.90762186050415 seconds for evaluate 5452 image ---\n",
      "\n"
     ]
    },
    {
     "name": "stderr",
     "output_type": "stream",
     "text": [
      "\n"
     ]
    }
   ],
   "source": [
    "total_process = 0\n",
    "start_time = time.time()\n",
    "\n",
    "total_loss = 0\n",
    "total_step = 0\n",
    "total_valence_loss = 0\n",
    "total_arousal_loss = 0\n",
    "total_emotion_loss = 0\n",
    "for step, row in tqdm.tqdm(enumerate(DataFrameBatchIterator(eval_df, batch_size=batch_size)), total = len(eval_df) / batch_size):\n",
    "    if len(row) == 0:\n",
    "        continue\n",
    "    imgs = row.subDirectory_filePath.apply(lambda x: cv2.resize(\n",
    "        cv2.cvtColor(cv2.imread(x), cv2.COLOR_BGR2RGB), (224, 224)))\n",
    "\n",
    "    img_array = np.array(list(imgs))\n",
    "\n",
    "    y_valence = np.array(row.valence)\n",
    "    y_arousal = np.array(row.arousal)\n",
    "    y_emotion = np.array(row.expression)\n",
    "\n",
    "\n",
    "    logits = model(img_array, training=True)\n",
    "\n",
    "    pred_valence = logits[0]\n",
    "    pred_arousal = logits[1]\n",
    "    pred_emotion = logits[2]\n",
    "\n",
    "    valence_loss = MSE_loss(y_valence, pred_valence)\n",
    "    arousal_loss = MSE_loss(y_arousal, pred_arousal)\n",
    "    emotion_loss = SCC_loss(y_emotion, pred_emotion)\n",
    "\n",
    "    loss = valence_loss + arousal_loss + emotion_loss\n",
    "\n",
    "    total_loss += float(loss)\n",
    "    total_step += 1\n",
    "    total_process += len(img_array)\n",
    "\n",
    "    total_valence_loss += float(valence_loss)\n",
    "    total_arousal_loss += float(arousal_loss)\n",
    "    total_emotion_loss += float(emotion_loss)\n",
    "lprint(f\"--- {time.time() - start_time} seconds for evaluate {total_process} image ---\\n\")"
   ]
  },
  {
   "cell_type": "code",
   "execution_count": 62,
   "metadata": {
    "ExecuteTime": {
     "end_time": "2022-01-20T03:27:04.128968Z",
     "start_time": "2022-01-20T03:27:04.125027Z"
    }
   },
   "outputs": [
    {
     "data": {
      "text/plain": [
       "0.1227161291759852"
      ]
     },
     "execution_count": 62,
     "metadata": {},
     "output_type": "execute_result"
    }
   ],
   "source": [
    "total_loss/total_process"
   ]
  },
  {
   "cell_type": "code",
   "execution_count": 64,
   "metadata": {
    "ExecuteTime": {
     "end_time": "2022-01-20T03:27:12.902846Z",
     "start_time": "2022-01-20T03:27:12.899082Z"
    }
   },
   "outputs": [
    {
     "data": {
      "text/plain": [
       "0.0287551013636659"
      ]
     },
     "execution_count": 64,
     "metadata": {},
     "output_type": "execute_result"
    }
   ],
   "source": [
    "total_valence_loss/total_process"
   ]
  },
  {
   "cell_type": "code",
   "execution_count": 65,
   "metadata": {
    "ExecuteTime": {
     "end_time": "2022-01-20T03:27:19.127918Z",
     "start_time": "2022-01-20T03:27:19.123647Z"
    }
   },
   "outputs": [
    {
     "data": {
      "text/plain": [
       "0.02919404697894875"
      ]
     },
     "execution_count": 65,
     "metadata": {},
     "output_type": "execute_result"
    }
   ],
   "source": [
    "total_arousal_loss/total_process"
   ]
  },
  {
   "cell_type": "code",
   "execution_count": 66,
   "metadata": {
    "ExecuteTime": {
     "end_time": "2022-01-20T03:27:25.892862Z",
     "start_time": "2022-01-20T03:27:25.889511Z"
    }
   },
   "outputs": [
    {
     "data": {
      "text/plain": [
       "0.06476698066938125"
      ]
     },
     "execution_count": 66,
     "metadata": {},
     "output_type": "execute_result"
    }
   ],
   "source": [
    "total_emotion_loss/total_process"
   ]
  },
  {
   "cell_type": "code",
   "execution_count": null,
   "metadata": {},
   "outputs": [],
   "source": []
  },
  {
   "cell_type": "code",
   "execution_count": null,
   "metadata": {},
   "outputs": [],
   "source": [
    "model.evaluate()"
   ]
  },
  {
   "cell_type": "code",
   "execution_count": 44,
   "metadata": {
    "ExecuteTime": {
     "end_time": "2022-01-20T03:23:09.117168Z",
     "start_time": "2022-01-20T03:23:09.111260Z"
    }
   },
   "outputs": [
    {
     "data": {
      "text/plain": [
       "360480"
      ]
     },
     "execution_count": 44,
     "metadata": {},
     "output_type": "execute_result"
    }
   ],
   "source": [
    "total_process"
   ]
  },
  {
   "cell_type": "code",
   "execution_count": null,
   "metadata": {},
   "outputs": [],
   "source": []
  },
  {
   "cell_type": "code",
   "execution_count": 45,
   "metadata": {
    "ExecuteTime": {
     "end_time": "2022-01-20T03:23:14.845197Z",
     "start_time": "2022-01-20T03:23:14.812532Z"
    }
   },
   "outputs": [
    {
     "data": {
      "text/html": [
       "<div>\n",
       "<style scoped>\n",
       "    .dataframe tbody tr th:only-of-type {\n",
       "        vertical-align: middle;\n",
       "    }\n",
       "\n",
       "    .dataframe tbody tr th {\n",
       "        vertical-align: top;\n",
       "    }\n",
       "\n",
       "    .dataframe thead th {\n",
       "        text-align: right;\n",
       "    }\n",
       "</style>\n",
       "<table border=\"1\" class=\"dataframe\">\n",
       "  <thead>\n",
       "    <tr style=\"text-align: right;\">\n",
       "      <th></th>\n",
       "      <th>subDirectory_filePath</th>\n",
       "      <th>face_x</th>\n",
       "      <th>face_y</th>\n",
       "      <th>face_width</th>\n",
       "      <th>face_height</th>\n",
       "      <th>facial_landmarks</th>\n",
       "      <th>expression</th>\n",
       "      <th>valence</th>\n",
       "      <th>arousal</th>\n",
       "      <th>have_facemesh</th>\n",
       "    </tr>\n",
       "  </thead>\n",
       "  <tbody>\n",
       "    <tr>\n",
       "      <th>0</th>\n",
       "      <td>../../data/Manually_Annotated_Images_FaceMesh_...</td>\n",
       "      <td>134.0</td>\n",
       "      <td>134.0</td>\n",
       "      <td>899</td>\n",
       "      <td>899</td>\n",
       "      <td>181.64;530.91;188.32;627.82;195.1;723.37;205.2...</td>\n",
       "      <td>1</td>\n",
       "      <td>0.785714</td>\n",
       "      <td>-0.055556</td>\n",
       "      <td>True</td>\n",
       "    </tr>\n",
       "    <tr>\n",
       "      <th>1</th>\n",
       "      <td>../../data/Manually_Annotated_Images_FaceMesh_...</td>\n",
       "      <td>20.0</td>\n",
       "      <td>20.0</td>\n",
       "      <td>137</td>\n",
       "      <td>137</td>\n",
       "      <td>28.82;77.52;29.12;93.25;31.04;108.51;33.03;123...</td>\n",
       "      <td>0</td>\n",
       "      <td>-0.017253</td>\n",
       "      <td>0.004313</td>\n",
       "      <td>True</td>\n",
       "    </tr>\n",
       "    <tr>\n",
       "      <th>2</th>\n",
       "      <td>../../data/Manually_Annotated_Images_FaceMesh_...</td>\n",
       "      <td>11.0</td>\n",
       "      <td>11.0</td>\n",
       "      <td>176</td>\n",
       "      <td>176</td>\n",
       "      <td>30.52;87.33;32.55;106.43;36.94;125.81;43.06;14...</td>\n",
       "      <td>0</td>\n",
       "      <td>0.174603</td>\n",
       "      <td>0.007937</td>\n",
       "      <td>True</td>\n",
       "    </tr>\n",
       "    <tr>\n",
       "      <th>3</th>\n",
       "      <td>../../data/Manually_Annotated_Images_FaceMesh_...</td>\n",
       "      <td>40.0</td>\n",
       "      <td>40.0</td>\n",
       "      <td>269</td>\n",
       "      <td>269</td>\n",
       "      <td>44.43;158.17;47.08;189.2;50.54;221.88;58.3;253...</td>\n",
       "      <td>1</td>\n",
       "      <td>0.153401</td>\n",
       "      <td>0.038890</td>\n",
       "      <td>True</td>\n",
       "    </tr>\n",
       "    <tr>\n",
       "      <th>4</th>\n",
       "      <td>../../data/Manually_Annotated_Images_FaceMesh_...</td>\n",
       "      <td>22.0</td>\n",
       "      <td>22.0</td>\n",
       "      <td>153</td>\n",
       "      <td>153</td>\n",
       "      <td>50.59;78.72;48.6;93.23;48.72;109.06;48.8;123.0...</td>\n",
       "      <td>8</td>\n",
       "      <td>0.783972</td>\n",
       "      <td>-0.551684</td>\n",
       "      <td>True</td>\n",
       "    </tr>\n",
       "    <tr>\n",
       "      <th>...</th>\n",
       "      <td>...</td>\n",
       "      <td>...</td>\n",
       "      <td>...</td>\n",
       "      <td>...</td>\n",
       "      <td>...</td>\n",
       "      <td>...</td>\n",
       "      <td>...</td>\n",
       "      <td>...</td>\n",
       "      <td>...</td>\n",
       "      <td>...</td>\n",
       "    </tr>\n",
       "    <tr>\n",
       "      <th>414795</th>\n",
       "      <td>../../data/Manually_Annotated_Images_FaceMesh_...</td>\n",
       "      <td>52.0</td>\n",
       "      <td>52.0</td>\n",
       "      <td>348</td>\n",
       "      <td>348</td>\n",
       "      <td>83.9;225.92;88.93;260.62;97.28;296.78;108.34;3...</td>\n",
       "      <td>2</td>\n",
       "      <td>-0.662960</td>\n",
       "      <td>-0.249501</td>\n",
       "      <td>True</td>\n",
       "    </tr>\n",
       "    <tr>\n",
       "      <th>414796</th>\n",
       "      <td>../../data/Manually_Annotated_Images_FaceMesh_...</td>\n",
       "      <td>49.0</td>\n",
       "      <td>49.0</td>\n",
       "      <td>330</td>\n",
       "      <td>330</td>\n",
       "      <td>106.87;161.43;105.49;191.66;109.81;224.48;113....</td>\n",
       "      <td>2</td>\n",
       "      <td>-0.833333</td>\n",
       "      <td>-0.380952</td>\n",
       "      <td>True</td>\n",
       "    </tr>\n",
       "    <tr>\n",
       "      <th>414797</th>\n",
       "      <td>../../data/Manually_Annotated_Images_FaceMesh_...</td>\n",
       "      <td>28.0</td>\n",
       "      <td>28.0</td>\n",
       "      <td>191</td>\n",
       "      <td>191</td>\n",
       "      <td>52.53;97.98;50.5;116.98;50.65;136.12;53.3;155....</td>\n",
       "      <td>1</td>\n",
       "      <td>0.542562</td>\n",
       "      <td>-0.015803</td>\n",
       "      <td>True</td>\n",
       "    </tr>\n",
       "    <tr>\n",
       "      <th>414798</th>\n",
       "      <td>../../data/Manually_Annotated_Images_FaceMesh_...</td>\n",
       "      <td>65.0</td>\n",
       "      <td>65.0</td>\n",
       "      <td>724</td>\n",
       "      <td>724</td>\n",
       "      <td>95.85;340.5;99.96;432.63;117.87;521.21;138.52;...</td>\n",
       "      <td>10</td>\n",
       "      <td>-2.000000</td>\n",
       "      <td>-2.000000</td>\n",
       "      <td>True</td>\n",
       "    </tr>\n",
       "    <tr>\n",
       "      <th>414799</th>\n",
       "      <td>../../data/Manually_Annotated_Images_FaceMesh_...</td>\n",
       "      <td>17.0</td>\n",
       "      <td>17.0</td>\n",
       "      <td>266</td>\n",
       "      <td>266</td>\n",
       "      <td>9.41;132.61;11.55;165.9;16.94;200.19;27.08;232...</td>\n",
       "      <td>10</td>\n",
       "      <td>-2.000000</td>\n",
       "      <td>-2.000000</td>\n",
       "      <td>True</td>\n",
       "    </tr>\n",
       "  </tbody>\n",
       "</table>\n",
       "<p>406719 rows × 10 columns</p>\n",
       "</div>"
      ],
      "text/plain": [
       "                                    subDirectory_filePath  face_x  face_y  \\\n",
       "0       ../../data/Manually_Annotated_Images_FaceMesh_...   134.0   134.0   \n",
       "1       ../../data/Manually_Annotated_Images_FaceMesh_...    20.0    20.0   \n",
       "2       ../../data/Manually_Annotated_Images_FaceMesh_...    11.0    11.0   \n",
       "3       ../../data/Manually_Annotated_Images_FaceMesh_...    40.0    40.0   \n",
       "4       ../../data/Manually_Annotated_Images_FaceMesh_...    22.0    22.0   \n",
       "...                                                   ...     ...     ...   \n",
       "414795  ../../data/Manually_Annotated_Images_FaceMesh_...    52.0    52.0   \n",
       "414796  ../../data/Manually_Annotated_Images_FaceMesh_...    49.0    49.0   \n",
       "414797  ../../data/Manually_Annotated_Images_FaceMesh_...    28.0    28.0   \n",
       "414798  ../../data/Manually_Annotated_Images_FaceMesh_...    65.0    65.0   \n",
       "414799  ../../data/Manually_Annotated_Images_FaceMesh_...    17.0    17.0   \n",
       "\n",
       "        face_width  face_height  \\\n",
       "0              899          899   \n",
       "1              137          137   \n",
       "2              176          176   \n",
       "3              269          269   \n",
       "4              153          153   \n",
       "...            ...          ...   \n",
       "414795         348          348   \n",
       "414796         330          330   \n",
       "414797         191          191   \n",
       "414798         724          724   \n",
       "414799         266          266   \n",
       "\n",
       "                                         facial_landmarks  expression  \\\n",
       "0       181.64;530.91;188.32;627.82;195.1;723.37;205.2...           1   \n",
       "1       28.82;77.52;29.12;93.25;31.04;108.51;33.03;123...           0   \n",
       "2       30.52;87.33;32.55;106.43;36.94;125.81;43.06;14...           0   \n",
       "3       44.43;158.17;47.08;189.2;50.54;221.88;58.3;253...           1   \n",
       "4       50.59;78.72;48.6;93.23;48.72;109.06;48.8;123.0...           8   \n",
       "...                                                   ...         ...   \n",
       "414795  83.9;225.92;88.93;260.62;97.28;296.78;108.34;3...           2   \n",
       "414796  106.87;161.43;105.49;191.66;109.81;224.48;113....           2   \n",
       "414797  52.53;97.98;50.5;116.98;50.65;136.12;53.3;155....           1   \n",
       "414798  95.85;340.5;99.96;432.63;117.87;521.21;138.52;...          10   \n",
       "414799  9.41;132.61;11.55;165.9;16.94;200.19;27.08;232...          10   \n",
       "\n",
       "         valence   arousal  have_facemesh  \n",
       "0       0.785714 -0.055556           True  \n",
       "1      -0.017253  0.004313           True  \n",
       "2       0.174603  0.007937           True  \n",
       "3       0.153401  0.038890           True  \n",
       "4       0.783972 -0.551684           True  \n",
       "...          ...       ...            ...  \n",
       "414795 -0.662960 -0.249501           True  \n",
       "414796 -0.833333 -0.380952           True  \n",
       "414797  0.542562 -0.015803           True  \n",
       "414798 -2.000000 -2.000000           True  \n",
       "414799 -2.000000 -2.000000           True  \n",
       "\n",
       "[406719 rows x 10 columns]"
      ]
     },
     "execution_count": 45,
     "metadata": {},
     "output_type": "execute_result"
    }
   ],
   "source": [
    "eval_df"
   ]
  },
  {
   "cell_type": "code",
   "execution_count": null,
   "metadata": {},
   "outputs": [],
   "source": []
  }
 ],
 "metadata": {
  "kernelspec": {
   "display_name": "tf27",
   "language": "python",
   "name": "tf27"
  },
  "language_info": {
   "codemirror_mode": {
    "name": "ipython",
    "version": 3
   },
   "file_extension": ".py",
   "mimetype": "text/x-python",
   "name": "python",
   "nbconvert_exporter": "python",
   "pygments_lexer": "ipython3",
   "version": "3.9.7"
  },
  "varInspector": {
   "cols": {
    "lenName": 16,
    "lenType": 16,
    "lenVar": 40
   },
   "kernels_config": {
    "python": {
     "delete_cmd_postfix": "",
     "delete_cmd_prefix": "del ",
     "library": "var_list.py",
     "varRefreshCmd": "print(var_dic_list())"
    },
    "r": {
     "delete_cmd_postfix": ") ",
     "delete_cmd_prefix": "rm(",
     "library": "var_list.r",
     "varRefreshCmd": "cat(var_dic_list()) "
    }
   },
   "types_to_exclude": [
    "module",
    "function",
    "builtin_function_or_method",
    "instance",
    "_Feature"
   ],
   "window_display": false
  }
 },
 "nbformat": 4,
 "nbformat_minor": 4
}
